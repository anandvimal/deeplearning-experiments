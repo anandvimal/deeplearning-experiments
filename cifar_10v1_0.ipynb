{
  "nbformat": 4,
  "nbformat_minor": 0,
  "metadata": {
    "colab": {
      "name": "cifar-10v1.0.ipynb",
      "version": "0.3.2",
      "provenance": [],
      "include_colab_link": true
    },
    "kernelspec": {
      "name": "python3",
      "display_name": "Python 3"
    }
  },
  "cells": [
    {
      "cell_type": "markdown",
      "metadata": {
        "id": "view-in-github",
        "colab_type": "text"
      },
      "source": [
        "<a href=\"https://colab.research.google.com/github/anandvimal/deeplearning-experiments/blob/master/cifar_10v1_0.ipynb\" target=\"_parent\"><img src=\"https://colab.research.google.com/assets/colab-badge.svg\" alt=\"Open In Colab\"/></a>"
      ]
    },
    {
      "metadata": {
        "id": "k5as3IS_ogim",
        "colab_type": "text"
      },
      "cell_type": "markdown",
      "source": [
        "#Experiment 1.0 on CIFAR-10 dataset\n",
        "\n"
      ]
    },
    {
      "metadata": {
        "id": "2rKiAXcooXfj",
        "colab_type": "code",
        "colab": {}
      },
      "cell_type": "code",
      "source": [
        "from keras.datasets import cifar10\n",
        "from keras.utils import np_utils\n",
        "from keras.models import Sequential\n",
        "from keras.layers.core import Dense, Dropout, Activation, Flatten\n",
        "from keras.layers.convolutional import Conv2D, MaxPooling2D\n",
        "from keras.optimizers import SGD, Adam, RMSprop\n",
        "import matplotlib.pyplot as plt"
      ],
      "execution_count": 0,
      "outputs": []
    },
    {
      "metadata": {
        "id": "Dwfq2RE9HeY6",
        "colab_type": "code",
        "colab": {}
      },
      "cell_type": "code",
      "source": [
        "#cifar-10 is a set of 60k images each of 32*32 pixels on 3 channels(rgb)\n",
        "IMG_CHANNELS = 3\n",
        "IMG_ROWS = 32\n",
        "IMG_COLS = 32"
      ],
      "execution_count": 0,
      "outputs": []
    },
    {
      "metadata": {
        "id": "EcTgnyQgMoF4",
        "colab_type": "code",
        "colab": {}
      },
      "cell_type": "code",
      "source": [
        "#constatnts\n",
        "BATCH_SIZE = 128\n",
        "NB_EPOCH = 20\n",
        "NB_CLASSES = 10\n",
        "VERBOSE = 1\n",
        "VALIDATION_SPLIT = 0.2\n",
        "OPTIM = RMSprop()\n"
      ],
      "execution_count": 0,
      "outputs": []
    },
    {
      "metadata": {
        "id": "b3NrafNyQZMe",
        "colab_type": "code",
        "outputId": "05d05d86-a70d-45fd-bee3-a4526cffd64f",
        "colab": {
          "base_uri": "https://localhost:8080/",
          "height": 67
        }
      },
      "cell_type": "code",
      "source": [
        "#load dataset\n",
        "(X_train, y_train), (X_test, y_test) =cifar10.load_data()\n",
        "print('X_train shape: ',X_train.shape)\n",
        "print(X_train.shape[0],'train samples')\n",
        "print(X_test.shape[0], 'test samples')"
      ],
      "execution_count": 14,
      "outputs": [
        {
          "output_type": "stream",
          "text": [
            "X_train shape:  (50000, 32, 32, 3)\n",
            "50000 train samples\n",
            "10000 test samples\n"
          ],
          "name": "stdout"
        }
      ]
    },
    {
      "metadata": {
        "id": "gtC-rw33Q7Id",
        "colab_type": "code",
        "colab": {}
      },
      "cell_type": "code",
      "source": [
        "# one hot encoding of labels\n",
        "Y_train = np_utils.to_categorical(y_train, NB_CLASSES)\n",
        "Y_test = np_utils.to_categorical(y_test, NB_CLASSES)"
      ],
      "execution_count": 0,
      "outputs": []
    },
    {
      "metadata": {
        "id": "xtrEuIGzH7bi",
        "colab_type": "code",
        "colab": {}
      },
      "cell_type": "code",
      "source": [
        "#Normalization of labels\n",
        "X_train = X_train.astype('float32')\n",
        "X_test = X_test.astype('float32')\n",
        "\n",
        "X_train /= 255\n",
        "X_test /= 255"
      ],
      "execution_count": 0,
      "outputs": []
    },
    {
      "metadata": {
        "id": "wsGqbfVuIS6_",
        "colab_type": "code",
        "outputId": "0b292318-c957-4d75-83a2-8b8bfbc8c76f",
        "colab": {
          "base_uri": "https://localhost:8080/",
          "height": 437
        }
      },
      "cell_type": "code",
      "source": [
        "# network/model\n",
        "model = Sequential()\n",
        "\n",
        "#starting with conv2d and maxpooling\n",
        "model.add(Conv2D(32, (3,3), padding='same', input_shape=(IMG_ROWS, IMG_COLS, IMG_CHANNELS)))\n",
        "model.add(Activation('relu'))\n",
        "model.add(MaxPooling2D(pool_size=(2,2)))\n",
        "\n",
        "#flatten the model and use dense layers with dropout\n",
        "model.add(Flatten())\n",
        "model.add(Dense(512))\n",
        "model.add(Activation('relu'))\n",
        "model.add(Dropout(0.5))\n",
        "model.add(Dense(NB_CLASSES))\n",
        "model.add(Activation('softmax'))\n",
        "model.summary()\n"
      ],
      "execution_count": 17,
      "outputs": [
        {
          "output_type": "stream",
          "text": [
            "_________________________________________________________________\n",
            "Layer (type)                 Output Shape              Param #   \n",
            "=================================================================\n",
            "conv2d_4 (Conv2D)            (None, 32, 32, 32)        896       \n",
            "_________________________________________________________________\n",
            "activation_8 (Activation)    (None, 32, 32, 32)        0         \n",
            "_________________________________________________________________\n",
            "max_pooling2d_3 (MaxPooling2 (None, 16, 16, 32)        0         \n",
            "_________________________________________________________________\n",
            "flatten_3 (Flatten)          (None, 8192)              0         \n",
            "_________________________________________________________________\n",
            "dense_5 (Dense)              (None, 512)               4194816   \n",
            "_________________________________________________________________\n",
            "activation_9 (Activation)    (None, 512)               0         \n",
            "_________________________________________________________________\n",
            "dropout_3 (Dropout)          (None, 512)               0         \n",
            "_________________________________________________________________\n",
            "dense_6 (Dense)              (None, 10)                5130      \n",
            "_________________________________________________________________\n",
            "activation_10 (Activation)   (None, 10)                0         \n",
            "=================================================================\n",
            "Total params: 4,200,842\n",
            "Trainable params: 4,200,842\n",
            "Non-trainable params: 0\n",
            "_________________________________________________________________\n"
          ],
          "name": "stdout"
        }
      ]
    },
    {
      "metadata": {
        "id": "-xjtgbTdJ7b8",
        "colab_type": "code",
        "outputId": "140dd463-3033-43c4-f63a-c453259e7596",
        "colab": {
          "base_uri": "https://localhost:8080/",
          "height": 706
        }
      },
      "cell_type": "code",
      "source": [
        "#train\n",
        "model.compile(loss='categorical_crossentropy', optimizer=OPTIM, metrics=['accuracy'])\n",
        "history = model.fit(X_train, Y_train, batch_size=BATCH_SIZE, epochs=NB_EPOCH, validation_split=VALIDATION_SPLIT, verbose=VERBOSE)\n"
      ],
      "execution_count": 19,
      "outputs": [
        {
          "output_type": "stream",
          "text": [
            "Train on 40000 samples, validate on 10000 samples\n",
            "Epoch 1/20\n",
            "40000/40000 [==============================] - 79s 2ms/step - loss: 0.6820 - acc: 0.7658 - val_loss: 1.0577 - val_acc: 0.6620\n",
            "Epoch 2/20\n",
            "40000/40000 [==============================] - 79s 2ms/step - loss: 0.6350 - acc: 0.7790 - val_loss: 1.0799 - val_acc: 0.6637\n",
            "Epoch 3/20\n",
            "40000/40000 [==============================] - 79s 2ms/step - loss: 0.5927 - acc: 0.7934 - val_loss: 1.0653 - val_acc: 0.6685\n",
            "Epoch 4/20\n",
            "40000/40000 [==============================] - 79s 2ms/step - loss: 0.5541 - acc: 0.8094 - val_loss: 1.0251 - val_acc: 0.6739\n",
            "Epoch 5/20\n",
            "40000/40000 [==============================] - 80s 2ms/step - loss: 0.5154 - acc: 0.8220 - val_loss: 1.0336 - val_acc: 0.6764\n",
            "Epoch 6/20\n",
            "40000/40000 [==============================] - 79s 2ms/step - loss: 0.4919 - acc: 0.8299 - val_loss: 1.1271 - val_acc: 0.6709\n",
            "Epoch 7/20\n",
            "40000/40000 [==============================] - 79s 2ms/step - loss: 0.4615 - acc: 0.8399 - val_loss: 1.0973 - val_acc: 0.6800\n",
            "Epoch 8/20\n",
            "40000/40000 [==============================] - 79s 2ms/step - loss: 0.4320 - acc: 0.8504 - val_loss: 1.1340 - val_acc: 0.6725\n",
            "Epoch 9/20\n",
            "40000/40000 [==============================] - 80s 2ms/step - loss: 0.4109 - acc: 0.8592 - val_loss: 1.1865 - val_acc: 0.6551\n",
            "Epoch 10/20\n",
            "40000/40000 [==============================] - 79s 2ms/step - loss: 0.3866 - acc: 0.8684 - val_loss: 1.1772 - val_acc: 0.6725\n",
            "Epoch 11/20\n",
            "40000/40000 [==============================] - 79s 2ms/step - loss: 0.3733 - acc: 0.8714 - val_loss: 1.2098 - val_acc: 0.6840\n",
            "Epoch 12/20\n",
            "40000/40000 [==============================] - 79s 2ms/step - loss: 0.3559 - acc: 0.8780 - val_loss: 1.2324 - val_acc: 0.6824\n",
            "Epoch 13/20\n",
            "40000/40000 [==============================] - 80s 2ms/step - loss: 0.3390 - acc: 0.8858 - val_loss: 1.2060 - val_acc: 0.6736\n",
            "Epoch 14/20\n",
            "40000/40000 [==============================] - 80s 2ms/step - loss: 0.3187 - acc: 0.8932 - val_loss: 1.3251 - val_acc: 0.6793\n",
            "Epoch 15/20\n",
            "40000/40000 [==============================] - 80s 2ms/step - loss: 0.3035 - acc: 0.8954 - val_loss: 1.3335 - val_acc: 0.6742\n",
            "Epoch 16/20\n",
            "40000/40000 [==============================] - 80s 2ms/step - loss: 0.2975 - acc: 0.8981 - val_loss: 1.2898 - val_acc: 0.6667\n",
            "Epoch 17/20\n",
            "40000/40000 [==============================] - 81s 2ms/step - loss: 0.2934 - acc: 0.9012 - val_loss: 1.3495 - val_acc: 0.6807\n",
            "Epoch 18/20\n",
            "40000/40000 [==============================] - 80s 2ms/step - loss: 0.2786 - acc: 0.9050 - val_loss: 1.4604 - val_acc: 0.6577\n",
            "Epoch 19/20\n",
            "40000/40000 [==============================] - 80s 2ms/step - loss: 0.2690 - acc: 0.9090 - val_loss: 1.4901 - val_acc: 0.6829\n",
            "Epoch 20/20\n",
            "40000/40000 [==============================] - 80s 2ms/step - loss: 0.2610 - acc: 0.9110 - val_loss: 1.5409 - val_acc: 0.6738\n"
          ],
          "name": "stdout"
        }
      ]
    },
    {
      "metadata": {
        "id": "W8AbLq0gNM4T",
        "colab_type": "code",
        "colab": {
          "base_uri": "https://localhost:8080/",
          "height": 67
        },
        "outputId": "57ead217-3fa6-491e-d5ce-6cee76f7715b"
      },
      "cell_type": "code",
      "source": [
        "score = model.evaluate(X_test, Y_test, batch_size=BATCH_SIZE, verbose=VERBOSE)\n",
        "print('Test score/loss: ',score[0])\n",
        "print('Test accuracy: ',score[1])\n"
      ],
      "execution_count": 20,
      "outputs": [
        {
          "output_type": "stream",
          "text": [
            "10000/10000 [==============================] - 6s 605us/step\n",
            "Test score/loss:  1.5566324775695801\n",
            "Test accuracy:  0.6611\n"
          ],
          "name": "stdout"
        }
      ]
    },
    {
      "metadata": {
        "id": "cH81nSP6Rp0g",
        "colab_type": "code",
        "colab": {
          "base_uri": "https://localhost:8080/",
          "height": 34
        },
        "outputId": "7d82d4b4-18f4-4dd9-f247-b819ea5a0e13"
      },
      "cell_type": "code",
      "source": [
        "#list all data in history\n",
        "print(history.history.keys())"
      ],
      "execution_count": 21,
      "outputs": [
        {
          "output_type": "stream",
          "text": [
            "dict_keys(['val_loss', 'val_acc', 'loss', 'acc'])\n"
          ],
          "name": "stdout"
        }
      ]
    },
    {
      "metadata": {
        "id": "yxcsbr6pSBpj",
        "colab_type": "code",
        "colab": {
          "base_uri": "https://localhost:8080/",
          "height": 376
        },
        "outputId": "f412b218-8d9f-4a82-9ee6-9b709f7b517a"
      },
      "cell_type": "code",
      "source": [
        "#plot for accuracy\n",
        "plt.plot(history.history['acc'])\n",
        "plt.plot(history.history['val_acc'])\n",
        "plt.title('model accuracy')\n",
        "plt.ylabel('accuracy')\n",
        "plt.xlabel('epoch')\n",
        "plt.legend(['train','test'], loc='upper left')\n",
        "plt.show()"
      ],
      "execution_count": 22,
      "outputs": [
        {
          "output_type": "display_data",
          "data": {
            "image/png": "[encoded data removed]",
            "text/plain": [
              "<Figure size 576x396 with 1 Axes>"
            ]
          },
          "metadata": {
            "tags": []
          }
        }
      ]
    },
    {
      "metadata": {
        "id": "oVK6MRBISgTj",
        "colab_type": "code",
        "colab": {
          "base_uri": "https://localhost:8080/",
          "height": 376
        },
        "outputId": "003dec55-6f55-454c-cc6b-63b5a3bd6441"
      },
      "cell_type": "code",
      "source": [
        "#plot for loss\n",
        "plt.plot(history.history['loss'])\n",
        "plt.plot(history.history['val_loss'])\n",
        "plt.title('model loss')\n",
        "plt.ylabel('loss')\n",
        "plt.xlabel('epoch')\n",
        "plt.legend(['train','test'], loc='upper left')\n",
        "plt.show()"
      ],
      "execution_count": 24,
      "outputs": [
        {
          "output_type": "display_data",
          "data": {
            "image/png": "[encoded data removed]",
            "text/plain": [
              "<Figure size 576x396 with 1 Axes>"
            ]
          },
          "metadata": {
            "tags": []
          }
        }
      ]
    },
    {
      "metadata": {
        "id": "CU31omrzP4Fr",
        "colab_type": "code",
        "colab": {}
      },
      "cell_type": "code",
      "source": [
        "#save model\n",
        "model_json = model.to_json()\n",
        "open('cifar10_architecture.json','w').write(model_json)\n",
        "#and the weights learned by our deep netowrk on the training set\n",
        "model.save_weights('cifar10_weights.h5', overwrite=True)"
      ],
      "execution_count": 0,
      "outputs": []
    },
    {
      "metadata": {
        "id": "78EccKQUY2Bl",
        "colab_type": "code",
        "colab": {}
      },
      "cell_type": "code",
      "source": [
        ""
      ],
      "execution_count": 0,
      "outputs": []
    }
  ]
}