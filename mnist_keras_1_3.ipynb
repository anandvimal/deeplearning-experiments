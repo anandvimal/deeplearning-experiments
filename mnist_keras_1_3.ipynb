{
  "nbformat": 4,
  "nbformat_minor": 0,
  "metadata": {
    "colab": {
      "name": "mnist_keras_1.3.ipynb",
      "version": "0.3.2",
      "provenance": [],
      "include_colab_link": true
    },
    "kernelspec": {
      "name": "python3",
      "display_name": "Python 3"
    }
  },
  "cells": [
    {
      "cell_type": "markdown",
      "metadata": {
        "id": "view-in-github",
        "colab_type": "text"
      },
      "source": [
        "<a href=\"https://colab.research.google.com/github/anandvimal/deeplearning-experiments/blob/master/mnist_keras_1_3.ipynb\" target=\"_parent\"><img src=\"https://colab.research.google.com/assets/colab-badge.svg\" alt=\"Open In Colab\"/></a>"
      ]
    },
    {
      "metadata": {
        "id": "vePLDQZ9Jms9",
        "colab_type": "text"
      },
      "cell_type": "markdown",
      "source": [
        "#Experiment 1.3 MNIST\n",
        "this experiment is iteration from deep learning with keras book chapter 1\n",
        "\n",
        "In this experiment we will use a different optimizer RMSprop and less epochs 20\n",
        "(in previous experiment mnist_keras_1.2 we used SGD optimizer with 250 epochs)"
      ]
    },
    {
      "metadata": {
        "id": "W5wAcEf-Jdu1",
        "colab_type": "code",
        "outputId": "7067cd10-c5ab-431b-9e85-ba0edb568c39",
        "colab": {
          "base_uri": "https://localhost:8080/",
          "height": 34
        }
      },
      "cell_type": "code",
      "source": [
        "from __future__ import print_function\n",
        "import numpy as np\n",
        "from keras.datasets import mnist\n",
        "from keras.models import Sequential\n",
        "from keras.layers.core import Dense, Dropout, Activation\n",
        "from keras.optimizers import RMSprop\n",
        "from keras.utils import np_utils\n",
        "\n",
        "import matplotlib.pyplot as plt\n",
        "\n",
        "np.random.seed(1671)  # for reproducibility\n"
      ],
      "execution_count": 1,
      "outputs": [
        {
          "output_type": "stream",
          "text": [
            "Using TensorFlow backend.\n"
          ],
          "name": "stderr"
        }
      ]
    },
    {
      "metadata": {
        "id": "C1d5p_zDJ3PW",
        "colab_type": "code",
        "outputId": "8ca66bf7-506f-4530-8bf1-371364ecaea0",
        "colab": {
          "base_uri": "https://localhost:8080/",
          "height": 87
        }
      },
      "cell_type": "code",
      "source": [
        "# network and training\n",
        "NB_EPOCH = 20         #reduced no of epocs\n",
        "#NB_EPOCH = 500\n",
        "BATCH_SIZE = 128\n",
        "VERBOSE = 1\n",
        "NB_CLASSES = 10   # number of classes(digits)\n",
        "OPTIMIZER = RMSprop() \n",
        "N_HIDDEN = 128\n",
        "VALIDATION_SPLIT=0.2 # how much TRAIN is reserved for VALIDATION\n",
        "DROPOUT = 0.3        # we will use dropout to make sure model doest overfit as no of epochs we are doing are large."
      ],
      "execution_count": 2,
      "outputs": [
        {
          "output_type": "stream",
          "text": [
            "WARNING:tensorflow:From /usr/local/lib/python3.6/dist-packages/tensorflow/python/framework/op_def_library.py:263: colocate_with (from tensorflow.python.framework.ops) is deprecated and will be removed in a future version.\n",
            "Instructions for updating:\n",
            "Colocations handled automatically by placer.\n"
          ],
          "name": "stdout"
        }
      ]
    },
    {
      "metadata": {
        "id": "1XRSx_LVQPEP",
        "colab_type": "code",
        "outputId": "b0ab335b-e958-42a0-e263-487281826922",
        "colab": {
          "base_uri": "https://localhost:8080/",
          "height": 50
        }
      },
      "cell_type": "code",
      "source": [
        "# data: shuffled and split between train and test sets\n",
        "(X_train, Y_train), (X_test, Y_test) = mnist.load_data()\n"
      ],
      "execution_count": 3,
      "outputs": [
        {
          "output_type": "stream",
          "text": [
            "Downloading data from https://s3.amazonaws.com/img-datasets/mnist.npz\n",
            "11493376/11490434 [==============================] - 1s 0us/step\n"
          ],
          "name": "stdout"
        }
      ]
    },
    {
      "metadata": {
        "id": "uekzj8jkQTtg",
        "colab_type": "code",
        "colab": {}
      },
      "cell_type": "code",
      "source": [
        "#X_train is 60000 rows of 28x28 values --> reshaped in 60000 x 784\n",
        "RESHAPED = 784\n",
        "\n",
        "X_train = X_train.reshape(60000, RESHAPED)\n",
        "X_test = X_test.reshape(10000, RESHAPED)\n",
        "X_train = X_train.astype('float32')\n",
        "X_test = X_test.astype('float32')\n"
      ],
      "execution_count": 0,
      "outputs": []
    },
    {
      "metadata": {
        "id": "Q3AgobPAQVoD",
        "colab_type": "code",
        "outputId": "9d90f70b-8492-42ea-ed26-108d1a3d4bc3",
        "colab": {
          "base_uri": "https://localhost:8080/",
          "height": 50
        }
      },
      "cell_type": "code",
      "source": [
        "# normalize \n",
        "X_train /= 255\n",
        "X_test /= 255\n",
        "print(X_train.shape[0], 'train samples')\n",
        "print(X_test.shape[0], 'test samples')\n"
      ],
      "execution_count": 5,
      "outputs": [
        {
          "output_type": "stream",
          "text": [
            "60000 train samples\n",
            "10000 test samples\n"
          ],
          "name": "stdout"
        }
      ]
    },
    {
      "metadata": {
        "id": "PCX5L6DFRMTK",
        "colab_type": "code",
        "colab": {}
      },
      "cell_type": "code",
      "source": [
        "# convert class vectors to binary class matrices\n",
        "# one hot encoding\n",
        "Y_train = np_utils.to_categorical(Y_train, NB_CLASSES)\n",
        "Y_test = np_utils.to_categorical(Y_test, NB_CLASSES)"
      ],
      "execution_count": 0,
      "outputs": []
    },
    {
      "metadata": {
        "id": "yabl_05FRPHs",
        "colab_type": "code",
        "outputId": "671956a3-7034-4028-8533-742ffc661023",
        "colab": {
          "base_uri": "https://localhost:8080/",
          "height": 474
        }
      },
      "cell_type": "code",
      "source": [
        "#model \n",
        "model =Sequential()\n",
        "model.add(Dense(N_HIDDEN, input_shape=(RESHAPED,)))\n",
        "model.add(Activation('relu'))\n",
        "model.add(Dropout(DROPOUT))\n",
        "model.add(Dense(N_HIDDEN))\n",
        "model.add(Activation('relu'))\n",
        "model.add(Dropout(DROPOUT))\n",
        "model.add(Dense(NB_CLASSES)) #we only have 10 classes for classification\n",
        "model.add(Activation('softmax'))\n",
        "model.summary()\n"
      ],
      "execution_count": 7,
      "outputs": [
        {
          "output_type": "stream",
          "text": [
            "WARNING:tensorflow:From /usr/local/lib/python3.6/dist-packages/keras/backend/tensorflow_backend.py:3445: calling dropout (from tensorflow.python.ops.nn_ops) with keep_prob is deprecated and will be removed in a future version.\n",
            "Instructions for updating:\n",
            "Please use `rate` instead of `keep_prob`. Rate should be set to `rate = 1 - keep_prob`.\n",
            "_________________________________________________________________\n",
            "Layer (type)                 Output Shape              Param #   \n",
            "=================================================================\n",
            "dense_1 (Dense)              (None, 128)               100480    \n",
            "_________________________________________________________________\n",
            "activation_1 (Activation)    (None, 128)               0         \n",
            "_________________________________________________________________\n",
            "dropout_1 (Dropout)          (None, 128)               0         \n",
            "_________________________________________________________________\n",
            "dense_2 (Dense)              (None, 128)               16512     \n",
            "_________________________________________________________________\n",
            "activation_2 (Activation)    (None, 128)               0         \n",
            "_________________________________________________________________\n",
            "dropout_2 (Dropout)          (None, 128)               0         \n",
            "_________________________________________________________________\n",
            "dense_3 (Dense)              (None, 10)                1290      \n",
            "_________________________________________________________________\n",
            "activation_3 (Activation)    (None, 10)                0         \n",
            "=================================================================\n",
            "Total params: 118,282\n",
            "Trainable params: 118,282\n",
            "Non-trainable params: 0\n",
            "_________________________________________________________________\n"
          ],
          "name": "stdout"
        }
      ]
    },
    {
      "metadata": {
        "id": "4BInsiKETpzQ",
        "colab_type": "code",
        "colab": {}
      },
      "cell_type": "code",
      "source": [
        "model.compile(\n",
        "    loss='categorical_crossentropy',\n",
        "    optimizer=OPTIMIZER,\n",
        "    metrics=['accuracy']    \n",
        ")"
      ],
      "execution_count": 0,
      "outputs": []
    },
    {
      "metadata": {
        "id": "nvoa0-pPUdHW",
        "colab_type": "code",
        "outputId": "b31f01b4-e619-444f-faf8-9e14b81e74bc",
        "colab": {
          "base_uri": "https://localhost:8080/",
          "height": 776
        }
      },
      "cell_type": "code",
      "source": [
        "history = model.fit(\n",
        "    X_train, \n",
        "    Y_train,               \n",
        "    batch_size=BATCH_SIZE,\n",
        "    epochs=NB_EPOCH,\n",
        "    verbose = VERBOSE,\n",
        "    validation_split=VALIDATION_SPLIT\n",
        "    )\n"
      ],
      "execution_count": 9,
      "outputs": [
        {
          "output_type": "stream",
          "text": [
            "WARNING:tensorflow:From /usr/local/lib/python3.6/dist-packages/tensorflow/python/ops/math_ops.py:3066: to_int32 (from tensorflow.python.ops.math_ops) is deprecated and will be removed in a future version.\n",
            "Instructions for updating:\n",
            "Use tf.cast instead.\n",
            "Train on 48000 samples, validate on 12000 samples\n",
            "Epoch 1/20\n",
            "48000/48000 [==============================] - 3s 58us/step - loss: 0.4776 - acc: 0.8573 - val_loss: 0.1845 - val_acc: 0.9449\n",
            "Epoch 2/20\n",
            "48000/48000 [==============================] - 2s 45us/step - loss: 0.2259 - acc: 0.9323 - val_loss: 0.1381 - val_acc: 0.9591\n",
            "Epoch 3/20\n",
            "48000/48000 [==============================] - 2s 44us/step - loss: 0.1748 - acc: 0.9485 - val_loss: 0.1173 - val_acc: 0.9653\n",
            "Epoch 4/20\n",
            "48000/48000 [==============================] - 2s 44us/step - loss: 0.1512 - acc: 0.9550 - val_loss: 0.1131 - val_acc: 0.9678\n",
            "Epoch 5/20\n",
            "48000/48000 [==============================] - 2s 44us/step - loss: 0.1342 - acc: 0.9610 - val_loss: 0.1031 - val_acc: 0.9706\n",
            "Epoch 6/20\n",
            "48000/48000 [==============================] - 2s 44us/step - loss: 0.1229 - acc: 0.9626 - val_loss: 0.0976 - val_acc: 0.9716\n",
            "Epoch 7/20\n",
            "48000/48000 [==============================] - 2s 44us/step - loss: 0.1129 - acc: 0.9660 - val_loss: 0.1010 - val_acc: 0.9721\n",
            "Epoch 8/20\n",
            "48000/48000 [==============================] - 2s 44us/step - loss: 0.1058 - acc: 0.9692 - val_loss: 0.0988 - val_acc: 0.9727\n",
            "Epoch 9/20\n",
            "48000/48000 [==============================] - 2s 44us/step - loss: 0.0967 - acc: 0.9706 - val_loss: 0.0984 - val_acc: 0.9743\n",
            "Epoch 10/20\n",
            "48000/48000 [==============================] - 2s 43us/step - loss: 0.0939 - acc: 0.9716 - val_loss: 0.0955 - val_acc: 0.9734\n",
            "Epoch 11/20\n",
            "48000/48000 [==============================] - 2s 43us/step - loss: 0.0891 - acc: 0.9732 - val_loss: 0.0957 - val_acc: 0.9755\n",
            "Epoch 12/20\n",
            "48000/48000 [==============================] - 2s 43us/step - loss: 0.0878 - acc: 0.9738 - val_loss: 0.0924 - val_acc: 0.9760\n",
            "Epoch 13/20\n",
            "48000/48000 [==============================] - 2s 43us/step - loss: 0.0854 - acc: 0.9748 - val_loss: 0.0911 - val_acc: 0.9772\n",
            "Epoch 14/20\n",
            "48000/48000 [==============================] - 2s 43us/step - loss: 0.0802 - acc: 0.9765 - val_loss: 0.1012 - val_acc: 0.9765\n",
            "Epoch 15/20\n",
            "48000/48000 [==============================] - 2s 42us/step - loss: 0.0793 - acc: 0.9763 - val_loss: 0.0965 - val_acc: 0.9776\n",
            "Epoch 16/20\n",
            "48000/48000 [==============================] - 2s 43us/step - loss: 0.0761 - acc: 0.9775 - val_loss: 0.1011 - val_acc: 0.9768\n",
            "Epoch 17/20\n",
            "48000/48000 [==============================] - 2s 42us/step - loss: 0.0756 - acc: 0.9775 - val_loss: 0.1090 - val_acc: 0.9755\n",
            "Epoch 18/20\n",
            "48000/48000 [==============================] - 2s 42us/step - loss: 0.0762 - acc: 0.9781 - val_loss: 0.1027 - val_acc: 0.9771\n",
            "Epoch 19/20\n",
            "48000/48000 [==============================] - 2s 43us/step - loss: 0.0721 - acc: 0.9789 - val_loss: 0.1026 - val_acc: 0.9780\n",
            "Epoch 20/20\n",
            "48000/48000 [==============================] - 2s 42us/step - loss: 0.0690 - acc: 0.9800 - val_loss: 0.1018 - val_acc: 0.9772\n"
          ],
          "name": "stdout"
        }
      ]
    },
    {
      "metadata": {
        "id": "kuaRbTadUdjP",
        "colab_type": "code",
        "outputId": "5751f53b-a2d0-42ee-d428-6e4fb5b49aef",
        "colab": {
          "base_uri": "https://localhost:8080/",
          "height": 34
        }
      },
      "cell_type": "code",
      "source": [
        "score = model.evaluate(X_test, Y_test, verbose=VERBOSE)\n"
      ],
      "execution_count": 10,
      "outputs": [
        {
          "output_type": "stream",
          "text": [
            "10000/10000 [==============================] - 0s 35us/step\n"
          ],
          "name": "stdout"
        }
      ]
    },
    {
      "metadata": {
        "id": "MopZPjWLZOB5",
        "colab_type": "code",
        "outputId": "5897d319-4ad4-4f9c-c881-7e1f3e612870",
        "colab": {
          "base_uri": "https://localhost:8080/",
          "height": 50
        }
      },
      "cell_type": "code",
      "source": [
        "print(\"Test score/loss :\", score[0])\n",
        "print(\"Test accuracy: \", score[1])"
      ],
      "execution_count": 11,
      "outputs": [
        {
          "output_type": "stream",
          "text": [
            "Test score/loss : 0.09521282007504779\n",
            "Test accuracy:  0.9787\n"
          ],
          "name": "stdout"
        }
      ]
    },
    {
      "metadata": {
        "id": "UbPDeJKHZnlN",
        "colab_type": "code",
        "outputId": "46857a12-7772-4ad0-99be-447bfcf186fc",
        "colab": {
          "base_uri": "https://localhost:8080/",
          "height": 34
        }
      },
      "cell_type": "code",
      "source": [
        "#list all data in history\n",
        "print(history.history.keys())"
      ],
      "execution_count": 12,
      "outputs": [
        {
          "output_type": "stream",
          "text": [
            "dict_keys(['val_loss', 'val_acc', 'loss', 'acc'])\n"
          ],
          "name": "stdout"
        }
      ]
    },
    {
      "metadata": {
        "id": "DxOFf3C0Zygh",
        "colab_type": "code",
        "outputId": "15a3675b-ae0a-411a-abf5-3f359b177702",
        "colab": {
          "base_uri": "https://localhost:8080/",
          "height": 376
        }
      },
      "cell_type": "code",
      "source": [
        "#plot for accuracy \n",
        "plt.plot(history.history['acc'])\n",
        "plt.plot(history.history['val_acc'])\n",
        "plt.title('model accuracy')\n",
        "plt.ylabel('accuracy')\n",
        "plt.xlabel('epoch')\n",
        "plt.legend(['train','test'], loc='upper left')\n",
        "plt.show()"
      ],
      "execution_count": 13,
      "outputs": [
        {
          "output_type": "display_data",
          "data": {
            "image/png": "[encoded data removed]",
            "text/plain": [
              "<Figure size 576x396 with 1 Axes>"
            ]
          },
          "metadata": {
            "tags": []
          }
        }
      ]
    },
    {
      "metadata": {
        "id": "mTRuju0mifJl",
        "colab_type": "code",
        "outputId": "1a458e48-8389-4b54-abea-291fe0b0fe2a",
        "colab": {
          "base_uri": "https://localhost:8080/",
          "height": 376
        }
      },
      "cell_type": "code",
      "source": [
        "#plot for loss\n",
        "plt.plot(history.history['loss'])\n",
        "plt.plot(history.history['val_loss'])\n",
        "plt.title('model loss')\n",
        "plt.ylabel('loss')\n",
        "plt.xlabel('epoch')\n",
        "plt.legend(['train','test'], loc='upper left')\n",
        "plt.show()"
      ],
      "execution_count": 14,
      "outputs": [
        {
          "output_type": "display_data",
          "data": {
            "image/png": "[encoded data removed]",
            "text/plain": [
              "<Figure size 576x396 with 1 Axes>"
            ]
          },
          "metadata": {
            "tags": []
          }
        }
      ]
    },
    {
      "metadata": {
        "id": "LDH2_7InmP5O",
        "colab_type": "code",
        "colab": {}
      },
      "cell_type": "code",
      "source": [
        ""
      ],
      "execution_count": 0,
      "outputs": []
    },
    {
      "metadata": {
        "id": "q8-oG626miIS",
        "colab_type": "text"
      },
      "cell_type": "markdown",
      "source": [
        "by changing the optimizer to RMSprop we got similar accuracy in just 20 epocs as compared to 250 epocs of training with SGD. "
      ]
    },
    {
      "metadata": {
        "id": "ji75d09k0ri4",
        "colab_type": "code",
        "colab": {}
      },
      "cell_type": "code",
      "source": [
        ""
      ],
      "execution_count": 0,
      "outputs": []
    }
  ]
}