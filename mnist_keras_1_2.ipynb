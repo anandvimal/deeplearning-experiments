{
  "nbformat": 4,
  "nbformat_minor": 0,
  "metadata": {
    "colab": {
      "name": "mnist_keras_1.2.ipynb",
      "version": "0.3.2",
      "provenance": [],
      "include_colab_link": true
    },
    "kernelspec": {
      "name": "python3",
      "display_name": "Python 3"
    }
  },
  "cells": [
    {
      "cell_type": "markdown",
      "metadata": {
        "id": "view-in-github",
        "colab_type": "text"
      },
      "source": [
        "<a href=\"https://colab.research.google.com/github/anandvimal/deeplearning-experiments/blob/master/mnist_keras_1_2.ipynb\" target=\"_parent\"><img src=\"https://colab.research.google.com/assets/colab-badge.svg\" alt=\"Open In Colab\"/></a>"
      ]
    },
    {
      "metadata": {
        "id": "vePLDQZ9Jms9",
        "colab_type": "text"
      },
      "cell_type": "markdown",
      "source": [
        "#Experiment 1.2 MNIST\n",
        "this experiment is iteration from deep learning with keras book chapter 1\n",
        "\n",
        "In this experiment we will use more epochs (250) as compared to 20 in last version. "
      ]
    },
    {
      "metadata": {
        "id": "W5wAcEf-Jdu1",
        "colab_type": "code",
        "outputId": "673ea745-3e2c-4e80-b0e2-55bccfee4d14",
        "colab": {
          "base_uri": "https://localhost:8080/",
          "height": 34
        }
      },
      "cell_type": "code",
      "source": [
        "from __future__ import print_function\n",
        "import numpy as np\n",
        "from keras.datasets import mnist\n",
        "from keras.models import Sequential\n",
        "from keras.layers.core import Dense, Dropout, Activation\n",
        "from keras.optimizers import SGD\n",
        "from keras.utils import np_utils\n",
        "\n",
        "import matplotlib.pyplot as plt\n",
        "\n",
        "np.random.seed(1671)  # for reproducibility\n"
      ],
      "execution_count": 1,
      "outputs": [
        {
          "output_type": "stream",
          "text": [
            "Using TensorFlow backend.\n"
          ],
          "name": "stderr"
        }
      ]
    },
    {
      "metadata": {
        "id": "C1d5p_zDJ3PW",
        "colab_type": "code",
        "outputId": "8d3dd7ed-b69e-4aae-afe9-8d23c04fa0d8",
        "colab": {
          "base_uri": "https://localhost:8080/",
          "height": 87
        }
      },
      "cell_type": "code",
      "source": [
        "# network and training\n",
        "NB_EPOCH = 250         #more number of epochs this time\n",
        "#NB_EPOCH = 500\n",
        "BATCH_SIZE = 128\n",
        "VERBOSE = 1\n",
        "NB_CLASSES = 10   # number of classes(digits)\n",
        "OPTIMIZER = SGD() \n",
        "N_HIDDEN = 128\n",
        "VALIDATION_SPLIT=0.2 # how much TRAIN is reserved for VALIDATION\n",
        "DROPOUT = 0.3        # we will use dropout to make sure model doest overfit as no of epochs we are doing are large."
      ],
      "execution_count": 2,
      "outputs": [
        {
          "output_type": "stream",
          "text": [
            "WARNING:tensorflow:From /usr/local/lib/python3.6/dist-packages/tensorflow/python/framework/op_def_library.py:263: colocate_with (from tensorflow.python.framework.ops) is deprecated and will be removed in a future version.\n",
            "Instructions for updating:\n",
            "Colocations handled automatically by placer.\n"
          ],
          "name": "stdout"
        }
      ]
    },
    {
      "metadata": {
        "id": "1XRSx_LVQPEP",
        "colab_type": "code",
        "outputId": "ba175a88-8cb4-4949-da0d-90eb371e866f",
        "colab": {
          "base_uri": "https://localhost:8080/",
          "height": 50
        }
      },
      "cell_type": "code",
      "source": [
        "# data: shuffled and split between train and test sets\n",
        "(X_train, Y_train), (X_test, Y_test) = mnist.load_data()\n"
      ],
      "execution_count": 3,
      "outputs": [
        {
          "output_type": "stream",
          "text": [
            "Downloading data from https://s3.amazonaws.com/img-datasets/mnist.npz\n",
            "11493376/11490434 [==============================] - 0s 0us/step\n"
          ],
          "name": "stdout"
        }
      ]
    },
    {
      "metadata": {
        "id": "uekzj8jkQTtg",
        "colab_type": "code",
        "colab": {}
      },
      "cell_type": "code",
      "source": [
        "#X_train is 60000 rows of 28x28 values --> reshaped in 60000 x 784\n",
        "RESHAPED = 784\n",
        "\n",
        "X_train = X_train.reshape(60000, RESHAPED)\n",
        "X_test = X_test.reshape(10000, RESHAPED)\n",
        "X_train = X_train.astype('float32')\n",
        "X_test = X_test.astype('float32')\n"
      ],
      "execution_count": 0,
      "outputs": []
    },
    {
      "metadata": {
        "id": "Q3AgobPAQVoD",
        "colab_type": "code",
        "outputId": "759c8abf-18da-4bba-c42a-5fd4a6a3cc4c",
        "colab": {
          "base_uri": "https://localhost:8080/",
          "height": 50
        }
      },
      "cell_type": "code",
      "source": [
        "# normalize \n",
        "X_train /= 255\n",
        "X_test /= 255\n",
        "print(X_train.shape[0], 'train samples')\n",
        "print(X_test.shape[0], 'test samples')\n"
      ],
      "execution_count": 5,
      "outputs": [
        {
          "output_type": "stream",
          "text": [
            "60000 train samples\n",
            "10000 test samples\n"
          ],
          "name": "stdout"
        }
      ]
    },
    {
      "metadata": {
        "id": "7PIPnDZfQcOY",
        "colab_type": "code",
        "outputId": "5a182393-988b-418f-d4bc-f4c4b9e06782",
        "colab": {
          "base_uri": "https://localhost:8080/",
          "height": 50
        }
      },
      "cell_type": "code",
      "source": [
        "# normalize \n",
        "X_train /= 255\n",
        "X_test /= 255\n",
        "print(X_train.shape[0], 'train samples')\n",
        "print(X_test.shape[0], 'test samples')\n"
      ],
      "execution_count": 6,
      "outputs": [
        {
          "output_type": "stream",
          "text": [
            "60000 train samples\n",
            "10000 test samples\n"
          ],
          "name": "stdout"
        }
      ]
    },
    {
      "metadata": {
        "id": "PCX5L6DFRMTK",
        "colab_type": "code",
        "colab": {}
      },
      "cell_type": "code",
      "source": [
        "# convert class vectors to binary class matrices\n",
        "# one hot encoding\n",
        "Y_train = np_utils.to_categorical(Y_train, NB_CLASSES)\n",
        "Y_test = np_utils.to_categorical(Y_test, NB_CLASSES)"
      ],
      "execution_count": 0,
      "outputs": []
    },
    {
      "metadata": {
        "id": "yabl_05FRPHs",
        "colab_type": "code",
        "outputId": "b3665699-3836-41f4-8860-f0c6e7cc8dd2",
        "colab": {
          "base_uri": "https://localhost:8080/",
          "height": 474
        }
      },
      "cell_type": "code",
      "source": [
        "#model \n",
        "model =Sequential()\n",
        "model.add(Dense(N_HIDDEN, input_shape=(RESHAPED,)))\n",
        "model.add(Activation('relu'))\n",
        "model.add(Dropout(DROPOUT))\n",
        "model.add(Dense(N_HIDDEN))\n",
        "model.add(Activation('relu'))\n",
        "model.add(Dropout(DROPOUT))\n",
        "model.add(Dense(NB_CLASSES)) #we only have 10 classes for classification\n",
        "model.add(Activation('softmax'))\n",
        "model.summary()\n"
      ],
      "execution_count": 8,
      "outputs": [
        {
          "output_type": "stream",
          "text": [
            "WARNING:tensorflow:From /usr/local/lib/python3.6/dist-packages/keras/backend/tensorflow_backend.py:3445: calling dropout (from tensorflow.python.ops.nn_ops) with keep_prob is deprecated and will be removed in a future version.\n",
            "Instructions for updating:\n",
            "Please use `rate` instead of `keep_prob`. Rate should be set to `rate = 1 - keep_prob`.\n",
            "_________________________________________________________________\n",
            "Layer (type)                 Output Shape              Param #   \n",
            "=================================================================\n",
            "dense_1 (Dense)              (None, 128)               100480    \n",
            "_________________________________________________________________\n",
            "activation_1 (Activation)    (None, 128)               0         \n",
            "_________________________________________________________________\n",
            "dropout_1 (Dropout)          (None, 128)               0         \n",
            "_________________________________________________________________\n",
            "dense_2 (Dense)              (None, 128)               16512     \n",
            "_________________________________________________________________\n",
            "activation_2 (Activation)    (None, 128)               0         \n",
            "_________________________________________________________________\n",
            "dropout_2 (Dropout)          (None, 128)               0         \n",
            "_________________________________________________________________\n",
            "dense_3 (Dense)              (None, 10)                1290      \n",
            "_________________________________________________________________\n",
            "activation_3 (Activation)    (None, 10)                0         \n",
            "=================================================================\n",
            "Total params: 118,282\n",
            "Trainable params: 118,282\n",
            "Non-trainable params: 0\n",
            "_________________________________________________________________\n"
          ],
          "name": "stdout"
        }
      ]
    },
    {
      "metadata": {
        "id": "4BInsiKETpzQ",
        "colab_type": "code",
        "colab": {}
      },
      "cell_type": "code",
      "source": [
        "model.compile(\n",
        "    loss='categorical_crossentropy',\n",
        "    optimizer=OPTIMIZER,\n",
        "    metrics=['accuracy']    \n",
        ")"
      ],
      "execution_count": 0,
      "outputs": []
    },
    {
      "metadata": {
        "id": "nvoa0-pPUdHW",
        "colab_type": "code",
        "outputId": "40c051c0-ab9c-4043-dc05-b8d5a682463d",
        "colab": {
          "base_uri": "https://localhost:8080/",
          "height": 8504
        }
      },
      "cell_type": "code",
      "source": [
        "history = model.fit(\n",
        "    X_train, \n",
        "    Y_train,               \n",
        "    batch_size=BATCH_SIZE,\n",
        "    epochs=NB_EPOCH,\n",
        "    verbose = VERBOSE,\n",
        "    validation_split=VALIDATION_SPLIT\n",
        "    )\n"
      ],
      "execution_count": 10,
      "outputs": [
        {
          "output_type": "stream",
          "text": [
            "WARNING:tensorflow:From /usr/local/lib/python3.6/dist-packages/tensorflow/python/ops/math_ops.py:3066: to_int32 (from tensorflow.python.ops.math_ops) is deprecated and will be removed in a future version.\n",
            "Instructions for updating:\n",
            "Use tf.cast instead.\n",
            "Train on 48000 samples, validate on 12000 samples\n",
            "Epoch 1/250\n",
            "48000/48000 [==============================] - 3s 69us/step - loss: 2.3009 - acc: 0.1165 - val_loss: 2.3007 - val_acc: 0.1060\n",
            "Epoch 2/250\n",
            "48000/48000 [==============================] - 2s 44us/step - loss: 2.3000 - acc: 0.1140 - val_loss: 2.3006 - val_acc: 0.1060\n",
            "Epoch 3/250\n",
            "48000/48000 [==============================] - 2s 42us/step - loss: 2.2998 - acc: 0.1140 - val_loss: 2.3006 - val_acc: 0.1060\n",
            "Epoch 4/250\n",
            "48000/48000 [==============================] - 2s 43us/step - loss: 2.2997 - acc: 0.1140 - val_loss: 2.3006 - val_acc: 0.1060\n",
            "Epoch 5/250\n",
            "48000/48000 [==============================] - 2s 43us/step - loss: 2.2995 - acc: 0.1140 - val_loss: 2.3006 - val_acc: 0.1060\n",
            "Epoch 6/250\n",
            "48000/48000 [==============================] - 2s 43us/step - loss: 2.2996 - acc: 0.1140 - val_loss: 2.3006 - val_acc: 0.1060\n",
            "Epoch 7/250\n",
            "48000/48000 [==============================] - 2s 42us/step - loss: 2.2994 - acc: 0.1140 - val_loss: 2.3005 - val_acc: 0.1060\n",
            "Epoch 8/250\n",
            "48000/48000 [==============================] - 2s 43us/step - loss: 2.2994 - acc: 0.1140 - val_loss: 2.3004 - val_acc: 0.1060\n",
            "Epoch 9/250\n",
            "48000/48000 [==============================] - 2s 43us/step - loss: 2.2994 - acc: 0.1140 - val_loss: 2.3003 - val_acc: 0.1060\n",
            "Epoch 10/250\n",
            "48000/48000 [==============================] - 2s 44us/step - loss: 2.2993 - acc: 0.1140 - val_loss: 2.3002 - val_acc: 0.1060\n",
            "Epoch 11/250\n",
            "48000/48000 [==============================] - 2s 44us/step - loss: 2.2992 - acc: 0.1140 - val_loss: 2.3002 - val_acc: 0.1060\n",
            "Epoch 12/250\n",
            "48000/48000 [==============================] - 2s 43us/step - loss: 2.2992 - acc: 0.1140 - val_loss: 2.3000 - val_acc: 0.1060\n",
            "Epoch 13/250\n",
            "48000/48000 [==============================] - 2s 43us/step - loss: 2.2991 - acc: 0.1140 - val_loss: 2.3000 - val_acc: 0.1060\n",
            "Epoch 14/250\n",
            "48000/48000 [==============================] - 2s 44us/step - loss: 2.2990 - acc: 0.1140 - val_loss: 2.2999 - val_acc: 0.1060\n",
            "Epoch 15/250\n",
            "48000/48000 [==============================] - 2s 42us/step - loss: 2.2990 - acc: 0.1140 - val_loss: 2.2999 - val_acc: 0.1060\n",
            "Epoch 16/250\n",
            "48000/48000 [==============================] - 2s 42us/step - loss: 2.2989 - acc: 0.1140 - val_loss: 2.2998 - val_acc: 0.1060\n",
            "Epoch 17/250\n",
            "48000/48000 [==============================] - 2s 42us/step - loss: 2.2988 - acc: 0.1140 - val_loss: 2.2998 - val_acc: 0.1060\n",
            "Epoch 18/250\n",
            "48000/48000 [==============================] - 2s 43us/step - loss: 2.2987 - acc: 0.1140 - val_loss: 2.2996 - val_acc: 0.1060\n",
            "Epoch 19/250\n",
            "48000/48000 [==============================] - 2s 43us/step - loss: 2.2987 - acc: 0.1140 - val_loss: 2.2996 - val_acc: 0.1060\n",
            "Epoch 20/250\n",
            "48000/48000 [==============================] - 2s 42us/step - loss: 2.2986 - acc: 0.1140 - val_loss: 2.2995 - val_acc: 0.1060\n",
            "Epoch 21/250\n",
            "48000/48000 [==============================] - 2s 42us/step - loss: 2.2985 - acc: 0.1140 - val_loss: 2.2995 - val_acc: 0.1060\n",
            "Epoch 22/250\n",
            "48000/48000 [==============================] - 2s 43us/step - loss: 2.2984 - acc: 0.1140 - val_loss: 2.2993 - val_acc: 0.1060\n",
            "Epoch 23/250\n",
            "48000/48000 [==============================] - 2s 42us/step - loss: 2.2984 - acc: 0.1140 - val_loss: 2.2993 - val_acc: 0.1060\n",
            "Epoch 24/250\n",
            "48000/48000 [==============================] - 2s 42us/step - loss: 2.2984 - acc: 0.1140 - val_loss: 2.2992 - val_acc: 0.1060\n",
            "Epoch 25/250\n",
            "48000/48000 [==============================] - 2s 43us/step - loss: 2.2981 - acc: 0.1140 - val_loss: 2.2991 - val_acc: 0.1060\n",
            "Epoch 26/250\n",
            "48000/48000 [==============================] - 2s 42us/step - loss: 2.2981 - acc: 0.1140 - val_loss: 2.2990 - val_acc: 0.1060\n",
            "Epoch 27/250\n",
            "48000/48000 [==============================] - 2s 42us/step - loss: 2.2980 - acc: 0.1140 - val_loss: 2.2990 - val_acc: 0.1060\n",
            "Epoch 28/250\n",
            "48000/48000 [==============================] - 2s 42us/step - loss: 2.2979 - acc: 0.1140 - val_loss: 2.2988 - val_acc: 0.1060\n",
            "Epoch 29/250\n",
            "48000/48000 [==============================] - 2s 41us/step - loss: 2.2977 - acc: 0.1140 - val_loss: 2.2986 - val_acc: 0.1060\n",
            "Epoch 30/250\n",
            "48000/48000 [==============================] - 2s 42us/step - loss: 2.2976 - acc: 0.1140 - val_loss: 2.2987 - val_acc: 0.1060\n",
            "Epoch 31/250\n",
            "48000/48000 [==============================] - 2s 42us/step - loss: 2.2976 - acc: 0.1140 - val_loss: 2.2985 - val_acc: 0.1060\n",
            "Epoch 32/250\n",
            "48000/48000 [==============================] - 2s 42us/step - loss: 2.2975 - acc: 0.1140 - val_loss: 2.2984 - val_acc: 0.1060\n",
            "Epoch 33/250\n",
            "48000/48000 [==============================] - 2s 42us/step - loss: 2.2974 - acc: 0.1140 - val_loss: 2.2984 - val_acc: 0.1060\n",
            "Epoch 34/250\n",
            "48000/48000 [==============================] - 2s 42us/step - loss: 2.2972 - acc: 0.1140 - val_loss: 2.2982 - val_acc: 0.1060\n",
            "Epoch 35/250\n",
            "48000/48000 [==============================] - 2s 43us/step - loss: 2.2971 - acc: 0.1140 - val_loss: 2.2982 - val_acc: 0.1060\n",
            "Epoch 36/250\n",
            "48000/48000 [==============================] - 2s 41us/step - loss: 2.2970 - acc: 0.1140 - val_loss: 2.2980 - val_acc: 0.1060\n",
            "Epoch 37/250\n",
            "48000/48000 [==============================] - 2s 42us/step - loss: 2.2968 - acc: 0.1140 - val_loss: 2.2978 - val_acc: 0.1060\n",
            "Epoch 38/250\n",
            "48000/48000 [==============================] - 2s 42us/step - loss: 2.2968 - acc: 0.1140 - val_loss: 2.2977 - val_acc: 0.1060\n",
            "Epoch 39/250\n",
            "48000/48000 [==============================] - 2s 42us/step - loss: 2.2966 - acc: 0.1140 - val_loss: 2.2977 - val_acc: 0.1060\n",
            "Epoch 40/250\n",
            "48000/48000 [==============================] - 2s 42us/step - loss: 2.2966 - acc: 0.1140 - val_loss: 2.2975 - val_acc: 0.1060\n",
            "Epoch 41/250\n",
            "48000/48000 [==============================] - 2s 41us/step - loss: 2.2964 - acc: 0.1140 - val_loss: 2.2973 - val_acc: 0.1060\n",
            "Epoch 42/250\n",
            "48000/48000 [==============================] - 2s 41us/step - loss: 2.2962 - acc: 0.1140 - val_loss: 2.2972 - val_acc: 0.1060\n",
            "Epoch 43/250\n",
            "48000/48000 [==============================] - 2s 42us/step - loss: 2.2962 - acc: 0.1140 - val_loss: 2.2970 - val_acc: 0.1060\n",
            "Epoch 44/250\n",
            "48000/48000 [==============================] - 2s 41us/step - loss: 2.2960 - acc: 0.1140 - val_loss: 2.2969 - val_acc: 0.1060\n",
            "Epoch 45/250\n",
            "48000/48000 [==============================] - 2s 42us/step - loss: 2.2958 - acc: 0.1140 - val_loss: 2.2967 - val_acc: 0.1060\n",
            "Epoch 46/250\n",
            "48000/48000 [==============================] - 2s 41us/step - loss: 2.2957 - acc: 0.1140 - val_loss: 2.2965 - val_acc: 0.1060\n",
            "Epoch 47/250\n",
            "48000/48000 [==============================] - 2s 42us/step - loss: 2.2955 - acc: 0.1140 - val_loss: 2.2963 - val_acc: 0.1060\n",
            "Epoch 48/250\n",
            "48000/48000 [==============================] - 2s 42us/step - loss: 2.2953 - acc: 0.1140 - val_loss: 2.2961 - val_acc: 0.1060\n",
            "Epoch 49/250\n",
            "48000/48000 [==============================] - 2s 42us/step - loss: 2.2952 - acc: 0.1140 - val_loss: 2.2961 - val_acc: 0.1060\n",
            "Epoch 50/250\n",
            "48000/48000 [==============================] - 2s 42us/step - loss: 2.2950 - acc: 0.1140 - val_loss: 2.2959 - val_acc: 0.1060\n",
            "Epoch 51/250\n",
            "48000/48000 [==============================] - 2s 42us/step - loss: 2.2949 - acc: 0.1140 - val_loss: 2.2956 - val_acc: 0.1060\n",
            "Epoch 52/250\n",
            "48000/48000 [==============================] - 2s 41us/step - loss: 2.2947 - acc: 0.1140 - val_loss: 2.2956 - val_acc: 0.1060\n",
            "Epoch 53/250\n",
            "48000/48000 [==============================] - 2s 42us/step - loss: 2.2946 - acc: 0.1140 - val_loss: 2.2953 - val_acc: 0.1060\n",
            "Epoch 54/250\n",
            "48000/48000 [==============================] - 2s 41us/step - loss: 2.2942 - acc: 0.1140 - val_loss: 2.2951 - val_acc: 0.1060\n",
            "Epoch 55/250\n",
            "48000/48000 [==============================] - 2s 41us/step - loss: 2.2940 - acc: 0.1140 - val_loss: 2.2949 - val_acc: 0.1060\n",
            "Epoch 56/250\n",
            "48000/48000 [==============================] - 2s 41us/step - loss: 2.2939 - acc: 0.1140 - val_loss: 2.2948 - val_acc: 0.1060\n",
            "Epoch 57/250\n",
            "48000/48000 [==============================] - 2s 41us/step - loss: 2.2937 - acc: 0.1140 - val_loss: 2.2945 - val_acc: 0.1060\n",
            "Epoch 58/250\n",
            "48000/48000 [==============================] - 2s 41us/step - loss: 2.2934 - acc: 0.1140 - val_loss: 2.2943 - val_acc: 0.1060\n",
            "Epoch 59/250\n",
            "48000/48000 [==============================] - 2s 41us/step - loss: 2.2932 - acc: 0.1140 - val_loss: 2.2941 - val_acc: 0.1060\n",
            "Epoch 60/250\n",
            "48000/48000 [==============================] - 2s 41us/step - loss: 2.2930 - acc: 0.1140 - val_loss: 2.2939 - val_acc: 0.1060\n",
            "Epoch 61/250\n",
            "48000/48000 [==============================] - 2s 41us/step - loss: 2.2927 - acc: 0.1140 - val_loss: 2.2936 - val_acc: 0.1060\n",
            "Epoch 62/250\n",
            "48000/48000 [==============================] - 2s 42us/step - loss: 2.2925 - acc: 0.1140 - val_loss: 2.2932 - val_acc: 0.1060\n",
            "Epoch 63/250\n",
            "48000/48000 [==============================] - 2s 42us/step - loss: 2.2923 - acc: 0.1144 - val_loss: 2.2930 - val_acc: 0.1060\n",
            "Epoch 64/250\n",
            "48000/48000 [==============================] - 2s 42us/step - loss: 2.2920 - acc: 0.1141 - val_loss: 2.2927 - val_acc: 0.1060\n",
            "Epoch 65/250\n",
            "48000/48000 [==============================] - 2s 42us/step - loss: 2.2917 - acc: 0.1144 - val_loss: 2.2926 - val_acc: 0.1060\n",
            "Epoch 66/250\n",
            "48000/48000 [==============================] - 2s 41us/step - loss: 2.2914 - acc: 0.1146 - val_loss: 2.2923 - val_acc: 0.1060\n",
            "Epoch 67/250\n",
            "48000/48000 [==============================] - 2s 41us/step - loss: 2.2911 - acc: 0.1142 - val_loss: 2.2918 - val_acc: 0.1060\n",
            "Epoch 68/250\n",
            "48000/48000 [==============================] - 2s 41us/step - loss: 2.2908 - acc: 0.1147 - val_loss: 2.2915 - val_acc: 0.1060\n",
            "Epoch 69/250\n",
            "48000/48000 [==============================] - 2s 42us/step - loss: 2.2905 - acc: 0.1160 - val_loss: 2.2915 - val_acc: 0.1060\n",
            "Epoch 70/250\n",
            "48000/48000 [==============================] - 2s 42us/step - loss: 2.2902 - acc: 0.1154 - val_loss: 2.2910 - val_acc: 0.1060\n",
            "Epoch 71/250\n",
            "48000/48000 [==============================] - 2s 41us/step - loss: 2.2899 - acc: 0.1160 - val_loss: 2.2906 - val_acc: 0.1060\n",
            "Epoch 72/250\n",
            "48000/48000 [==============================] - 2s 41us/step - loss: 2.2894 - acc: 0.1166 - val_loss: 2.2903 - val_acc: 0.1060\n",
            "Epoch 73/250\n",
            "48000/48000 [==============================] - 2s 41us/step - loss: 2.2891 - acc: 0.1167 - val_loss: 2.2898 - val_acc: 0.1061\n",
            "Epoch 74/250\n",
            "48000/48000 [==============================] - 2s 42us/step - loss: 2.2888 - acc: 0.1188 - val_loss: 2.2897 - val_acc: 0.1060\n",
            "Epoch 75/250\n",
            "48000/48000 [==============================] - 2s 42us/step - loss: 2.2883 - acc: 0.1176 - val_loss: 2.2892 - val_acc: 0.1060\n",
            "Epoch 76/250\n",
            "48000/48000 [==============================] - 2s 42us/step - loss: 2.2879 - acc: 0.1204 - val_loss: 2.2887 - val_acc: 0.1060\n",
            "Epoch 77/250\n",
            "48000/48000 [==============================] - 2s 41us/step - loss: 2.2875 - acc: 0.1225 - val_loss: 2.2882 - val_acc: 0.1060\n",
            "Epoch 78/250\n",
            "48000/48000 [==============================] - 2s 41us/step - loss: 2.2869 - acc: 0.1222 - val_loss: 2.2878 - val_acc: 0.1060\n",
            "Epoch 79/250\n",
            "48000/48000 [==============================] - 2s 40us/step - loss: 2.2866 - acc: 0.1268 - val_loss: 2.2874 - val_acc: 0.1060\n",
            "Epoch 80/250\n",
            "48000/48000 [==============================] - 2s 41us/step - loss: 2.2861 - acc: 0.1280 - val_loss: 2.2869 - val_acc: 0.1064\n",
            "Epoch 81/250\n",
            "48000/48000 [==============================] - 2s 41us/step - loss: 2.2855 - acc: 0.1310 - val_loss: 2.2863 - val_acc: 0.1064\n",
            "Epoch 82/250\n",
            "48000/48000 [==============================] - 2s 41us/step - loss: 2.2851 - acc: 0.1320 - val_loss: 2.2857 - val_acc: 0.1121\n",
            "Epoch 83/250\n",
            "48000/48000 [==============================] - 2s 41us/step - loss: 2.2846 - acc: 0.1327 - val_loss: 2.2851 - val_acc: 0.1214\n",
            "Epoch 84/250\n",
            "48000/48000 [==============================] - 2s 41us/step - loss: 2.2839 - acc: 0.1388 - val_loss: 2.2844 - val_acc: 0.1351\n",
            "Epoch 85/250\n",
            "48000/48000 [==============================] - 2s 42us/step - loss: 2.2834 - acc: 0.1429 - val_loss: 2.2840 - val_acc: 0.1169\n",
            "Epoch 86/250\n",
            "48000/48000 [==============================] - 2s 41us/step - loss: 2.2826 - acc: 0.1428 - val_loss: 2.2834 - val_acc: 0.1146\n",
            "Epoch 87/250\n",
            "48000/48000 [==============================] - 2s 42us/step - loss: 2.2820 - acc: 0.1460 - val_loss: 2.2826 - val_acc: 0.1276\n",
            "Epoch 88/250\n",
            "48000/48000 [==============================] - 2s 48us/step - loss: 2.2813 - acc: 0.1487 - val_loss: 2.2819 - val_acc: 0.1289\n",
            "Epoch 89/250\n",
            "48000/48000 [==============================] - 2s 48us/step - loss: 2.2807 - acc: 0.1514 - val_loss: 2.2811 - val_acc: 0.1351\n",
            "Epoch 90/250\n",
            "48000/48000 [==============================] - 2s 42us/step - loss: 2.2799 - acc: 0.1527 - val_loss: 2.2803 - val_acc: 0.1527\n",
            "Epoch 91/250\n",
            "48000/48000 [==============================] - 2s 42us/step - loss: 2.2790 - acc: 0.1618 - val_loss: 2.2797 - val_acc: 0.1260\n",
            "Epoch 92/250\n",
            "48000/48000 [==============================] - 2s 41us/step - loss: 2.2783 - acc: 0.1647 - val_loss: 2.2788 - val_acc: 0.1390\n",
            "Epoch 93/250\n",
            "48000/48000 [==============================] - 2s 42us/step - loss: 2.2774 - acc: 0.1663 - val_loss: 2.2779 - val_acc: 0.1413\n",
            "Epoch 94/250\n",
            "48000/48000 [==============================] - 2s 42us/step - loss: 2.2764 - acc: 0.1706 - val_loss: 2.2768 - val_acc: 0.1684\n",
            "Epoch 95/250\n",
            "48000/48000 [==============================] - 2s 41us/step - loss: 2.2754 - acc: 0.1731 - val_loss: 2.2757 - val_acc: 0.1821\n",
            "Epoch 96/250\n",
            "48000/48000 [==============================] - 2s 46us/step - loss: 2.2743 - acc: 0.1738 - val_loss: 2.2747 - val_acc: 0.1880\n",
            "Epoch 97/250\n",
            "48000/48000 [==============================] - 2s 47us/step - loss: 2.2732 - acc: 0.1806 - val_loss: 2.2737 - val_acc: 0.1723\n",
            "Epoch 98/250\n",
            "48000/48000 [==============================] - 2s 47us/step - loss: 2.2723 - acc: 0.1806 - val_loss: 2.2727 - val_acc: 0.1560\n",
            "Epoch 99/250\n",
            "48000/48000 [==============================] - 2s 49us/step - loss: 2.2707 - acc: 0.1870 - val_loss: 2.2711 - val_acc: 0.2012\n",
            "Epoch 100/250\n",
            "48000/48000 [==============================] - 2s 48us/step - loss: 2.2696 - acc: 0.1923 - val_loss: 2.2698 - val_acc: 0.1998\n",
            "Epoch 101/250\n",
            "48000/48000 [==============================] - 2s 43us/step - loss: 2.2682 - acc: 0.1955 - val_loss: 2.2688 - val_acc: 0.1689\n",
            "Epoch 102/250\n",
            "48000/48000 [==============================] - 2s 42us/step - loss: 2.2672 - acc: 0.1948 - val_loss: 2.2672 - val_acc: 0.1806\n",
            "Epoch 103/250\n",
            "48000/48000 [==============================] - 2s 42us/step - loss: 2.2654 - acc: 0.2001 - val_loss: 2.2654 - val_acc: 0.1957\n",
            "Epoch 104/250\n",
            "48000/48000 [==============================] - 2s 43us/step - loss: 2.2639 - acc: 0.1983 - val_loss: 2.2638 - val_acc: 0.1946\n",
            "Epoch 105/250\n",
            "48000/48000 [==============================] - 2s 43us/step - loss: 2.2622 - acc: 0.2050 - val_loss: 2.2622 - val_acc: 0.1886\n",
            "Epoch 106/250\n",
            "48000/48000 [==============================] - 2s 43us/step - loss: 2.2603 - acc: 0.2059 - val_loss: 2.2599 - val_acc: 0.2240\n",
            "Epoch 107/250\n",
            "48000/48000 [==============================] - 2s 43us/step - loss: 2.2584 - acc: 0.2172 - val_loss: 2.2583 - val_acc: 0.1973\n",
            "Epoch 108/250\n",
            "48000/48000 [==============================] - 2s 42us/step - loss: 2.2562 - acc: 0.2115 - val_loss: 2.2560 - val_acc: 0.2122\n",
            "Epoch 109/250\n",
            "48000/48000 [==============================] - 2s 43us/step - loss: 2.2541 - acc: 0.2187 - val_loss: 2.2542 - val_acc: 0.1984\n",
            "Epoch 110/250\n",
            "48000/48000 [==============================] - 2s 44us/step - loss: 2.2520 - acc: 0.2125 - val_loss: 2.2515 - val_acc: 0.2190\n",
            "Epoch 111/250\n",
            "48000/48000 [==============================] - 2s 42us/step - loss: 2.2495 - acc: 0.2221 - val_loss: 2.2491 - val_acc: 0.2033\n",
            "Epoch 112/250\n",
            "48000/48000 [==============================] - 2s 43us/step - loss: 2.2468 - acc: 0.2245 - val_loss: 2.2462 - val_acc: 0.2153\n",
            "Epoch 113/250\n",
            "48000/48000 [==============================] - 2s 42us/step - loss: 2.2438 - acc: 0.2248 - val_loss: 2.2434 - val_acc: 0.2152\n",
            "Epoch 114/250\n",
            "48000/48000 [==============================] - 2s 42us/step - loss: 2.2411 - acc: 0.2223 - val_loss: 2.2402 - val_acc: 0.2258\n",
            "Epoch 115/250\n",
            "48000/48000 [==============================] - 2s 41us/step - loss: 2.2382 - acc: 0.2296 - val_loss: 2.2381 - val_acc: 0.1965\n",
            "Epoch 116/250\n",
            "48000/48000 [==============================] - 2s 41us/step - loss: 2.2346 - acc: 0.2282 - val_loss: 2.2333 - val_acc: 0.2252\n",
            "Epoch 117/250\n",
            "48000/48000 [==============================] - 2s 42us/step - loss: 2.2313 - acc: 0.2347 - val_loss: 2.2309 - val_acc: 0.2085\n",
            "Epoch 118/250\n",
            "48000/48000 [==============================] - 2s 41us/step - loss: 2.2270 - acc: 0.2351 - val_loss: 2.2254 - val_acc: 0.2397\n",
            "Epoch 119/250\n",
            "48000/48000 [==============================] - 2s 42us/step - loss: 2.2234 - acc: 0.2328 - val_loss: 2.2211 - val_acc: 0.2471\n",
            "Epoch 120/250\n",
            "48000/48000 [==============================] - 2s 41us/step - loss: 2.2190 - acc: 0.2409 - val_loss: 2.2172 - val_acc: 0.2224\n",
            "Epoch 121/250\n",
            "48000/48000 [==============================] - 2s 42us/step - loss: 2.2143 - acc: 0.2410 - val_loss: 2.2116 - val_acc: 0.2454\n",
            "Epoch 122/250\n",
            "48000/48000 [==============================] - 2s 41us/step - loss: 2.2098 - acc: 0.2425 - val_loss: 2.2067 - val_acc: 0.2419\n",
            "Epoch 123/250\n",
            "48000/48000 [==============================] - 2s 41us/step - loss: 2.2042 - acc: 0.2430 - val_loss: 2.2008 - val_acc: 0.2604\n",
            "Epoch 124/250\n",
            "48000/48000 [==============================] - 2s 41us/step - loss: 2.1981 - acc: 0.2472 - val_loss: 2.1951 - val_acc: 0.2521\n",
            "Epoch 125/250\n",
            "48000/48000 [==============================] - 2s 42us/step - loss: 2.1922 - acc: 0.2492 - val_loss: 2.1892 - val_acc: 0.2646\n",
            "Epoch 126/250\n",
            "48000/48000 [==============================] - 2s 41us/step - loss: 2.1856 - acc: 0.2536 - val_loss: 2.1832 - val_acc: 0.2607\n",
            "Epoch 127/250\n",
            "48000/48000 [==============================] - 2s 42us/step - loss: 2.1791 - acc: 0.2520 - val_loss: 2.1758 - val_acc: 0.2601\n",
            "Epoch 128/250\n",
            "48000/48000 [==============================] - 2s 42us/step - loss: 2.1724 - acc: 0.2555 - val_loss: 2.1670 - val_acc: 0.2859\n",
            "Epoch 129/250\n",
            "48000/48000 [==============================] - 2s 41us/step - loss: 2.1649 - acc: 0.2591 - val_loss: 2.1589 - val_acc: 0.2858\n",
            "Epoch 130/250\n",
            "48000/48000 [==============================] - 2s 42us/step - loss: 2.1579 - acc: 0.2617 - val_loss: 2.1524 - val_acc: 0.2602\n",
            "Epoch 131/250\n",
            "48000/48000 [==============================] - 2s 41us/step - loss: 2.1483 - acc: 0.2646 - val_loss: 2.1420 - val_acc: 0.3028\n",
            "Epoch 132/250\n",
            "48000/48000 [==============================] - 2s 41us/step - loss: 2.1392 - acc: 0.2678 - val_loss: 2.1321 - val_acc: 0.3053\n",
            "Epoch 133/250\n",
            "48000/48000 [==============================] - 2s 42us/step - loss: 2.1308 - acc: 0.2733 - val_loss: 2.1231 - val_acc: 0.3022\n",
            "Epoch 134/250\n",
            "48000/48000 [==============================] - 2s 42us/step - loss: 2.1218 - acc: 0.2729 - val_loss: 2.1124 - val_acc: 0.3175\n",
            "Epoch 135/250\n",
            "48000/48000 [==============================] - 2s 41us/step - loss: 2.1121 - acc: 0.2777 - val_loss: 2.1015 - val_acc: 0.3075\n",
            "Epoch 136/250\n",
            "48000/48000 [==============================] - 2s 41us/step - loss: 2.1025 - acc: 0.2790 - val_loss: 2.0919 - val_acc: 0.3097\n",
            "Epoch 137/250\n",
            "48000/48000 [==============================] - 2s 42us/step - loss: 2.0918 - acc: 0.2810 - val_loss: 2.0794 - val_acc: 0.3387\n",
            "Epoch 138/250\n",
            "48000/48000 [==============================] - 2s 41us/step - loss: 2.0807 - acc: 0.2879 - val_loss: 2.0680 - val_acc: 0.3508\n",
            "Epoch 139/250\n",
            "48000/48000 [==============================] - 2s 41us/step - loss: 2.0708 - acc: 0.2903 - val_loss: 2.0576 - val_acc: 0.3694\n",
            "Epoch 140/250\n",
            "48000/48000 [==============================] - 2s 41us/step - loss: 2.0605 - acc: 0.2910 - val_loss: 2.0461 - val_acc: 0.3609\n",
            "Epoch 141/250\n",
            "48000/48000 [==============================] - 2s 41us/step - loss: 2.0490 - acc: 0.2982 - val_loss: 2.0323 - val_acc: 0.3738\n",
            "Epoch 142/250\n",
            "48000/48000 [==============================] - 2s 42us/step - loss: 2.0387 - acc: 0.3016 - val_loss: 2.0240 - val_acc: 0.3563\n",
            "Epoch 143/250\n",
            "48000/48000 [==============================] - 2s 41us/step - loss: 2.0276 - acc: 0.3059 - val_loss: 2.0112 - val_acc: 0.3718\n",
            "Epoch 144/250\n",
            "48000/48000 [==============================] - 2s 41us/step - loss: 2.0178 - acc: 0.3088 - val_loss: 1.9967 - val_acc: 0.3646\n",
            "Epoch 145/250\n",
            "48000/48000 [==============================] - 2s 41us/step - loss: 2.0089 - acc: 0.3113 - val_loss: 1.9889 - val_acc: 0.3952\n",
            "Epoch 146/250\n",
            "48000/48000 [==============================] - 2s 41us/step - loss: 1.9985 - acc: 0.3174 - val_loss: 1.9732 - val_acc: 0.4065\n",
            "Epoch 147/250\n",
            "48000/48000 [==============================] - 2s 41us/step - loss: 1.9866 - acc: 0.3183 - val_loss: 1.9619 - val_acc: 0.4033\n",
            "Epoch 148/250\n",
            "48000/48000 [==============================] - 2s 41us/step - loss: 1.9768 - acc: 0.3245 - val_loss: 1.9527 - val_acc: 0.4089\n",
            "Epoch 149/250\n",
            "48000/48000 [==============================] - 2s 41us/step - loss: 1.9669 - acc: 0.3265 - val_loss: 1.9379 - val_acc: 0.4062\n",
            "Epoch 150/250\n",
            "48000/48000 [==============================] - 2s 41us/step - loss: 1.9587 - acc: 0.3297 - val_loss: 1.9276 - val_acc: 0.4300\n",
            "Epoch 151/250\n",
            "48000/48000 [==============================] - 2s 41us/step - loss: 1.9478 - acc: 0.3330 - val_loss: 1.9179 - val_acc: 0.4211\n",
            "Epoch 152/250\n",
            "48000/48000 [==============================] - 2s 41us/step - loss: 1.9408 - acc: 0.3358 - val_loss: 1.9124 - val_acc: 0.4220\n",
            "Epoch 153/250\n",
            "48000/48000 [==============================] - 2s 41us/step - loss: 1.9295 - acc: 0.3384 - val_loss: 1.8955 - val_acc: 0.4188\n",
            "Epoch 154/250\n",
            "48000/48000 [==============================] - 2s 41us/step - loss: 1.9224 - acc: 0.3438 - val_loss: 1.8870 - val_acc: 0.4365\n",
            "Epoch 155/250\n",
            "48000/48000 [==============================] - 2s 41us/step - loss: 1.9147 - acc: 0.3444 - val_loss: 1.8943 - val_acc: 0.4000\n",
            "Epoch 156/250\n",
            "48000/48000 [==============================] - 2s 40us/step - loss: 1.9070 - acc: 0.3490 - val_loss: 1.8665 - val_acc: 0.4512\n",
            "Epoch 157/250\n",
            "48000/48000 [==============================] - 2s 40us/step - loss: 1.8978 - acc: 0.3518 - val_loss: 1.8558 - val_acc: 0.4631\n",
            "Epoch 158/250\n",
            "48000/48000 [==============================] - 2s 41us/step - loss: 1.8883 - acc: 0.3557 - val_loss: 1.8451 - val_acc: 0.4560\n",
            "Epoch 159/250\n",
            "48000/48000 [==============================] - 2s 41us/step - loss: 1.8835 - acc: 0.3584 - val_loss: 1.8677 - val_acc: 0.4370\n",
            "Epoch 160/250\n",
            "48000/48000 [==============================] - 2s 41us/step - loss: 1.8750 - acc: 0.3626 - val_loss: 1.8508 - val_acc: 0.4407\n",
            "Epoch 161/250\n",
            "48000/48000 [==============================] - 2s 41us/step - loss: 1.8660 - acc: 0.3638 - val_loss: 1.8177 - val_acc: 0.4843\n",
            "Epoch 162/250\n",
            "48000/48000 [==============================] - 2s 41us/step - loss: 1.8582 - acc: 0.3704 - val_loss: 1.8077 - val_acc: 0.5054\n",
            "Epoch 163/250\n",
            "48000/48000 [==============================] - 2s 41us/step - loss: 1.8515 - acc: 0.3722 - val_loss: 1.8143 - val_acc: 0.4623\n",
            "Epoch 164/250\n",
            "48000/48000 [==============================] - 2s 41us/step - loss: 1.8441 - acc: 0.3758 - val_loss: 1.7883 - val_acc: 0.4828\n",
            "Epoch 165/250\n",
            "48000/48000 [==============================] - 2s 41us/step - loss: 1.8380 - acc: 0.3815 - val_loss: 1.7797 - val_acc: 0.5105\n",
            "Epoch 166/250\n",
            "48000/48000 [==============================] - 2s 41us/step - loss: 1.8289 - acc: 0.3816 - val_loss: 1.7911 - val_acc: 0.4964\n",
            "Epoch 167/250\n",
            "48000/48000 [==============================] - 2s 40us/step - loss: 1.8229 - acc: 0.3871 - val_loss: 1.7638 - val_acc: 0.5123\n",
            "Epoch 168/250\n",
            "48000/48000 [==============================] - 2s 41us/step - loss: 1.8167 - acc: 0.3895 - val_loss: 1.7521 - val_acc: 0.5290\n",
            "Epoch 169/250\n",
            "48000/48000 [==============================] - 2s 40us/step - loss: 1.8017 - acc: 0.3961 - val_loss: 1.7518 - val_acc: 0.5029\n",
            "Epoch 170/250\n",
            "48000/48000 [==============================] - 2s 41us/step - loss: 1.7992 - acc: 0.4005 - val_loss: 1.7518 - val_acc: 0.4988\n",
            "Epoch 171/250\n",
            "48000/48000 [==============================] - 2s 41us/step - loss: 1.7866 - acc: 0.4022 - val_loss: 1.7745 - val_acc: 0.4885\n",
            "Epoch 172/250\n",
            "48000/48000 [==============================] - 2s 41us/step - loss: 1.7821 - acc: 0.4033 - val_loss: 1.7250 - val_acc: 0.5304\n",
            "Epoch 173/250\n",
            "48000/48000 [==============================] - 2s 41us/step - loss: 1.7712 - acc: 0.4086 - val_loss: 1.7224 - val_acc: 0.4841\n",
            "Epoch 174/250\n",
            "48000/48000 [==============================] - 2s 41us/step - loss: 1.7708 - acc: 0.4095 - val_loss: 1.7117 - val_acc: 0.5222\n",
            "Epoch 175/250\n",
            "48000/48000 [==============================] - 2s 41us/step - loss: 1.7522 - acc: 0.4167 - val_loss: 1.6872 - val_acc: 0.5266\n",
            "Epoch 176/250\n",
            "48000/48000 [==============================] - 2s 40us/step - loss: 1.7380 - acc: 0.4259 - val_loss: 1.6685 - val_acc: 0.5485\n",
            "Epoch 177/250\n",
            "48000/48000 [==============================] - 2s 42us/step - loss: 1.7305 - acc: 0.4280 - val_loss: 1.6792 - val_acc: 0.5379\n",
            "Epoch 178/250\n",
            "48000/48000 [==============================] - 2s 42us/step - loss: 1.7250 - acc: 0.4295 - val_loss: 1.7989 - val_acc: 0.4277\n",
            "Epoch 179/250\n",
            "48000/48000 [==============================] - 2s 42us/step - loss: 1.7174 - acc: 0.4319 - val_loss: 1.6434 - val_acc: 0.5464\n",
            "Epoch 180/250\n",
            "48000/48000 [==============================] - 2s 41us/step - loss: 1.6961 - acc: 0.4419 - val_loss: 1.6171 - val_acc: 0.5299\n",
            "Epoch 181/250\n",
            "48000/48000 [==============================] - 2s 42us/step - loss: 1.6924 - acc: 0.4418 - val_loss: 1.6245 - val_acc: 0.5518\n",
            "Epoch 182/250\n",
            "48000/48000 [==============================] - 2s 41us/step - loss: 1.6828 - acc: 0.4462 - val_loss: 1.6003 - val_acc: 0.5567\n",
            "Epoch 183/250\n",
            "48000/48000 [==============================] - 2s 42us/step - loss: 1.6652 - acc: 0.4506 - val_loss: 1.5777 - val_acc: 0.5312\n",
            "Epoch 184/250\n",
            "48000/48000 [==============================] - 2s 42us/step - loss: 1.6509 - acc: 0.4562 - val_loss: 1.5633 - val_acc: 0.5557\n",
            "Epoch 185/250\n",
            "48000/48000 [==============================] - 2s 42us/step - loss: 1.6372 - acc: 0.4629 - val_loss: 1.6714 - val_acc: 0.4737\n",
            "Epoch 186/250\n",
            "48000/48000 [==============================] - 2s 42us/step - loss: 1.6268 - acc: 0.4628 - val_loss: 1.5520 - val_acc: 0.5470\n",
            "Epoch 187/250\n",
            "48000/48000 [==============================] - 2s 42us/step - loss: 1.6117 - acc: 0.4704 - val_loss: 1.5404 - val_acc: 0.5398\n",
            "Epoch 188/250\n",
            "48000/48000 [==============================] - 2s 44us/step - loss: 1.5982 - acc: 0.4722 - val_loss: 1.5005 - val_acc: 0.5754\n",
            "Epoch 189/250\n",
            "48000/48000 [==============================] - 2s 44us/step - loss: 1.5874 - acc: 0.4765 - val_loss: 1.4920 - val_acc: 0.5560\n",
            "Epoch 190/250\n",
            "48000/48000 [==============================] - 2s 43us/step - loss: 1.5684 - acc: 0.4821 - val_loss: 1.4740 - val_acc: 0.5712\n",
            "Epoch 191/250\n",
            "48000/48000 [==============================] - 2s 43us/step - loss: 1.5590 - acc: 0.4814 - val_loss: 1.4671 - val_acc: 0.5747\n",
            "Epoch 192/250\n",
            "48000/48000 [==============================] - 2s 42us/step - loss: 1.5440 - acc: 0.4862 - val_loss: 1.4481 - val_acc: 0.5614\n",
            "Epoch 193/250\n",
            "48000/48000 [==============================] - 2s 41us/step - loss: 1.5281 - acc: 0.4916 - val_loss: 1.4225 - val_acc: 0.5729\n",
            "Epoch 194/250\n",
            "48000/48000 [==============================] - 2s 41us/step - loss: 1.5187 - acc: 0.4941 - val_loss: 1.5108 - val_acc: 0.5531\n",
            "Epoch 195/250\n",
            "48000/48000 [==============================] - 2s 42us/step - loss: 1.5128 - acc: 0.4936 - val_loss: 1.4009 - val_acc: 0.5874\n",
            "Epoch 196/250\n",
            "48000/48000 [==============================] - 2s 43us/step - loss: 1.4829 - acc: 0.5053 - val_loss: 1.4333 - val_acc: 0.5697\n",
            "Epoch 197/250\n",
            "48000/48000 [==============================] - 2s 43us/step - loss: 1.4788 - acc: 0.5040 - val_loss: 1.3576 - val_acc: 0.6243\n",
            "Epoch 198/250\n",
            "48000/48000 [==============================] - 2s 44us/step - loss: 1.4586 - acc: 0.5099 - val_loss: 1.3678 - val_acc: 0.5979\n",
            "Epoch 199/250\n",
            "48000/48000 [==============================] - 2s 42us/step - loss: 1.4457 - acc: 0.5126 - val_loss: 1.3412 - val_acc: 0.6140\n",
            "Epoch 200/250\n",
            "48000/48000 [==============================] - 2s 42us/step - loss: 1.4293 - acc: 0.5185 - val_loss: 1.4146 - val_acc: 0.5456\n",
            "Epoch 201/250\n",
            "48000/48000 [==============================] - 2s 42us/step - loss: 1.4212 - acc: 0.5219 - val_loss: 1.2995 - val_acc: 0.6075\n",
            "Epoch 202/250\n",
            "48000/48000 [==============================] - 2s 43us/step - loss: 1.4054 - acc: 0.5235 - val_loss: 1.2889 - val_acc: 0.6144\n",
            "Epoch 203/250\n",
            "48000/48000 [==============================] - 2s 44us/step - loss: 1.3906 - acc: 0.5277 - val_loss: 1.2896 - val_acc: 0.6223\n",
            "Epoch 204/250\n",
            "48000/48000 [==============================] - 2s 42us/step - loss: 1.3861 - acc: 0.5298 - val_loss: 1.2589 - val_acc: 0.6046\n",
            "Epoch 205/250\n",
            "48000/48000 [==============================] - 2s 42us/step - loss: 1.3677 - acc: 0.5342 - val_loss: 1.2552 - val_acc: 0.6155\n",
            "Epoch 206/250\n",
            "48000/48000 [==============================] - 2s 42us/step - loss: 1.3549 - acc: 0.5397 - val_loss: 1.2267 - val_acc: 0.6393\n",
            "Epoch 207/250\n",
            "48000/48000 [==============================] - 2s 42us/step - loss: 1.3434 - acc: 0.5394 - val_loss: 1.2455 - val_acc: 0.5823\n",
            "Epoch 208/250\n",
            "48000/48000 [==============================] - 2s 41us/step - loss: 1.3283 - acc: 0.5433 - val_loss: 1.2067 - val_acc: 0.6127\n",
            "Epoch 209/250\n",
            "48000/48000 [==============================] - 2s 42us/step - loss: 1.3241 - acc: 0.5463 - val_loss: 1.1920 - val_acc: 0.6473\n",
            "Epoch 210/250\n",
            "48000/48000 [==============================] - 2s 42us/step - loss: 1.3093 - acc: 0.5499 - val_loss: 1.1797 - val_acc: 0.6152\n",
            "Epoch 211/250\n",
            "48000/48000 [==============================] - 2s 43us/step - loss: 1.3020 - acc: 0.5476 - val_loss: 1.1827 - val_acc: 0.6257\n",
            "Epoch 212/250\n",
            "48000/48000 [==============================] - 2s 42us/step - loss: 1.2902 - acc: 0.5543 - val_loss: 1.2109 - val_acc: 0.6098\n",
            "Epoch 213/250\n",
            "48000/48000 [==============================] - 2s 43us/step - loss: 1.2847 - acc: 0.5557 - val_loss: 1.1382 - val_acc: 0.6463\n",
            "Epoch 214/250\n",
            "48000/48000 [==============================] - 2s 42us/step - loss: 1.2725 - acc: 0.5602 - val_loss: 1.1428 - val_acc: 0.6586\n",
            "Epoch 215/250\n",
            "48000/48000 [==============================] - 2s 42us/step - loss: 1.2635 - acc: 0.5612 - val_loss: 1.1685 - val_acc: 0.6410\n",
            "Epoch 216/250\n",
            "48000/48000 [==============================] - 2s 42us/step - loss: 1.2516 - acc: 0.5636 - val_loss: 1.1181 - val_acc: 0.6219\n",
            "Epoch 217/250\n",
            "48000/48000 [==============================] - 2s 42us/step - loss: 1.2456 - acc: 0.5666 - val_loss: 1.1094 - val_acc: 0.6501\n",
            "Epoch 218/250\n",
            "48000/48000 [==============================] - 2s 43us/step - loss: 1.2345 - acc: 0.5715 - val_loss: 1.1037 - val_acc: 0.6622\n",
            "Epoch 219/250\n",
            "48000/48000 [==============================] - 2s 42us/step - loss: 1.2287 - acc: 0.5737 - val_loss: 1.0959 - val_acc: 0.6567\n",
            "Epoch 220/250\n",
            "48000/48000 [==============================] - 2s 41us/step - loss: 1.2266 - acc: 0.5697 - val_loss: 1.0931 - val_acc: 0.6673\n",
            "Epoch 221/250\n",
            "48000/48000 [==============================] - 2s 41us/step - loss: 1.2102 - acc: 0.5758 - val_loss: 1.0672 - val_acc: 0.6824\n",
            "Epoch 222/250\n",
            "48000/48000 [==============================] - 2s 42us/step - loss: 1.2031 - acc: 0.5812 - val_loss: 1.0785 - val_acc: 0.6602\n",
            "Epoch 223/250\n",
            "48000/48000 [==============================] - 2s 42us/step - loss: 1.1982 - acc: 0.5793 - val_loss: 1.0574 - val_acc: 0.6468\n",
            "Epoch 224/250\n",
            "48000/48000 [==============================] - 2s 42us/step - loss: 1.1888 - acc: 0.5829 - val_loss: 1.0905 - val_acc: 0.6355\n",
            "Epoch 225/250\n",
            "48000/48000 [==============================] - 2s 42us/step - loss: 1.1871 - acc: 0.5833 - val_loss: 1.0404 - val_acc: 0.6641\n",
            "Epoch 226/250\n",
            "48000/48000 [==============================] - 2s 42us/step - loss: 1.1753 - acc: 0.5880 - val_loss: 1.0240 - val_acc: 0.6850\n",
            "Epoch 227/250\n",
            "48000/48000 [==============================] - 2s 43us/step - loss: 1.1766 - acc: 0.5847 - val_loss: 1.0435 - val_acc: 0.6631\n",
            "Epoch 228/250\n",
            "48000/48000 [==============================] - 2s 42us/step - loss: 1.1625 - acc: 0.5920 - val_loss: 1.0308 - val_acc: 0.6626\n",
            "Epoch 229/250\n",
            "48000/48000 [==============================] - 2s 42us/step - loss: 1.1555 - acc: 0.5931 - val_loss: 1.0699 - val_acc: 0.6599\n",
            "Epoch 230/250\n",
            "48000/48000 [==============================] - 2s 42us/step - loss: 1.1563 - acc: 0.5935 - val_loss: 1.0151 - val_acc: 0.6617\n",
            "Epoch 231/250\n",
            "48000/48000 [==============================] - 2s 42us/step - loss: 1.1486 - acc: 0.5962 - val_loss: 1.0201 - val_acc: 0.6790\n",
            "Epoch 232/250\n",
            "48000/48000 [==============================] - 2s 43us/step - loss: 1.1402 - acc: 0.5977 - val_loss: 1.0328 - val_acc: 0.6439\n",
            "Epoch 233/250\n",
            "48000/48000 [==============================] - 2s 43us/step - loss: 1.1380 - acc: 0.5988 - val_loss: 1.0044 - val_acc: 0.6675\n",
            "Epoch 234/250\n",
            "48000/48000 [==============================] - 2s 41us/step - loss: 1.1403 - acc: 0.5966 - val_loss: 0.9702 - val_acc: 0.7009\n",
            "Epoch 235/250\n",
            "48000/48000 [==============================] - 2s 42us/step - loss: 1.1277 - acc: 0.6032 - val_loss: 0.9997 - val_acc: 0.6514\n",
            "Epoch 236/250\n",
            "48000/48000 [==============================] - 2s 42us/step - loss: 1.1252 - acc: 0.6024 - val_loss: 0.9734 - val_acc: 0.6947\n",
            "Epoch 237/250\n",
            "48000/48000 [==============================] - 2s 42us/step - loss: 1.1180 - acc: 0.6051 - val_loss: 0.9914 - val_acc: 0.6844\n",
            "Epoch 238/250\n",
            "48000/48000 [==============================] - 2s 42us/step - loss: 1.1209 - acc: 0.6049 - val_loss: 0.9728 - val_acc: 0.6838\n",
            "Epoch 239/250\n",
            "48000/48000 [==============================] - 2s 45us/step - loss: 1.1142 - acc: 0.6066 - val_loss: 0.9617 - val_acc: 0.6853\n",
            "Epoch 240/250\n",
            "48000/48000 [==============================] - 2s 48us/step - loss: 1.1085 - acc: 0.6073 - val_loss: 0.9640 - val_acc: 0.6963\n",
            "Epoch 241/250\n",
            "48000/48000 [==============================] - 2s 47us/step - loss: 1.1035 - acc: 0.6107 - val_loss: 0.9588 - val_acc: 0.6793\n",
            "Epoch 242/250\n",
            "48000/48000 [==============================] - 2s 42us/step - loss: 1.0971 - acc: 0.6103 - val_loss: 1.0041 - val_acc: 0.6458\n",
            "Epoch 243/250\n",
            "48000/48000 [==============================] - 2s 42us/step - loss: 1.1045 - acc: 0.6085 - val_loss: 0.9792 - val_acc: 0.6878\n",
            "Epoch 244/250\n",
            "48000/48000 [==============================] - 2s 42us/step - loss: 1.0932 - acc: 0.6133 - val_loss: 1.0005 - val_acc: 0.6584\n",
            "Epoch 245/250\n",
            "48000/48000 [==============================] - 2s 41us/step - loss: 1.0904 - acc: 0.6163 - val_loss: 0.9235 - val_acc: 0.7169\n",
            "Epoch 246/250\n",
            "48000/48000 [==============================] - 2s 42us/step - loss: 1.0894 - acc: 0.6145 - val_loss: 1.0478 - val_acc: 0.6369\n",
            "Epoch 247/250\n",
            "48000/48000 [==============================] - 2s 41us/step - loss: 1.0845 - acc: 0.6122 - val_loss: 0.9326 - val_acc: 0.7181\n",
            "Epoch 248/250\n",
            "48000/48000 [==============================] - 2s 43us/step - loss: 1.0748 - acc: 0.6201 - val_loss: 0.9350 - val_acc: 0.7078\n",
            "Epoch 249/250\n",
            "48000/48000 [==============================] - 2s 42us/step - loss: 1.0756 - acc: 0.6211 - val_loss: 1.0036 - val_acc: 0.6668\n",
            "Epoch 250/250\n",
            "48000/48000 [==============================] - 2s 44us/step - loss: 1.0710 - acc: 0.6216 - val_loss: 0.9367 - val_acc: 0.6833\n"
          ],
          "name": "stdout"
        }
      ]
    },
    {
      "metadata": {
        "id": "kuaRbTadUdjP",
        "colab_type": "code",
        "outputId": "f162d989-64bd-4aac-8bf6-e44c1fa0a19d",
        "colab": {
          "base_uri": "https://localhost:8080/",
          "height": 34
        }
      },
      "cell_type": "code",
      "source": [
        "score = model.evaluate(X_test, Y_test, verbose=VERBOSE)\n"
      ],
      "execution_count": 11,
      "outputs": [
        {
          "output_type": "stream",
          "text": [
            "10000/10000 [==============================] - 0s 36us/step\n"
          ],
          "name": "stdout"
        }
      ]
    },
    {
      "metadata": {
        "id": "MopZPjWLZOB5",
        "colab_type": "code",
        "outputId": "c507140a-fc39-4b43-e196-40c545d6b077",
        "colab": {
          "base_uri": "https://localhost:8080/",
          "height": 50
        }
      },
      "cell_type": "code",
      "source": [
        "print(\"Test score/loss :\", score[0])\n",
        "print(\"Test accuracy: \", score[1])"
      ],
      "execution_count": 12,
      "outputs": [
        {
          "output_type": "stream",
          "text": [
            "Test score/loss : 0.9479770063400269\n",
            "Test accuracy:  0.6751\n"
          ],
          "name": "stdout"
        }
      ]
    },
    {
      "metadata": {
        "id": "UbPDeJKHZnlN",
        "colab_type": "code",
        "outputId": "29fa4c0b-c3e5-414b-d936-5c0674a73c50",
        "colab": {
          "base_uri": "https://localhost:8080/",
          "height": 34
        }
      },
      "cell_type": "code",
      "source": [
        "#list all data in history\n",
        "print(history.history.keys())"
      ],
      "execution_count": 13,
      "outputs": [
        {
          "output_type": "stream",
          "text": [
            "dict_keys(['val_loss', 'val_acc', 'loss', 'acc'])\n"
          ],
          "name": "stdout"
        }
      ]
    },
    {
      "metadata": {
        "id": "DxOFf3C0Zygh",
        "colab_type": "code",
        "outputId": "cbbe2afd-7b20-4bcb-cec5-79587b9e9539",
        "colab": {
          "base_uri": "https://localhost:8080/",
          "height": 376
        }
      },
      "cell_type": "code",
      "source": [
        "#plot for accuracy \n",
        "plt.plot(history.history['acc'])\n",
        "plt.plot(history.history['val_acc'])\n",
        "plt.title('model accuracy')\n",
        "plt.ylabel('accuracy')\n",
        "plt.xlabel('epoch')\n",
        "plt.legend(['train','test'], loc='upper left')\n",
        "plt.show()"
      ],
      "execution_count": 14,
      "outputs": [
        {
          "output_type": "display_data",
          "data": {
            "image/png": "[encoded data removed]",
            "text/plain": [
              "<Figure size 576x396 with 1 Axes>"
            ]
          },
          "metadata": {
            "tags": []
          }
        }
      ]
    },
    {
      "metadata": {
        "id": "mTRuju0mifJl",
        "colab_type": "code",
        "outputId": "5334ed0a-4f38-4b4c-853b-6f17dba67688",
        "colab": {
          "base_uri": "https://localhost:8080/",
          "height": 376
        }
      },
      "cell_type": "code",
      "source": [
        "#plot for loss\n",
        "plt.plot(history.history['loss'])\n",
        "plt.plot(history.history['val_loss'])\n",
        "plt.title('model loss')\n",
        "plt.ylabel('loss')\n",
        "plt.xlabel('epoch')\n",
        "plt.legend(['train','test'], loc='upper left')\n",
        "plt.show()"
      ],
      "execution_count": 15,
      "outputs": [
        {
          "output_type": "display_data",
          "data": {
            "image/png": "[encoded data removed]",
            "text/plain": [
              "<Figure size 576x396 with 1 Axes>"
            ]
          },
          "metadata": {
            "tags": []
          }
        }
      ]
    },
    {
      "metadata": {
        "id": "LDH2_7InmP5O",
        "colab_type": "code",
        "colab": {}
      },
      "cell_type": "code",
      "source": [
        ""
      ],
      "execution_count": 0,
      "outputs": []
    },
    {
      "metadata": {
        "id": "q8-oG626miIS",
        "colab_type": "text"
      },
      "cell_type": "markdown",
      "source": [
        "we only got accuracy of 64% and loss of 1.0331 when training on 250 epochs with dropout but graph of accuracy growed linearly we might be able to get better results with more epochs here\n",
        "\n",
        "also loss has been declining linearly so which gives us more reason to increase the number of epochs here in this case. "
      ]
    }
  ]
}