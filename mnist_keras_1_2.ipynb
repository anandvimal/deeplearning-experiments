{
  "nbformat": 4,
  "nbformat_minor": 0,
  "metadata": {
    "colab": {
      "name": "mnist_keras_1.2.ipynb",
      "version": "0.3.2",
      "provenance": [],
      "include_colab_link": true
    },
    "kernelspec": {
      "name": "python3",
      "display_name": "Python 3"
    }
  },
  "cells": [
    {
      "cell_type": "markdown",
      "metadata": {
        "id": "view-in-github",
        "colab_type": "text"
      },
      "source": [
        "<a href=\"https://colab.research.google.com/github/anandvimal/deeplearning-experiments/blob/master/mnist_keras_1_2.ipynb\" target=\"_parent\"><img src=\"https://colab.research.google.com/assets/colab-badge.svg\" alt=\"Open In Colab\"/></a>"
      ]
    },
    {
      "metadata": {
        "id": "vePLDQZ9Jms9",
        "colab_type": "text"
      },
      "cell_type": "markdown",
      "source": [
        "#Experiment 1.2 MNIST\n",
        "this experiment is iteration from deep learning with keras book chapter 1\n",
        "\n",
        "In this experiment we will use more epochs (250) as compared to 20 in last version. "
      ]
    },
    {
      "metadata": {
        "id": "W5wAcEf-Jdu1",
        "colab_type": "code",
        "outputId": "2952ea66-6aaf-428a-da29-bb2f58e31cc1",
        "colab": {
          "base_uri": "https://localhost:8080/",
          "height": 34
        }
      },
      "cell_type": "code",
      "source": [
        "from __future__ import print_function\n",
        "import numpy as np\n",
        "from keras.datasets import mnist\n",
        "from keras.models import Sequential\n",
        "from keras.layers.core import Dense, Dropout, Activation\n",
        "from keras.optimizers import SGD\n",
        "from keras.utils import np_utils\n",
        "\n",
        "import matplotlib.pyplot as plt\n",
        "\n",
        "np.random.seed(1671)  # for reproducibility\n"
      ],
      "execution_count": 1,
      "outputs": [
        {
          "output_type": "stream",
          "text": [
            "Using TensorFlow backend.\n"
          ],
          "name": "stderr"
        }
      ]
    },
    {
      "metadata": {
        "id": "C1d5p_zDJ3PW",
        "colab_type": "code",
        "outputId": "c3868f01-d0a7-46b8-c45f-ea611cd67c84",
        "colab": {
          "base_uri": "https://localhost:8080/",
          "height": 87
        }
      },
      "cell_type": "code",
      "source": [
        "# network and training\n",
        "NB_EPOCH = 250         #more number of epochs this time\n",
        "#NB_EPOCH = 500\n",
        "BATCH_SIZE = 128\n",
        "VERBOSE = 1\n",
        "NB_CLASSES = 10   # number of classes(digits)\n",
        "OPTIMIZER = SGD() \n",
        "N_HIDDEN = 128\n",
        "VALIDATION_SPLIT=0.2 # how much TRAIN is reserved for VALIDATION\n",
        "DROPOUT = 0.3        # we will use dropout to make sure model doest overfit as no of epochs we are doing are large."
      ],
      "execution_count": 2,
      "outputs": [
        {
          "output_type": "stream",
          "text": [
            "WARNING:tensorflow:From /usr/local/lib/python3.6/dist-packages/tensorflow/python/framework/op_def_library.py:263: colocate_with (from tensorflow.python.framework.ops) is deprecated and will be removed in a future version.\n",
            "Instructions for updating:\n",
            "Colocations handled automatically by placer.\n"
          ],
          "name": "stdout"
        }
      ]
    },
    {
      "metadata": {
        "id": "1XRSx_LVQPEP",
        "colab_type": "code",
        "outputId": "dd4e4321-47ed-4487-9c6b-0c6760d58c75",
        "colab": {
          "base_uri": "https://localhost:8080/",
          "height": 50
        }
      },
      "cell_type": "code",
      "source": [
        "# data: shuffled and split between train and test sets\n",
        "(X_train, Y_train), (X_test, Y_test) = mnist.load_data()\n"
      ],
      "execution_count": 3,
      "outputs": [
        {
          "output_type": "stream",
          "text": [
            "Downloading data from https://s3.amazonaws.com/img-datasets/mnist.npz\n",
            "11493376/11490434 [==============================] - 0s 0us/step\n"
          ],
          "name": "stdout"
        }
      ]
    },
    {
      "metadata": {
        "id": "uekzj8jkQTtg",
        "colab_type": "code",
        "colab": {}
      },
      "cell_type": "code",
      "source": [
        "#X_train is 60000 rows of 28x28 values --> reshaped in 60000 x 784\n",
        "RESHAPED = 784\n",
        "\n",
        "X_train = X_train.reshape(60000, RESHAPED)\n",
        "X_test = X_test.reshape(10000, RESHAPED)\n",
        "X_train = X_train.astype('float32')\n",
        "X_test = X_test.astype('float32')\n"
      ],
      "execution_count": 0,
      "outputs": []
    },
    {
      "metadata": {
        "id": "Q3AgobPAQVoD",
        "colab_type": "code",
        "outputId": "600ba1f9-b7fe-4da0-e67a-cb3dd30eefa7",
        "colab": {
          "base_uri": "https://localhost:8080/",
          "height": 50
        }
      },
      "cell_type": "code",
      "source": [
        "# normalize \n",
        "X_train /= 255\n",
        "X_test /= 255\n",
        "print(X_train.shape[0], 'train samples')\n",
        "print(X_test.shape[0], 'test samples')\n"
      ],
      "execution_count": 5,
      "outputs": [
        {
          "output_type": "stream",
          "text": [
            "60000 train samples\n",
            "10000 test samples\n"
          ],
          "name": "stdout"
        }
      ]
    },
    {
      "metadata": {
        "id": "7PIPnDZfQcOY",
        "colab_type": "code",
        "outputId": "5a182393-988b-418f-d4bc-f4c4b9e06782",
        "colab": {
          "base_uri": "https://localhost:8080/",
          "height": 50
        }
      },
      "cell_type": "code",
      "source": [
        "'''\n",
        "# normalize \n",
        "X_train /= 255\n",
        "X_test /= 255\n",
        "print(X_train.shape[0], 'train samples')\n",
        "print(X_test.shape[0], 'test samples')\n",
        "'''"
      ],
      "execution_count": 0,
      "outputs": [
        {
          "output_type": "stream",
          "text": [
            "60000 train samples\n",
            "10000 test samples\n"
          ],
          "name": "stdout"
        }
      ]
    },
    {
      "metadata": {
        "id": "PCX5L6DFRMTK",
        "colab_type": "code",
        "colab": {}
      },
      "cell_type": "code",
      "source": [
        "# convert class vectors to binary class matrices\n",
        "# one hot encoding\n",
        "Y_train = np_utils.to_categorical(Y_train, NB_CLASSES)\n",
        "Y_test = np_utils.to_categorical(Y_test, NB_CLASSES)"
      ],
      "execution_count": 0,
      "outputs": []
    },
    {
      "metadata": {
        "id": "yabl_05FRPHs",
        "colab_type": "code",
        "outputId": "5299980b-5029-41aa-d203-320a1c7aeab6",
        "colab": {
          "base_uri": "https://localhost:8080/",
          "height": 474
        }
      },
      "cell_type": "code",
      "source": [
        "#model \n",
        "model =Sequential()\n",
        "model.add(Dense(N_HIDDEN, input_shape=(RESHAPED,)))\n",
        "model.add(Activation('relu'))\n",
        "model.add(Dropout(DROPOUT))\n",
        "model.add(Dense(N_HIDDEN))\n",
        "model.add(Activation('relu'))\n",
        "model.add(Dropout(DROPOUT))\n",
        "model.add(Dense(NB_CLASSES)) #we only have 10 classes for classification\n",
        "model.add(Activation('softmax'))\n",
        "model.summary()\n"
      ],
      "execution_count": 7,
      "outputs": [
        {
          "output_type": "stream",
          "text": [
            "WARNING:tensorflow:From /usr/local/lib/python3.6/dist-packages/keras/backend/tensorflow_backend.py:3445: calling dropout (from tensorflow.python.ops.nn_ops) with keep_prob is deprecated and will be removed in a future version.\n",
            "Instructions for updating:\n",
            "Please use `rate` instead of `keep_prob`. Rate should be set to `rate = 1 - keep_prob`.\n",
            "_________________________________________________________________\n",
            "Layer (type)                 Output Shape              Param #   \n",
            "=================================================================\n",
            "dense_1 (Dense)              (None, 128)               100480    \n",
            "_________________________________________________________________\n",
            "activation_1 (Activation)    (None, 128)               0         \n",
            "_________________________________________________________________\n",
            "dropout_1 (Dropout)          (None, 128)               0         \n",
            "_________________________________________________________________\n",
            "dense_2 (Dense)              (None, 128)               16512     \n",
            "_________________________________________________________________\n",
            "activation_2 (Activation)    (None, 128)               0         \n",
            "_________________________________________________________________\n",
            "dropout_2 (Dropout)          (None, 128)               0         \n",
            "_________________________________________________________________\n",
            "dense_3 (Dense)              (None, 10)                1290      \n",
            "_________________________________________________________________\n",
            "activation_3 (Activation)    (None, 10)                0         \n",
            "=================================================================\n",
            "Total params: 118,282\n",
            "Trainable params: 118,282\n",
            "Non-trainable params: 0\n",
            "_________________________________________________________________\n"
          ],
          "name": "stdout"
        }
      ]
    },
    {
      "metadata": {
        "id": "4BInsiKETpzQ",
        "colab_type": "code",
        "colab": {}
      },
      "cell_type": "code",
      "source": [
        "model.compile(\n",
        "    loss='categorical_crossentropy',\n",
        "    optimizer=OPTIMIZER,\n",
        "    metrics=['accuracy']    \n",
        ")"
      ],
      "execution_count": 0,
      "outputs": []
    },
    {
      "metadata": {
        "id": "nvoa0-pPUdHW",
        "colab_type": "code",
        "outputId": "fea58e96-d229-4cae-f009-5c39bb3e36be",
        "colab": {
          "base_uri": "https://localhost:8080/",
          "height": 8504
        }
      },
      "cell_type": "code",
      "source": [
        "history = model.fit(\n",
        "    X_train, \n",
        "    Y_train,               \n",
        "    batch_size=BATCH_SIZE,\n",
        "    epochs=NB_EPOCH,\n",
        "    verbose = VERBOSE,\n",
        "    validation_split=VALIDATION_SPLIT\n",
        "    )\n"
      ],
      "execution_count": 9,
      "outputs": [
        {
          "output_type": "stream",
          "text": [
            "WARNING:tensorflow:From /usr/local/lib/python3.6/dist-packages/tensorflow/python/ops/math_ops.py:3066: to_int32 (from tensorflow.python.ops.math_ops) is deprecated and will be removed in a future version.\n",
            "Instructions for updating:\n",
            "Use tf.cast instead.\n",
            "Train on 48000 samples, validate on 12000 samples\n",
            "Epoch 1/250\n",
            "48000/48000 [==============================] - 3s 58us/step - loss: 1.7404 - acc: 0.4538 - val_loss: 0.9292 - val_acc: 0.8123\n",
            "Epoch 2/250\n",
            "48000/48000 [==============================] - 2s 41us/step - loss: 0.9231 - acc: 0.7229 - val_loss: 0.5400 - val_acc: 0.8652\n",
            "Epoch 3/250\n",
            "48000/48000 [==============================] - 2s 42us/step - loss: 0.6935 - acc: 0.7879 - val_loss: 0.4298 - val_acc: 0.8883\n",
            "Epoch 4/250\n",
            "48000/48000 [==============================] - 2s 42us/step - loss: 0.5947 - acc: 0.8210 - val_loss: 0.3790 - val_acc: 0.8977\n",
            "Epoch 5/250\n",
            "48000/48000 [==============================] - 2s 40us/step - loss: 0.5347 - acc: 0.8393 - val_loss: 0.3456 - val_acc: 0.9040\n",
            "Epoch 6/250\n",
            "48000/48000 [==============================] - 2s 41us/step - loss: 0.4976 - acc: 0.8524 - val_loss: 0.3232 - val_acc: 0.9107\n",
            "Epoch 7/250\n",
            "48000/48000 [==============================] - 2s 40us/step - loss: 0.4616 - acc: 0.8628 - val_loss: 0.3048 - val_acc: 0.9127\n",
            "Epoch 8/250\n",
            "48000/48000 [==============================] - 2s 40us/step - loss: 0.4386 - acc: 0.8688 - val_loss: 0.2896 - val_acc: 0.9171\n",
            "Epoch 9/250\n",
            "48000/48000 [==============================] - 2s 41us/step - loss: 0.4181 - acc: 0.8761 - val_loss: 0.2776 - val_acc: 0.9198\n",
            "Epoch 10/250\n",
            "48000/48000 [==============================] - 2s 42us/step - loss: 0.3990 - acc: 0.8839 - val_loss: 0.2657 - val_acc: 0.9233\n",
            "Epoch 11/250\n",
            "48000/48000 [==============================] - 2s 41us/step - loss: 0.3819 - acc: 0.8876 - val_loss: 0.2552 - val_acc: 0.9257\n",
            "Epoch 12/250\n",
            "48000/48000 [==============================] - 2s 41us/step - loss: 0.3688 - acc: 0.8921 - val_loss: 0.2465 - val_acc: 0.9282\n",
            "Epoch 13/250\n",
            "48000/48000 [==============================] - 2s 42us/step - loss: 0.3571 - acc: 0.8943 - val_loss: 0.2388 - val_acc: 0.9301\n",
            "Epoch 14/250\n",
            "48000/48000 [==============================] - 2s 42us/step - loss: 0.3466 - acc: 0.8992 - val_loss: 0.2319 - val_acc: 0.9322\n",
            "Epoch 15/250\n",
            "48000/48000 [==============================] - 2s 42us/step - loss: 0.3358 - acc: 0.9014 - val_loss: 0.2261 - val_acc: 0.9340\n",
            "Epoch 16/250\n",
            "48000/48000 [==============================] - 2s 41us/step - loss: 0.3244 - acc: 0.9056 - val_loss: 0.2180 - val_acc: 0.9352\n",
            "Epoch 17/250\n",
            "48000/48000 [==============================] - 2s 40us/step - loss: 0.3141 - acc: 0.9086 - val_loss: 0.2122 - val_acc: 0.9377\n",
            "Epoch 18/250\n",
            "48000/48000 [==============================] - 2s 40us/step - loss: 0.3102 - acc: 0.9095 - val_loss: 0.2076 - val_acc: 0.9390\n",
            "Epoch 19/250\n",
            "48000/48000 [==============================] - 2s 41us/step - loss: 0.3018 - acc: 0.9119 - val_loss: 0.2018 - val_acc: 0.9409\n",
            "Epoch 20/250\n",
            "48000/48000 [==============================] - 2s 42us/step - loss: 0.2931 - acc: 0.9131 - val_loss: 0.1974 - val_acc: 0.9420\n",
            "Epoch 21/250\n",
            "48000/48000 [==============================] - 2s 40us/step - loss: 0.2866 - acc: 0.9171 - val_loss: 0.1920 - val_acc: 0.9438\n",
            "Epoch 22/250\n",
            "48000/48000 [==============================] - 2s 41us/step - loss: 0.2789 - acc: 0.9172 - val_loss: 0.1879 - val_acc: 0.9447\n",
            "Epoch 23/250\n",
            "48000/48000 [==============================] - 2s 41us/step - loss: 0.2730 - acc: 0.9200 - val_loss: 0.1842 - val_acc: 0.9464\n",
            "Epoch 24/250\n",
            "48000/48000 [==============================] - 2s 40us/step - loss: 0.2686 - acc: 0.9211 - val_loss: 0.1811 - val_acc: 0.9464\n",
            "Epoch 25/250\n",
            "48000/48000 [==============================] - 2s 41us/step - loss: 0.2618 - acc: 0.9234 - val_loss: 0.1770 - val_acc: 0.9478\n",
            "Epoch 26/250\n",
            "48000/48000 [==============================] - 2s 41us/step - loss: 0.2584 - acc: 0.9249 - val_loss: 0.1736 - val_acc: 0.9488\n",
            "Epoch 27/250\n",
            "48000/48000 [==============================] - 2s 41us/step - loss: 0.2539 - acc: 0.9254 - val_loss: 0.1707 - val_acc: 0.9497\n",
            "Epoch 28/250\n",
            "48000/48000 [==============================] - 2s 41us/step - loss: 0.2453 - acc: 0.9277 - val_loss: 0.1677 - val_acc: 0.9502\n",
            "Epoch 29/250\n",
            "48000/48000 [==============================] - 2s 41us/step - loss: 0.2427 - acc: 0.9275 - val_loss: 0.1641 - val_acc: 0.9518\n",
            "Epoch 30/250\n",
            "48000/48000 [==============================] - 2s 40us/step - loss: 0.2397 - acc: 0.9297 - val_loss: 0.1616 - val_acc: 0.9521\n",
            "Epoch 31/250\n",
            "48000/48000 [==============================] - 2s 41us/step - loss: 0.2361 - acc: 0.9304 - val_loss: 0.1590 - val_acc: 0.9536\n",
            "Epoch 32/250\n",
            "48000/48000 [==============================] - 2s 39us/step - loss: 0.2320 - acc: 0.9306 - val_loss: 0.1568 - val_acc: 0.9546\n",
            "Epoch 33/250\n",
            "48000/48000 [==============================] - 2s 39us/step - loss: 0.2284 - acc: 0.9326 - val_loss: 0.1534 - val_acc: 0.9553\n",
            "Epoch 34/250\n",
            "48000/48000 [==============================] - 2s 41us/step - loss: 0.2257 - acc: 0.9327 - val_loss: 0.1519 - val_acc: 0.9552\n",
            "Epoch 35/250\n",
            "48000/48000 [==============================] - 2s 39us/step - loss: 0.2214 - acc: 0.9355 - val_loss: 0.1502 - val_acc: 0.9556\n",
            "Epoch 36/250\n",
            "48000/48000 [==============================] - 2s 40us/step - loss: 0.2169 - acc: 0.9353 - val_loss: 0.1485 - val_acc: 0.9563\n",
            "Epoch 37/250\n",
            "48000/48000 [==============================] - 2s 41us/step - loss: 0.2124 - acc: 0.9375 - val_loss: 0.1459 - val_acc: 0.9572\n",
            "Epoch 38/250\n",
            "48000/48000 [==============================] - 2s 40us/step - loss: 0.2122 - acc: 0.9372 - val_loss: 0.1432 - val_acc: 0.9579\n",
            "Epoch 39/250\n",
            "48000/48000 [==============================] - 2s 40us/step - loss: 0.2091 - acc: 0.9388 - val_loss: 0.1422 - val_acc: 0.9576\n",
            "Epoch 40/250\n",
            "48000/48000 [==============================] - 2s 40us/step - loss: 0.2042 - acc: 0.9392 - val_loss: 0.1411 - val_acc: 0.9582\n",
            "Epoch 41/250\n",
            "48000/48000 [==============================] - 2s 40us/step - loss: 0.2027 - acc: 0.9398 - val_loss: 0.1397 - val_acc: 0.9581\n",
            "Epoch 42/250\n",
            "48000/48000 [==============================] - 2s 40us/step - loss: 0.1985 - acc: 0.9415 - val_loss: 0.1367 - val_acc: 0.9596\n",
            "Epoch 43/250\n",
            "48000/48000 [==============================] - 2s 40us/step - loss: 0.2003 - acc: 0.9409 - val_loss: 0.1350 - val_acc: 0.9606\n",
            "Epoch 44/250\n",
            "48000/48000 [==============================] - 2s 41us/step - loss: 0.1953 - acc: 0.9420 - val_loss: 0.1337 - val_acc: 0.9606\n",
            "Epoch 45/250\n",
            "48000/48000 [==============================] - 2s 40us/step - loss: 0.1920 - acc: 0.9432 - val_loss: 0.1332 - val_acc: 0.9600\n",
            "Epoch 46/250\n",
            "48000/48000 [==============================] - 2s 39us/step - loss: 0.1901 - acc: 0.9444 - val_loss: 0.1317 - val_acc: 0.9614\n",
            "Epoch 47/250\n",
            "48000/48000 [==============================] - 2s 39us/step - loss: 0.1876 - acc: 0.9449 - val_loss: 0.1300 - val_acc: 0.9611\n",
            "Epoch 48/250\n",
            "48000/48000 [==============================] - 2s 40us/step - loss: 0.1867 - acc: 0.9443 - val_loss: 0.1301 - val_acc: 0.9617\n",
            "Epoch 49/250\n",
            "48000/48000 [==============================] - 2s 40us/step - loss: 0.1865 - acc: 0.9453 - val_loss: 0.1283 - val_acc: 0.9614\n",
            "Epoch 50/250\n",
            "48000/48000 [==============================] - 2s 39us/step - loss: 0.1803 - acc: 0.9461 - val_loss: 0.1268 - val_acc: 0.9621\n",
            "Epoch 51/250\n",
            "48000/48000 [==============================] - 2s 40us/step - loss: 0.1823 - acc: 0.9466 - val_loss: 0.1255 - val_acc: 0.9633\n",
            "Epoch 52/250\n",
            "48000/48000 [==============================] - 2s 39us/step - loss: 0.1794 - acc: 0.9459 - val_loss: 0.1245 - val_acc: 0.9633\n",
            "Epoch 53/250\n",
            "48000/48000 [==============================] - 2s 40us/step - loss: 0.1753 - acc: 0.9479 - val_loss: 0.1234 - val_acc: 0.9634\n",
            "Epoch 54/250\n",
            "48000/48000 [==============================] - 2s 40us/step - loss: 0.1739 - acc: 0.9479 - val_loss: 0.1221 - val_acc: 0.9637\n",
            "Epoch 55/250\n",
            "48000/48000 [==============================] - 2s 39us/step - loss: 0.1736 - acc: 0.9492 - val_loss: 0.1209 - val_acc: 0.9646\n",
            "Epoch 56/250\n",
            "48000/48000 [==============================] - 2s 39us/step - loss: 0.1720 - acc: 0.9487 - val_loss: 0.1208 - val_acc: 0.9637\n",
            "Epoch 57/250\n",
            "48000/48000 [==============================] - 2s 40us/step - loss: 0.1692 - acc: 0.9502 - val_loss: 0.1189 - val_acc: 0.9648\n",
            "Epoch 58/250\n",
            "48000/48000 [==============================] - 2s 40us/step - loss: 0.1664 - acc: 0.9506 - val_loss: 0.1188 - val_acc: 0.9650\n",
            "Epoch 59/250\n",
            "48000/48000 [==============================] - 2s 40us/step - loss: 0.1682 - acc: 0.9500 - val_loss: 0.1173 - val_acc: 0.9652\n",
            "Epoch 60/250\n",
            "48000/48000 [==============================] - 2s 40us/step - loss: 0.1647 - acc: 0.9514 - val_loss: 0.1166 - val_acc: 0.9652\n",
            "Epoch 61/250\n",
            "48000/48000 [==============================] - 2s 39us/step - loss: 0.1615 - acc: 0.9521 - val_loss: 0.1157 - val_acc: 0.9654\n",
            "Epoch 62/250\n",
            "48000/48000 [==============================] - 2s 39us/step - loss: 0.1592 - acc: 0.9526 - val_loss: 0.1150 - val_acc: 0.9656\n",
            "Epoch 63/250\n",
            "48000/48000 [==============================] - 2s 38us/step - loss: 0.1587 - acc: 0.9534 - val_loss: 0.1142 - val_acc: 0.9658\n",
            "Epoch 64/250\n",
            "48000/48000 [==============================] - 2s 37us/step - loss: 0.1564 - acc: 0.9530 - val_loss: 0.1126 - val_acc: 0.9667\n",
            "Epoch 65/250\n",
            "48000/48000 [==============================] - 2s 38us/step - loss: 0.1560 - acc: 0.9539 - val_loss: 0.1129 - val_acc: 0.9667\n",
            "Epoch 66/250\n",
            "48000/48000 [==============================] - 2s 38us/step - loss: 0.1572 - acc: 0.9536 - val_loss: 0.1120 - val_acc: 0.9662\n",
            "Epoch 67/250\n",
            "48000/48000 [==============================] - 2s 40us/step - loss: 0.1553 - acc: 0.9547 - val_loss: 0.1106 - val_acc: 0.9668\n",
            "Epoch 68/250\n",
            "48000/48000 [==============================] - 2s 39us/step - loss: 0.1525 - acc: 0.9544 - val_loss: 0.1103 - val_acc: 0.9672\n",
            "Epoch 69/250\n",
            "48000/48000 [==============================] - 2s 38us/step - loss: 0.1523 - acc: 0.9553 - val_loss: 0.1089 - val_acc: 0.9677\n",
            "Epoch 70/250\n",
            "48000/48000 [==============================] - 2s 39us/step - loss: 0.1502 - acc: 0.9551 - val_loss: 0.1086 - val_acc: 0.9680\n",
            "Epoch 71/250\n",
            "48000/48000 [==============================] - 2s 39us/step - loss: 0.1478 - acc: 0.9566 - val_loss: 0.1082 - val_acc: 0.9680\n",
            "Epoch 72/250\n",
            "48000/48000 [==============================] - 2s 39us/step - loss: 0.1450 - acc: 0.9565 - val_loss: 0.1073 - val_acc: 0.9685\n",
            "Epoch 73/250\n",
            "48000/48000 [==============================] - 2s 39us/step - loss: 0.1462 - acc: 0.9569 - val_loss: 0.1069 - val_acc: 0.9680\n",
            "Epoch 74/250\n",
            "48000/48000 [==============================] - 2s 38us/step - loss: 0.1439 - acc: 0.9583 - val_loss: 0.1068 - val_acc: 0.9684\n",
            "Epoch 75/250\n",
            "48000/48000 [==============================] - 2s 38us/step - loss: 0.1447 - acc: 0.9566 - val_loss: 0.1059 - val_acc: 0.9680\n",
            "Epoch 76/250\n",
            "48000/48000 [==============================] - 2s 40us/step - loss: 0.1414 - acc: 0.9580 - val_loss: 0.1060 - val_acc: 0.9685\n",
            "Epoch 77/250\n",
            "48000/48000 [==============================] - 2s 40us/step - loss: 0.1421 - acc: 0.9579 - val_loss: 0.1056 - val_acc: 0.9679\n",
            "Epoch 78/250\n",
            "48000/48000 [==============================] - 2s 41us/step - loss: 0.1399 - acc: 0.9589 - val_loss: 0.1044 - val_acc: 0.9689\n",
            "Epoch 79/250\n",
            "48000/48000 [==============================] - 2s 41us/step - loss: 0.1415 - acc: 0.9573 - val_loss: 0.1042 - val_acc: 0.9687\n",
            "Epoch 80/250\n",
            "48000/48000 [==============================] - 2s 40us/step - loss: 0.1393 - acc: 0.9595 - val_loss: 0.1034 - val_acc: 0.9689\n",
            "Epoch 81/250\n",
            "48000/48000 [==============================] - 2s 40us/step - loss: 0.1370 - acc: 0.9590 - val_loss: 0.1035 - val_acc: 0.9687\n",
            "Epoch 82/250\n",
            "48000/48000 [==============================] - 2s 40us/step - loss: 0.1365 - acc: 0.9579 - val_loss: 0.1031 - val_acc: 0.9690\n",
            "Epoch 83/250\n",
            "48000/48000 [==============================] - 2s 38us/step - loss: 0.1344 - acc: 0.9597 - val_loss: 0.1020 - val_acc: 0.9695\n",
            "Epoch 84/250\n",
            "48000/48000 [==============================] - 2s 38us/step - loss: 0.1338 - acc: 0.9599 - val_loss: 0.1015 - val_acc: 0.9692\n",
            "Epoch 85/250\n",
            "48000/48000 [==============================] - 2s 38us/step - loss: 0.1337 - acc: 0.9604 - val_loss: 0.1015 - val_acc: 0.9696\n",
            "Epoch 86/250\n",
            "48000/48000 [==============================] - 2s 38us/step - loss: 0.1346 - acc: 0.9602 - val_loss: 0.1006 - val_acc: 0.9699\n",
            "Epoch 87/250\n",
            "48000/48000 [==============================] - 2s 39us/step - loss: 0.1304 - acc: 0.9609 - val_loss: 0.1004 - val_acc: 0.9703\n",
            "Epoch 88/250\n",
            "48000/48000 [==============================] - 2s 38us/step - loss: 0.1321 - acc: 0.9594 - val_loss: 0.1000 - val_acc: 0.9697\n",
            "Epoch 89/250\n",
            "48000/48000 [==============================] - 2s 38us/step - loss: 0.1304 - acc: 0.9608 - val_loss: 0.0991 - val_acc: 0.9702\n",
            "Epoch 90/250\n",
            "48000/48000 [==============================] - 2s 39us/step - loss: 0.1321 - acc: 0.9604 - val_loss: 0.0987 - val_acc: 0.9703\n",
            "Epoch 91/250\n",
            "48000/48000 [==============================] - 2s 38us/step - loss: 0.1286 - acc: 0.9620 - val_loss: 0.0982 - val_acc: 0.9709\n",
            "Epoch 92/250\n",
            "48000/48000 [==============================] - 2s 38us/step - loss: 0.1318 - acc: 0.9600 - val_loss: 0.0986 - val_acc: 0.9715\n",
            "Epoch 93/250\n",
            "48000/48000 [==============================] - 2s 39us/step - loss: 0.1285 - acc: 0.9616 - val_loss: 0.0977 - val_acc: 0.9708\n",
            "Epoch 94/250\n",
            "48000/48000 [==============================] - 2s 38us/step - loss: 0.1249 - acc: 0.9621 - val_loss: 0.0975 - val_acc: 0.9712\n",
            "Epoch 95/250\n",
            "48000/48000 [==============================] - 2s 40us/step - loss: 0.1265 - acc: 0.9626 - val_loss: 0.0974 - val_acc: 0.9712\n",
            "Epoch 96/250\n",
            "48000/48000 [==============================] - 2s 40us/step - loss: 0.1239 - acc: 0.9625 - val_loss: 0.0969 - val_acc: 0.9715\n",
            "Epoch 97/250\n",
            "48000/48000 [==============================] - 2s 39us/step - loss: 0.1241 - acc: 0.9621 - val_loss: 0.0960 - val_acc: 0.9715\n",
            "Epoch 98/250\n",
            "48000/48000 [==============================] - 2s 40us/step - loss: 0.1235 - acc: 0.9630 - val_loss: 0.0966 - val_acc: 0.9715\n",
            "Epoch 99/250\n",
            "48000/48000 [==============================] - 2s 41us/step - loss: 0.1217 - acc: 0.9644 - val_loss: 0.0957 - val_acc: 0.9718\n",
            "Epoch 100/250\n",
            "48000/48000 [==============================] - 2s 39us/step - loss: 0.1211 - acc: 0.9636 - val_loss: 0.0957 - val_acc: 0.9722\n",
            "Epoch 101/250\n",
            "48000/48000 [==============================] - 2s 40us/step - loss: 0.1227 - acc: 0.9632 - val_loss: 0.0961 - val_acc: 0.9725\n",
            "Epoch 102/250\n",
            "48000/48000 [==============================] - 2s 40us/step - loss: 0.1215 - acc: 0.9642 - val_loss: 0.0947 - val_acc: 0.9722\n",
            "Epoch 103/250\n",
            "48000/48000 [==============================] - 2s 39us/step - loss: 0.1192 - acc: 0.9646 - val_loss: 0.0950 - val_acc: 0.9719\n",
            "Epoch 104/250\n",
            "48000/48000 [==============================] - 2s 40us/step - loss: 0.1177 - acc: 0.9647 - val_loss: 0.0942 - val_acc: 0.9721\n",
            "Epoch 105/250\n",
            "48000/48000 [==============================] - 2s 40us/step - loss: 0.1164 - acc: 0.9655 - val_loss: 0.0943 - val_acc: 0.9728\n",
            "Epoch 106/250\n",
            "48000/48000 [==============================] - 2s 40us/step - loss: 0.1170 - acc: 0.9649 - val_loss: 0.0940 - val_acc: 0.9725\n",
            "Epoch 107/250\n",
            "48000/48000 [==============================] - 2s 41us/step - loss: 0.1169 - acc: 0.9647 - val_loss: 0.0940 - val_acc: 0.9732\n",
            "Epoch 108/250\n",
            "48000/48000 [==============================] - 2s 40us/step - loss: 0.1138 - acc: 0.9665 - val_loss: 0.0933 - val_acc: 0.9723\n",
            "Epoch 109/250\n",
            "48000/48000 [==============================] - 2s 40us/step - loss: 0.1146 - acc: 0.9659 - val_loss: 0.0933 - val_acc: 0.9734\n",
            "Epoch 110/250\n",
            "48000/48000 [==============================] - 2s 40us/step - loss: 0.1141 - acc: 0.9658 - val_loss: 0.0928 - val_acc: 0.9727\n",
            "Epoch 111/250\n",
            "48000/48000 [==============================] - 2s 40us/step - loss: 0.1146 - acc: 0.9658 - val_loss: 0.0927 - val_acc: 0.9721\n",
            "Epoch 112/250\n",
            "48000/48000 [==============================] - 2s 40us/step - loss: 0.1116 - acc: 0.9661 - val_loss: 0.0917 - val_acc: 0.9737\n",
            "Epoch 113/250\n",
            "48000/48000 [==============================] - 2s 40us/step - loss: 0.1126 - acc: 0.9657 - val_loss: 0.0921 - val_acc: 0.9732\n",
            "Epoch 114/250\n",
            "48000/48000 [==============================] - 2s 40us/step - loss: 0.1144 - acc: 0.9655 - val_loss: 0.0915 - val_acc: 0.9737\n",
            "Epoch 115/250\n",
            "48000/48000 [==============================] - 2s 40us/step - loss: 0.1113 - acc: 0.9664 - val_loss: 0.0914 - val_acc: 0.9742\n",
            "Epoch 116/250\n",
            "48000/48000 [==============================] - 2s 40us/step - loss: 0.1087 - acc: 0.9675 - val_loss: 0.0912 - val_acc: 0.9739\n",
            "Epoch 117/250\n",
            "48000/48000 [==============================] - 2s 40us/step - loss: 0.1115 - acc: 0.9665 - val_loss: 0.0912 - val_acc: 0.9735\n",
            "Epoch 118/250\n",
            "48000/48000 [==============================] - 2s 40us/step - loss: 0.1086 - acc: 0.9671 - val_loss: 0.0908 - val_acc: 0.9738\n",
            "Epoch 119/250\n",
            "48000/48000 [==============================] - 2s 41us/step - loss: 0.1117 - acc: 0.9661 - val_loss: 0.0910 - val_acc: 0.9743\n",
            "Epoch 120/250\n",
            "48000/48000 [==============================] - 2s 40us/step - loss: 0.1070 - acc: 0.9676 - val_loss: 0.0901 - val_acc: 0.9744\n",
            "Epoch 121/250\n",
            "48000/48000 [==============================] - 2s 41us/step - loss: 0.1083 - acc: 0.9669 - val_loss: 0.0904 - val_acc: 0.9743\n",
            "Epoch 122/250\n",
            "48000/48000 [==============================] - 2s 41us/step - loss: 0.1074 - acc: 0.9673 - val_loss: 0.0895 - val_acc: 0.9747\n",
            "Epoch 123/250\n",
            "48000/48000 [==============================] - 2s 40us/step - loss: 0.1042 - acc: 0.9680 - val_loss: 0.0891 - val_acc: 0.9747\n",
            "Epoch 124/250\n",
            "48000/48000 [==============================] - 2s 42us/step - loss: 0.1046 - acc: 0.9684 - val_loss: 0.0894 - val_acc: 0.9744\n",
            "Epoch 125/250\n",
            "48000/48000 [==============================] - 2s 40us/step - loss: 0.1043 - acc: 0.9691 - val_loss: 0.0892 - val_acc: 0.9744\n",
            "Epoch 126/250\n",
            "48000/48000 [==============================] - 2s 40us/step - loss: 0.1035 - acc: 0.9685 - val_loss: 0.0889 - val_acc: 0.9746\n",
            "Epoch 127/250\n",
            "48000/48000 [==============================] - 2s 40us/step - loss: 0.1033 - acc: 0.9685 - val_loss: 0.0890 - val_acc: 0.9747\n",
            "Epoch 128/250\n",
            "48000/48000 [==============================] - 2s 40us/step - loss: 0.1042 - acc: 0.9688 - val_loss: 0.0884 - val_acc: 0.9751\n",
            "Epoch 129/250\n",
            "48000/48000 [==============================] - 2s 40us/step - loss: 0.1050 - acc: 0.9678 - val_loss: 0.0883 - val_acc: 0.9751\n",
            "Epoch 130/250\n",
            "48000/48000 [==============================] - 2s 41us/step - loss: 0.1039 - acc: 0.9691 - val_loss: 0.0883 - val_acc: 0.9750\n",
            "Epoch 131/250\n",
            "48000/48000 [==============================] - 2s 40us/step - loss: 0.1025 - acc: 0.9688 - val_loss: 0.0876 - val_acc: 0.9752\n",
            "Epoch 132/250\n",
            "48000/48000 [==============================] - 2s 40us/step - loss: 0.0999 - acc: 0.9702 - val_loss: 0.0879 - val_acc: 0.9750\n",
            "Epoch 133/250\n",
            "48000/48000 [==============================] - 2s 41us/step - loss: 0.1009 - acc: 0.9687 - val_loss: 0.0876 - val_acc: 0.9752\n",
            "Epoch 134/250\n",
            "48000/48000 [==============================] - 2s 40us/step - loss: 0.0989 - acc: 0.9687 - val_loss: 0.0877 - val_acc: 0.9748\n",
            "Epoch 135/250\n",
            "48000/48000 [==============================] - 2s 40us/step - loss: 0.1007 - acc: 0.9694 - val_loss: 0.0880 - val_acc: 0.9748\n",
            "Epoch 136/250\n",
            "48000/48000 [==============================] - 2s 42us/step - loss: 0.1001 - acc: 0.9704 - val_loss: 0.0876 - val_acc: 0.9752\n",
            "Epoch 137/250\n",
            "48000/48000 [==============================] - 2s 40us/step - loss: 0.0996 - acc: 0.9695 - val_loss: 0.0878 - val_acc: 0.9756\n",
            "Epoch 138/250\n",
            "48000/48000 [==============================] - 2s 40us/step - loss: 0.1003 - acc: 0.9691 - val_loss: 0.0875 - val_acc: 0.9756\n",
            "Epoch 139/250\n",
            "48000/48000 [==============================] - 2s 43us/step - loss: 0.0975 - acc: 0.9706 - val_loss: 0.0873 - val_acc: 0.9753\n",
            "Epoch 140/250\n",
            "48000/48000 [==============================] - 2s 44us/step - loss: 0.0964 - acc: 0.9707 - val_loss: 0.0869 - val_acc: 0.9758\n",
            "Epoch 141/250\n",
            "48000/48000 [==============================] - 2s 45us/step - loss: 0.0971 - acc: 0.9698 - val_loss: 0.0867 - val_acc: 0.9759\n",
            "Epoch 142/250\n",
            "48000/48000 [==============================] - 2s 46us/step - loss: 0.0952 - acc: 0.9708 - val_loss: 0.0865 - val_acc: 0.9762\n",
            "Epoch 143/250\n",
            "48000/48000 [==============================] - 2s 46us/step - loss: 0.0969 - acc: 0.9702 - val_loss: 0.0868 - val_acc: 0.9762\n",
            "Epoch 144/250\n",
            "48000/48000 [==============================] - 2s 42us/step - loss: 0.0945 - acc: 0.9712 - val_loss: 0.0865 - val_acc: 0.9757\n",
            "Epoch 145/250\n",
            "48000/48000 [==============================] - 2s 43us/step - loss: 0.0961 - acc: 0.9707 - val_loss: 0.0859 - val_acc: 0.9757\n",
            "Epoch 146/250\n",
            "48000/48000 [==============================] - 2s 43us/step - loss: 0.0939 - acc: 0.9721 - val_loss: 0.0863 - val_acc: 0.9755\n",
            "Epoch 147/250\n",
            "48000/48000 [==============================] - 2s 43us/step - loss: 0.0936 - acc: 0.9715 - val_loss: 0.0866 - val_acc: 0.9759\n",
            "Epoch 148/250\n",
            "48000/48000 [==============================] - 2s 40us/step - loss: 0.0948 - acc: 0.9709 - val_loss: 0.0861 - val_acc: 0.9759\n",
            "Epoch 149/250\n",
            "48000/48000 [==============================] - 2s 41us/step - loss: 0.0925 - acc: 0.9721 - val_loss: 0.0856 - val_acc: 0.9758\n",
            "Epoch 150/250\n",
            "48000/48000 [==============================] - 2s 41us/step - loss: 0.0916 - acc: 0.9721 - val_loss: 0.0862 - val_acc: 0.9759\n",
            "Epoch 151/250\n",
            "48000/48000 [==============================] - 2s 40us/step - loss: 0.0941 - acc: 0.9718 - val_loss: 0.0856 - val_acc: 0.9761\n",
            "Epoch 152/250\n",
            "48000/48000 [==============================] - 2s 41us/step - loss: 0.0923 - acc: 0.9725 - val_loss: 0.0853 - val_acc: 0.9763\n",
            "Epoch 153/250\n",
            "48000/48000 [==============================] - 2s 41us/step - loss: 0.0892 - acc: 0.9727 - val_loss: 0.0852 - val_acc: 0.9761\n",
            "Epoch 154/250\n",
            "48000/48000 [==============================] - 2s 40us/step - loss: 0.0916 - acc: 0.9724 - val_loss: 0.0854 - val_acc: 0.9761\n",
            "Epoch 155/250\n",
            "48000/48000 [==============================] - 2s 41us/step - loss: 0.0909 - acc: 0.9726 - val_loss: 0.0850 - val_acc: 0.9762\n",
            "Epoch 156/250\n",
            "48000/48000 [==============================] - 2s 40us/step - loss: 0.0910 - acc: 0.9728 - val_loss: 0.0849 - val_acc: 0.9757\n",
            "Epoch 157/250\n",
            "48000/48000 [==============================] - 2s 39us/step - loss: 0.0900 - acc: 0.9732 - val_loss: 0.0850 - val_acc: 0.9757\n",
            "Epoch 158/250\n",
            "48000/48000 [==============================] - 2s 40us/step - loss: 0.0885 - acc: 0.9730 - val_loss: 0.0854 - val_acc: 0.9762\n",
            "Epoch 159/250\n",
            "48000/48000 [==============================] - 2s 39us/step - loss: 0.0877 - acc: 0.9727 - val_loss: 0.0845 - val_acc: 0.9766\n",
            "Epoch 160/250\n",
            "48000/48000 [==============================] - 2s 39us/step - loss: 0.0893 - acc: 0.9729 - val_loss: 0.0848 - val_acc: 0.9763\n",
            "Epoch 161/250\n",
            "48000/48000 [==============================] - 2s 40us/step - loss: 0.0887 - acc: 0.9728 - val_loss: 0.0841 - val_acc: 0.9767\n",
            "Epoch 162/250\n",
            "48000/48000 [==============================] - 2s 40us/step - loss: 0.0884 - acc: 0.9734 - val_loss: 0.0843 - val_acc: 0.9764\n",
            "Epoch 163/250\n",
            "48000/48000 [==============================] - 2s 40us/step - loss: 0.0869 - acc: 0.9735 - val_loss: 0.0846 - val_acc: 0.9762\n",
            "Epoch 164/250\n",
            "48000/48000 [==============================] - 2s 40us/step - loss: 0.0877 - acc: 0.9730 - val_loss: 0.0841 - val_acc: 0.9769\n",
            "Epoch 165/250\n",
            "48000/48000 [==============================] - 2s 39us/step - loss: 0.0859 - acc: 0.9735 - val_loss: 0.0840 - val_acc: 0.9762\n",
            "Epoch 166/250\n",
            "48000/48000 [==============================] - 2s 40us/step - loss: 0.0862 - acc: 0.9733 - val_loss: 0.0848 - val_acc: 0.9762\n",
            "Epoch 167/250\n",
            "48000/48000 [==============================] - 2s 40us/step - loss: 0.0857 - acc: 0.9738 - val_loss: 0.0847 - val_acc: 0.9761\n",
            "Epoch 168/250\n",
            "48000/48000 [==============================] - 2s 39us/step - loss: 0.0837 - acc: 0.9747 - val_loss: 0.0843 - val_acc: 0.9758\n",
            "Epoch 169/250\n",
            "48000/48000 [==============================] - 2s 40us/step - loss: 0.0853 - acc: 0.9740 - val_loss: 0.0839 - val_acc: 0.9759\n",
            "Epoch 170/250\n",
            "48000/48000 [==============================] - 2s 40us/step - loss: 0.0871 - acc: 0.9735 - val_loss: 0.0834 - val_acc: 0.9763\n",
            "Epoch 171/250\n",
            "48000/48000 [==============================] - 2s 39us/step - loss: 0.0854 - acc: 0.9736 - val_loss: 0.0832 - val_acc: 0.9765\n",
            "Epoch 172/250\n",
            "48000/48000 [==============================] - 2s 40us/step - loss: 0.0845 - acc: 0.9738 - val_loss: 0.0833 - val_acc: 0.9761\n",
            "Epoch 173/250\n",
            "48000/48000 [==============================] - 2s 40us/step - loss: 0.0858 - acc: 0.9739 - val_loss: 0.0840 - val_acc: 0.9762\n",
            "Epoch 174/250\n",
            "48000/48000 [==============================] - 2s 39us/step - loss: 0.0826 - acc: 0.9748 - val_loss: 0.0833 - val_acc: 0.9762\n",
            "Epoch 175/250\n",
            "48000/48000 [==============================] - 2s 41us/step - loss: 0.0856 - acc: 0.9733 - val_loss: 0.0836 - val_acc: 0.9765\n",
            "Epoch 176/250\n",
            "48000/48000 [==============================] - 2s 40us/step - loss: 0.0807 - acc: 0.9753 - val_loss: 0.0838 - val_acc: 0.9767\n",
            "Epoch 177/250\n",
            "48000/48000 [==============================] - 2s 39us/step - loss: 0.0823 - acc: 0.9751 - val_loss: 0.0828 - val_acc: 0.9770\n",
            "Epoch 178/250\n",
            "48000/48000 [==============================] - 2s 40us/step - loss: 0.0825 - acc: 0.9747 - val_loss: 0.0828 - val_acc: 0.9770\n",
            "Epoch 179/250\n",
            "48000/48000 [==============================] - 2s 40us/step - loss: 0.0812 - acc: 0.9752 - val_loss: 0.0822 - val_acc: 0.9766\n",
            "Epoch 180/250\n",
            "48000/48000 [==============================] - 2s 40us/step - loss: 0.0834 - acc: 0.9739 - val_loss: 0.0831 - val_acc: 0.9769\n",
            "Epoch 181/250\n",
            "48000/48000 [==============================] - 2s 41us/step - loss: 0.0811 - acc: 0.9748 - val_loss: 0.0819 - val_acc: 0.9769\n",
            "Epoch 182/250\n",
            "48000/48000 [==============================] - 2s 40us/step - loss: 0.0784 - acc: 0.9756 - val_loss: 0.0827 - val_acc: 0.9768\n",
            "Epoch 183/250\n",
            "48000/48000 [==============================] - 2s 39us/step - loss: 0.0802 - acc: 0.9759 - val_loss: 0.0825 - val_acc: 0.9769\n",
            "Epoch 184/250\n",
            "48000/48000 [==============================] - 2s 40us/step - loss: 0.0808 - acc: 0.9750 - val_loss: 0.0818 - val_acc: 0.9767\n",
            "Epoch 185/250\n",
            "48000/48000 [==============================] - 2s 39us/step - loss: 0.0792 - acc: 0.9753 - val_loss: 0.0822 - val_acc: 0.9762\n",
            "Epoch 186/250\n",
            "48000/48000 [==============================] - 2s 40us/step - loss: 0.0806 - acc: 0.9756 - val_loss: 0.0825 - val_acc: 0.9767\n",
            "Epoch 187/250\n",
            "48000/48000 [==============================] - 2s 40us/step - loss: 0.0785 - acc: 0.9756 - val_loss: 0.0821 - val_acc: 0.9762\n",
            "Epoch 188/250\n",
            "48000/48000 [==============================] - 2s 39us/step - loss: 0.0795 - acc: 0.9754 - val_loss: 0.0813 - val_acc: 0.9766\n",
            "Epoch 189/250\n",
            "48000/48000 [==============================] - 2s 40us/step - loss: 0.0775 - acc: 0.9758 - val_loss: 0.0821 - val_acc: 0.9768\n",
            "Epoch 190/250\n",
            "48000/48000 [==============================] - 2s 40us/step - loss: 0.0775 - acc: 0.9758 - val_loss: 0.0822 - val_acc: 0.9764\n",
            "Epoch 191/250\n",
            "48000/48000 [==============================] - 2s 39us/step - loss: 0.0780 - acc: 0.9767 - val_loss: 0.0823 - val_acc: 0.9763\n",
            "Epoch 192/250\n",
            "48000/48000 [==============================] - 2s 39us/step - loss: 0.0797 - acc: 0.9759 - val_loss: 0.0821 - val_acc: 0.9770\n",
            "Epoch 193/250\n",
            "48000/48000 [==============================] - 2s 39us/step - loss: 0.0775 - acc: 0.9761 - val_loss: 0.0818 - val_acc: 0.9770\n",
            "Epoch 194/250\n",
            "48000/48000 [==============================] - 2s 39us/step - loss: 0.0780 - acc: 0.9761 - val_loss: 0.0819 - val_acc: 0.9770\n",
            "Epoch 195/250\n",
            "48000/48000 [==============================] - 2s 40us/step - loss: 0.0768 - acc: 0.9764 - val_loss: 0.0820 - val_acc: 0.9767\n",
            "Epoch 196/250\n",
            "48000/48000 [==============================] - 2s 40us/step - loss: 0.0741 - acc: 0.9770 - val_loss: 0.0818 - val_acc: 0.9766\n",
            "Epoch 197/250\n",
            "48000/48000 [==============================] - 2s 39us/step - loss: 0.0769 - acc: 0.9756 - val_loss: 0.0816 - val_acc: 0.9767\n",
            "Epoch 198/250\n",
            "48000/48000 [==============================] - 2s 40us/step - loss: 0.0749 - acc: 0.9767 - val_loss: 0.0814 - val_acc: 0.9770\n",
            "Epoch 199/250\n",
            "48000/48000 [==============================] - 2s 39us/step - loss: 0.0750 - acc: 0.9771 - val_loss: 0.0811 - val_acc: 0.9769\n",
            "Epoch 200/250\n",
            "48000/48000 [==============================] - 2s 38us/step - loss: 0.0742 - acc: 0.9768 - val_loss: 0.0810 - val_acc: 0.9764\n",
            "Epoch 201/250\n",
            "48000/48000 [==============================] - 2s 39us/step - loss: 0.0746 - acc: 0.9765 - val_loss: 0.0815 - val_acc: 0.9767\n",
            "Epoch 202/250\n",
            "48000/48000 [==============================] - 2s 39us/step - loss: 0.0781 - acc: 0.9762 - val_loss: 0.0811 - val_acc: 0.9771\n",
            "Epoch 203/250\n",
            "48000/48000 [==============================] - 2s 40us/step - loss: 0.0748 - acc: 0.9772 - val_loss: 0.0810 - val_acc: 0.9770\n",
            "Epoch 204/250\n",
            "48000/48000 [==============================] - 2s 39us/step - loss: 0.0719 - acc: 0.9773 - val_loss: 0.0811 - val_acc: 0.9767\n",
            "Epoch 205/250\n",
            "48000/48000 [==============================] - 2s 38us/step - loss: 0.0752 - acc: 0.9767 - val_loss: 0.0813 - val_acc: 0.9772\n",
            "Epoch 206/250\n",
            "48000/48000 [==============================] - 2s 38us/step - loss: 0.0730 - acc: 0.9773 - val_loss: 0.0813 - val_acc: 0.9771\n",
            "Epoch 207/250\n",
            "48000/48000 [==============================] - 2s 38us/step - loss: 0.0724 - acc: 0.9774 - val_loss: 0.0811 - val_acc: 0.9764\n",
            "Epoch 208/250\n",
            "48000/48000 [==============================] - 2s 38us/step - loss: 0.0725 - acc: 0.9770 - val_loss: 0.0814 - val_acc: 0.9771\n",
            "Epoch 209/250\n",
            "48000/48000 [==============================] - 2s 38us/step - loss: 0.0732 - acc: 0.9775 - val_loss: 0.0813 - val_acc: 0.9769\n",
            "Epoch 210/250\n",
            "48000/48000 [==============================] - 2s 38us/step - loss: 0.0710 - acc: 0.9780 - val_loss: 0.0816 - val_acc: 0.9768\n",
            "Epoch 211/250\n",
            "48000/48000 [==============================] - 2s 38us/step - loss: 0.0734 - acc: 0.9764 - val_loss: 0.0819 - val_acc: 0.9770\n",
            "Epoch 212/250\n",
            "48000/48000 [==============================] - 2s 38us/step - loss: 0.0739 - acc: 0.9770 - val_loss: 0.0815 - val_acc: 0.9767\n",
            "Epoch 213/250\n",
            "48000/48000 [==============================] - 2s 38us/step - loss: 0.0724 - acc: 0.9779 - val_loss: 0.0809 - val_acc: 0.9776\n",
            "Epoch 214/250\n",
            "48000/48000 [==============================] - 2s 38us/step - loss: 0.0722 - acc: 0.9780 - val_loss: 0.0811 - val_acc: 0.9773\n",
            "Epoch 215/250\n",
            "48000/48000 [==============================] - 2s 39us/step - loss: 0.0706 - acc: 0.9786 - val_loss: 0.0809 - val_acc: 0.9772\n",
            "Epoch 216/250\n",
            "48000/48000 [==============================] - 2s 40us/step - loss: 0.0707 - acc: 0.9776 - val_loss: 0.0809 - val_acc: 0.9772\n",
            "Epoch 217/250\n",
            "48000/48000 [==============================] - 2s 40us/step - loss: 0.0707 - acc: 0.9783 - val_loss: 0.0806 - val_acc: 0.9776\n",
            "Epoch 218/250\n",
            "48000/48000 [==============================] - 2s 41us/step - loss: 0.0686 - acc: 0.9786 - val_loss: 0.0810 - val_acc: 0.9771\n",
            "Epoch 219/250\n",
            "48000/48000 [==============================] - 2s 40us/step - loss: 0.0707 - acc: 0.9781 - val_loss: 0.0802 - val_acc: 0.9768\n",
            "Epoch 220/250\n",
            "48000/48000 [==============================] - 2s 39us/step - loss: 0.0689 - acc: 0.9790 - val_loss: 0.0803 - val_acc: 0.9770\n",
            "Epoch 221/250\n",
            "48000/48000 [==============================] - 2s 40us/step - loss: 0.0705 - acc: 0.9780 - val_loss: 0.0811 - val_acc: 0.9768\n",
            "Epoch 222/250\n",
            "48000/48000 [==============================] - 2s 39us/step - loss: 0.0687 - acc: 0.9787 - val_loss: 0.0808 - val_acc: 0.9769\n",
            "Epoch 223/250\n",
            "48000/48000 [==============================] - 2s 39us/step - loss: 0.0707 - acc: 0.9773 - val_loss: 0.0807 - val_acc: 0.9772\n",
            "Epoch 224/250\n",
            "48000/48000 [==============================] - 2s 40us/step - loss: 0.0699 - acc: 0.9790 - val_loss: 0.0804 - val_acc: 0.9770\n",
            "Epoch 225/250\n",
            "48000/48000 [==============================] - 2s 39us/step - loss: 0.0674 - acc: 0.9791 - val_loss: 0.0806 - val_acc: 0.9774\n",
            "Epoch 226/250\n",
            "48000/48000 [==============================] - 2s 39us/step - loss: 0.0684 - acc: 0.9789 - val_loss: 0.0805 - val_acc: 0.9772\n",
            "Epoch 227/250\n",
            "48000/48000 [==============================] - 2s 39us/step - loss: 0.0668 - acc: 0.9792 - val_loss: 0.0807 - val_acc: 0.9772\n",
            "Epoch 228/250\n",
            "48000/48000 [==============================] - 2s 38us/step - loss: 0.0693 - acc: 0.9788 - val_loss: 0.0807 - val_acc: 0.9770\n",
            "Epoch 229/250\n",
            "48000/48000 [==============================] - 2s 39us/step - loss: 0.0687 - acc: 0.9784 - val_loss: 0.0806 - val_acc: 0.9772\n",
            "Epoch 230/250\n",
            "48000/48000 [==============================] - 2s 39us/step - loss: 0.0685 - acc: 0.9783 - val_loss: 0.0802 - val_acc: 0.9768\n",
            "Epoch 231/250\n",
            "48000/48000 [==============================] - 2s 38us/step - loss: 0.0671 - acc: 0.9794 - val_loss: 0.0800 - val_acc: 0.9774\n",
            "Epoch 232/250\n",
            "48000/48000 [==============================] - 2s 40us/step - loss: 0.0681 - acc: 0.9786 - val_loss: 0.0802 - val_acc: 0.9772\n",
            "Epoch 233/250\n",
            "48000/48000 [==============================] - 2s 41us/step - loss: 0.0647 - acc: 0.9797 - val_loss: 0.0806 - val_acc: 0.9774\n",
            "Epoch 234/250\n",
            "48000/48000 [==============================] - 2s 39us/step - loss: 0.0679 - acc: 0.9782 - val_loss: 0.0803 - val_acc: 0.9777\n",
            "Epoch 235/250\n",
            "48000/48000 [==============================] - 2s 40us/step - loss: 0.0664 - acc: 0.9793 - val_loss: 0.0795 - val_acc: 0.9775\n",
            "Epoch 236/250\n",
            "48000/48000 [==============================] - 2s 41us/step - loss: 0.0686 - acc: 0.9786 - val_loss: 0.0795 - val_acc: 0.9776\n",
            "Epoch 237/250\n",
            "48000/48000 [==============================] - 2s 40us/step - loss: 0.0650 - acc: 0.9795 - val_loss: 0.0802 - val_acc: 0.9776\n",
            "Epoch 238/250\n",
            "48000/48000 [==============================] - 2s 40us/step - loss: 0.0665 - acc: 0.9794 - val_loss: 0.0805 - val_acc: 0.9774\n",
            "Epoch 239/250\n",
            "48000/48000 [==============================] - 2s 39us/step - loss: 0.0668 - acc: 0.9794 - val_loss: 0.0807 - val_acc: 0.9777\n",
            "Epoch 240/250\n",
            "48000/48000 [==============================] - 2s 38us/step - loss: 0.0687 - acc: 0.9788 - val_loss: 0.0804 - val_acc: 0.9777\n",
            "Epoch 241/250\n",
            "48000/48000 [==============================] - 2s 38us/step - loss: 0.0648 - acc: 0.9799 - val_loss: 0.0806 - val_acc: 0.9775\n",
            "Epoch 242/250\n",
            "48000/48000 [==============================] - 2s 38us/step - loss: 0.0657 - acc: 0.9790 - val_loss: 0.0798 - val_acc: 0.9777\n",
            "Epoch 243/250\n",
            "48000/48000 [==============================] - 2s 38us/step - loss: 0.0658 - acc: 0.9792 - val_loss: 0.0796 - val_acc: 0.9777\n",
            "Epoch 244/250\n",
            "48000/48000 [==============================] - 2s 39us/step - loss: 0.0655 - acc: 0.9797 - val_loss: 0.0798 - val_acc: 0.9776\n",
            "Epoch 245/250\n",
            "48000/48000 [==============================] - 2s 38us/step - loss: 0.0634 - acc: 0.9804 - val_loss: 0.0799 - val_acc: 0.9774\n",
            "Epoch 246/250\n",
            "48000/48000 [==============================] - 2s 38us/step - loss: 0.0628 - acc: 0.9802 - val_loss: 0.0810 - val_acc: 0.9770\n",
            "Epoch 247/250\n",
            "48000/48000 [==============================] - 2s 39us/step - loss: 0.0621 - acc: 0.9801 - val_loss: 0.0802 - val_acc: 0.9777\n",
            "Epoch 248/250\n",
            "48000/48000 [==============================] - 2s 39us/step - loss: 0.0632 - acc: 0.9805 - val_loss: 0.0803 - val_acc: 0.9771\n",
            "Epoch 249/250\n",
            "48000/48000 [==============================] - 2s 38us/step - loss: 0.0636 - acc: 0.9801 - val_loss: 0.0804 - val_acc: 0.9779\n",
            "Epoch 250/250\n",
            "48000/48000 [==============================] - 2s 39us/step - loss: 0.0617 - acc: 0.9808 - val_loss: 0.0801 - val_acc: 0.9778\n"
          ],
          "name": "stdout"
        }
      ]
    },
    {
      "metadata": {
        "id": "kuaRbTadUdjP",
        "colab_type": "code",
        "outputId": "25f9d363-334d-47e5-f21f-fd77c8990e54",
        "colab": {
          "base_uri": "https://localhost:8080/",
          "height": 34
        }
      },
      "cell_type": "code",
      "source": [
        "score = model.evaluate(X_test, Y_test, verbose=VERBOSE)\n"
      ],
      "execution_count": 10,
      "outputs": [
        {
          "output_type": "stream",
          "text": [
            "10000/10000 [==============================] - 0s 38us/step\n"
          ],
          "name": "stdout"
        }
      ]
    },
    {
      "metadata": {
        "id": "MopZPjWLZOB5",
        "colab_type": "code",
        "outputId": "56951514-9471-4f4d-f410-403958a55aed",
        "colab": {
          "base_uri": "https://localhost:8080/",
          "height": 50
        }
      },
      "cell_type": "code",
      "source": [
        "print(\"Test score/loss :\", score[0])\n",
        "print(\"Test accuracy: \", score[1])"
      ],
      "execution_count": 11,
      "outputs": [
        {
          "output_type": "stream",
          "text": [
            "Test score/loss : 0.07741551164172124\n",
            "Test accuracy:  0.9778\n"
          ],
          "name": "stdout"
        }
      ]
    },
    {
      "metadata": {
        "id": "UbPDeJKHZnlN",
        "colab_type": "code",
        "outputId": "14037f80-d42d-4ee2-c80f-132d2dae9368",
        "colab": {
          "base_uri": "https://localhost:8080/",
          "height": 34
        }
      },
      "cell_type": "code",
      "source": [
        "#list all data in history\n",
        "print(history.history.keys())"
      ],
      "execution_count": 12,
      "outputs": [
        {
          "output_type": "stream",
          "text": [
            "dict_keys(['val_loss', 'val_acc', 'loss', 'acc'])\n"
          ],
          "name": "stdout"
        }
      ]
    },
    {
      "metadata": {
        "id": "DxOFf3C0Zygh",
        "colab_type": "code",
        "outputId": "7136c488-186a-40d8-ca57-ce888dce1ba2",
        "colab": {
          "base_uri": "https://localhost:8080/",
          "height": 376
        }
      },
      "cell_type": "code",
      "source": [
        "#plot for accuracy \n",
        "plt.plot(history.history['acc'])\n",
        "plt.plot(history.history['val_acc'])\n",
        "plt.title('model accuracy')\n",
        "plt.ylabel('accuracy')\n",
        "plt.xlabel('epoch')\n",
        "plt.legend(['train','test'], loc='upper left')\n",
        "plt.show()"
      ],
      "execution_count": 13,
      "outputs": [
        {
          "output_type": "display_data",
          "data": {
            "image/png": "[encoded data removed]",
            "text/plain": [
              "<Figure size 576x396 with 1 Axes>"
            ]
          },
          "metadata": {
            "tags": []
          }
        }
      ]
    },
    {
      "metadata": {
        "id": "mTRuju0mifJl",
        "colab_type": "code",
        "outputId": "28c6386a-2bbc-48e5-9a3f-32d3d1b59bb9",
        "colab": {
          "base_uri": "https://localhost:8080/",
          "height": 376
        }
      },
      "cell_type": "code",
      "source": [
        "#plot for loss\n",
        "plt.plot(history.history['loss'])\n",
        "plt.plot(history.history['val_loss'])\n",
        "plt.title('model loss')\n",
        "plt.ylabel('loss')\n",
        "plt.xlabel('epoch')\n",
        "plt.legend(['train','test'], loc='upper left')\n",
        "plt.show()"
      ],
      "execution_count": 14,
      "outputs": [
        {
          "output_type": "display_data",
          "data": {
            "image/png": "[encoded data removed]",
            "text/plain": [
              "<Figure size 576x396 with 1 Axes>"
            ]
          },
          "metadata": {
            "tags": []
          }
        }
      ]
    },
    {
      "metadata": {
        "id": "LDH2_7InmP5O",
        "colab_type": "code",
        "colab": {}
      },
      "cell_type": "code",
      "source": [
        ""
      ],
      "execution_count": 0,
      "outputs": []
    },
    {
      "metadata": {
        "id": "q8-oG626miIS",
        "colab_type": "text"
      },
      "cell_type": "markdown",
      "source": [
        "We got accuracy of 97.78% (in previous experiment we got 0.9461) and loss of 0.077415 (we got 0.9461 in previous experiment). \n",
        "so with dropout we can do more epocs and avoid overfitting which gives us a better model. "
      ]
    },
    {
      "metadata": {
        "id": "kitf9gWRoWwY",
        "colab_type": "code",
        "colab": {}
      },
      "cell_type": "code",
      "source": [
        ""
      ],
      "execution_count": 0,
      "outputs": []
    }
  ]
}