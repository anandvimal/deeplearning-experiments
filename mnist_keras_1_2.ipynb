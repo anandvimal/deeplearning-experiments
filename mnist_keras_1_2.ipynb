{
  "nbformat": 4,
  "nbformat_minor": 0,
  "metadata": {
    "colab": {
      "name": "mnist_keras_1.2.ipynb",
      "version": "0.3.2",
      "provenance": [],
      "include_colab_link": true
    },
    "kernelspec": {
      "name": "python3",
      "display_name": "Python 3"
    }
  },
  "cells": [
    {
      "cell_type": "markdown",
      "metadata": {
        "id": "view-in-github",
        "colab_type": "text"
      },
      "source": [
        "<a href=\"https://colab.research.google.com/github/anandvimal/deeplearning-experiments/blob/master/mnist_keras_1_2.ipynb\" target=\"_parent\"><img src=\"https://colab.research.google.com/assets/colab-badge.svg\" alt=\"Open In Colab\"/></a>"
      ]
    },
    {
      "metadata": {
        "id": "vePLDQZ9Jms9",
        "colab_type": "text"
      },
      "cell_type": "markdown",
      "source": [
        "#Experiment 1.2 MNIST\n",
        "this experiment is iteration from deep learning with keras book chapter 1\n",
        "\n",
        "In this experiment we will use more epochs (250) as compared to 20 in last version. "
      ]
    },
    {
      "metadata": {
        "id": "W5wAcEf-Jdu1",
        "colab_type": "code",
        "colab": {
          "base_uri": "https://localhost:8080/",
          "height": 34
        },
        "outputId": "608c8c4a-fe12-4964-89b0-3ea6c02661ff"
      },
      "cell_type": "code",
      "source": [
        "from __future__ import print_function\n",
        "import numpy as np\n",
        "from keras.datasets import mnist\n",
        "from keras.models import Sequential\n",
        "from keras.layers.core import Dense, Dropout, Activation\n",
        "from keras.optimizers import SGD\n",
        "from keras.utils import np_utils\n",
        "\n",
        "import matplotlib.pyplot as plt\n",
        "\n",
        "np.random.seed(1671)  # for reproducibility\n"
      ],
      "execution_count": 1,
      "outputs": [
        {
          "output_type": "stream",
          "text": [
            "Using TensorFlow backend.\n"
          ],
          "name": "stderr"
        }
      ]
    },
    {
      "metadata": {
        "id": "C1d5p_zDJ3PW",
        "colab_type": "code",
        "colab": {
          "base_uri": "https://localhost:8080/",
          "height": 87
        },
        "outputId": "ac2307b1-832e-4000-938f-0e94bcb100aa"
      },
      "cell_type": "code",
      "source": [
        "# network and training\n",
        "NB_EPOCH = 250         #more number of epochs this time\n",
        "#NB_EPOCH = 500\n",
        "BATCH_SIZE = 128\n",
        "VERBOSE = 1\n",
        "NB_CLASSES = 10   # number of classes(digits)\n",
        "OPTIMIZER = SGD() \n",
        "N_HIDDEN = 128\n",
        "VALIDATION_SPLIT=0.2 # how much TRAIN is reserved for VALIDATION\n",
        "DROPOUT = 0.3        # we will use dropout to make sure model doest overfit as no of epochs we are doing are large."
      ],
      "execution_count": 2,
      "outputs": [
        {
          "output_type": "stream",
          "text": [
            "WARNING:tensorflow:From /usr/local/lib/python3.6/dist-packages/tensorflow/python/framework/op_def_library.py:263: colocate_with (from tensorflow.python.framework.ops) is deprecated and will be removed in a future version.\n",
            "Instructions for updating:\n",
            "Colocations handled automatically by placer.\n"
          ],
          "name": "stdout"
        }
      ]
    },
    {
      "metadata": {
        "id": "1XRSx_LVQPEP",
        "colab_type": "code",
        "colab": {
          "base_uri": "https://localhost:8080/",
          "height": 50
        },
        "outputId": "222998f3-2d5b-4c26-db1d-07a5775dca8b"
      },
      "cell_type": "code",
      "source": [
        "# data: shuffled and split between train and test sets\n",
        "(X_train, Y_train), (X_test, Y_test) = mnist.load_data()\n"
      ],
      "execution_count": 3,
      "outputs": [
        {
          "output_type": "stream",
          "text": [
            "Downloading data from https://s3.amazonaws.com/img-datasets/mnist.npz\n",
            "11493376/11490434 [==============================] - 0s 0us/step\n"
          ],
          "name": "stdout"
        }
      ]
    },
    {
      "metadata": {
        "id": "uekzj8jkQTtg",
        "colab_type": "code",
        "colab": {}
      },
      "cell_type": "code",
      "source": [
        "#X_train is 60000 rows of 28x28 values --> reshaped in 60000 x 784\n",
        "RESHAPED = 784\n",
        "\n",
        "X_train = X_train.reshape(60000, RESHAPED)\n",
        "X_test = X_test.reshape(10000, RESHAPED)\n",
        "X_train = X_train.astype('float32')\n",
        "X_test = X_test.astype('float32')\n"
      ],
      "execution_count": 0,
      "outputs": []
    },
    {
      "metadata": {
        "id": "Q3AgobPAQVoD",
        "colab_type": "code",
        "colab": {
          "base_uri": "https://localhost:8080/",
          "height": 50
        },
        "outputId": "c5df90df-e06b-43c2-ed37-ac5cc479bef8"
      },
      "cell_type": "code",
      "source": [
        "# normalize \n",
        "X_train /= 255\n",
        "X_test /= 255\n",
        "print(X_train.shape[0], 'train samples')\n",
        "print(X_test.shape[0], 'test samples')\n"
      ],
      "execution_count": 5,
      "outputs": [
        {
          "output_type": "stream",
          "text": [
            "60000 train samples\n",
            "10000 test samples\n"
          ],
          "name": "stdout"
        }
      ]
    },
    {
      "metadata": {
        "id": "7PIPnDZfQcOY",
        "colab_type": "code",
        "colab": {
          "base_uri": "https://localhost:8080/",
          "height": 50
        },
        "outputId": "0dd741c8-2a44-4751-e5b8-39fffa25b564"
      },
      "cell_type": "code",
      "source": [
        "# normalize \n",
        "X_train /= 255\n",
        "X_test /= 255\n",
        "print(X_train.shape[0], 'train samples')\n",
        "print(X_test.shape[0], 'test samples')\n"
      ],
      "execution_count": 6,
      "outputs": [
        {
          "output_type": "stream",
          "text": [
            "60000 train samples\n",
            "10000 test samples\n"
          ],
          "name": "stdout"
        }
      ]
    },
    {
      "metadata": {
        "id": "PCX5L6DFRMTK",
        "colab_type": "code",
        "colab": {}
      },
      "cell_type": "code",
      "source": [
        "# convert class vectors to binary class matrices\n",
        "# one hot encoding\n",
        "Y_train = np_utils.to_categorical(Y_train, NB_CLASSES)\n",
        "Y_test = np_utils.to_categorical(Y_test, NB_CLASSES)"
      ],
      "execution_count": 0,
      "outputs": []
    },
    {
      "metadata": {
        "id": "yabl_05FRPHs",
        "colab_type": "code",
        "colab": {
          "base_uri": "https://localhost:8080/",
          "height": 474
        },
        "outputId": "c9e72271-d02c-4f3a-ce4c-f72bba69e38b"
      },
      "cell_type": "code",
      "source": [
        "#model \n",
        "model =Sequential()\n",
        "model.add(Dense(N_HIDDEN, input_shape=(RESHAPED,)))\n",
        "model.add(Activation('relu'))\n",
        "model.add(Dropout(DROPOUT))\n",
        "model.add(Dense(N_HIDDEN))\n",
        "model.add(Activation('relu'))\n",
        "model.add(Dropout(DROPOUT))\n",
        "model.add(Dense(NB_CLASSES)) #we only have 10 classes for classification\n",
        "model.add(Activation('softmax'))\n",
        "model.summary()\n"
      ],
      "execution_count": 8,
      "outputs": [
        {
          "output_type": "stream",
          "text": [
            "WARNING:tensorflow:From /usr/local/lib/python3.6/dist-packages/keras/backend/tensorflow_backend.py:3445: calling dropout (from tensorflow.python.ops.nn_ops) with keep_prob is deprecated and will be removed in a future version.\n",
            "Instructions for updating:\n",
            "Please use `rate` instead of `keep_prob`. Rate should be set to `rate = 1 - keep_prob`.\n",
            "_________________________________________________________________\n",
            "Layer (type)                 Output Shape              Param #   \n",
            "=================================================================\n",
            "dense_1 (Dense)              (None, 128)               100480    \n",
            "_________________________________________________________________\n",
            "activation_1 (Activation)    (None, 128)               0         \n",
            "_________________________________________________________________\n",
            "dropout_1 (Dropout)          (None, 128)               0         \n",
            "_________________________________________________________________\n",
            "dense_2 (Dense)              (None, 128)               16512     \n",
            "_________________________________________________________________\n",
            "activation_2 (Activation)    (None, 128)               0         \n",
            "_________________________________________________________________\n",
            "dropout_2 (Dropout)          (None, 128)               0         \n",
            "_________________________________________________________________\n",
            "dense_3 (Dense)              (None, 10)                1290      \n",
            "_________________________________________________________________\n",
            "activation_3 (Activation)    (None, 10)                0         \n",
            "=================================================================\n",
            "Total params: 118,282\n",
            "Trainable params: 118,282\n",
            "Non-trainable params: 0\n",
            "_________________________________________________________________\n"
          ],
          "name": "stdout"
        }
      ]
    },
    {
      "metadata": {
        "id": "4BInsiKETpzQ",
        "colab_type": "code",
        "colab": {}
      },
      "cell_type": "code",
      "source": [
        "model.compile(\n",
        "    loss='categorical_crossentropy',\n",
        "    optimizer=OPTIMIZER,\n",
        "    metrics=['accuracy']    \n",
        ")"
      ],
      "execution_count": 0,
      "outputs": []
    },
    {
      "metadata": {
        "id": "nvoa0-pPUdHW",
        "colab_type": "code",
        "colab": {
          "base_uri": "https://localhost:8080/",
          "height": 8504
        },
        "outputId": "eae59a39-a55e-4677-d697-c13b3fdbd46f"
      },
      "cell_type": "code",
      "source": [
        "history = model.fit(\n",
        "    X_train, \n",
        "    Y_train,               \n",
        "    batch_size=BATCH_SIZE,\n",
        "    epochs=NB_EPOCH,\n",
        "    verbose = VERBOSE,\n",
        "    validation_split=VALIDATION_SPLIT\n",
        "    )\n"
      ],
      "execution_count": 10,
      "outputs": [
        {
          "output_type": "stream",
          "text": [
            "WARNING:tensorflow:From /usr/local/lib/python3.6/dist-packages/tensorflow/python/ops/math_ops.py:3066: to_int32 (from tensorflow.python.ops.math_ops) is deprecated and will be removed in a future version.\n",
            "Instructions for updating:\n",
            "Use tf.cast instead.\n",
            "Train on 48000 samples, validate on 12000 samples\n",
            "Epoch 1/250\n",
            "48000/48000 [==============================] - 3s 58us/step - loss: 2.3009 - acc: 0.1165 - val_loss: 2.3007 - val_acc: 0.1060\n",
            "Epoch 2/250\n",
            "48000/48000 [==============================] - 2s 40us/step - loss: 2.3000 - acc: 0.1140 - val_loss: 2.3006 - val_acc: 0.1060\n",
            "Epoch 3/250\n",
            "48000/48000 [==============================] - 2s 40us/step - loss: 2.2998 - acc: 0.1140 - val_loss: 2.3006 - val_acc: 0.1060\n",
            "Epoch 4/250\n",
            "48000/48000 [==============================] - 2s 40us/step - loss: 2.2997 - acc: 0.1140 - val_loss: 2.3006 - val_acc: 0.1060\n",
            "Epoch 5/250\n",
            "48000/48000 [==============================] - 2s 39us/step - loss: 2.2995 - acc: 0.1140 - val_loss: 2.3006 - val_acc: 0.1060\n",
            "Epoch 6/250\n",
            "48000/48000 [==============================] - 2s 40us/step - loss: 2.2996 - acc: 0.1140 - val_loss: 2.3006 - val_acc: 0.1060\n",
            "Epoch 7/250\n",
            "48000/48000 [==============================] - 2s 40us/step - loss: 2.2994 - acc: 0.1140 - val_loss: 2.3005 - val_acc: 0.1060\n",
            "Epoch 8/250\n",
            "48000/48000 [==============================] - 2s 40us/step - loss: 2.2994 - acc: 0.1140 - val_loss: 2.3004 - val_acc: 0.1060\n",
            "Epoch 9/250\n",
            "48000/48000 [==============================] - 2s 39us/step - loss: 2.2994 - acc: 0.1140 - val_loss: 2.3003 - val_acc: 0.1060\n",
            "Epoch 10/250\n",
            "48000/48000 [==============================] - 2s 39us/step - loss: 2.2993 - acc: 0.1140 - val_loss: 2.3002 - val_acc: 0.1060\n",
            "Epoch 11/250\n",
            "48000/48000 [==============================] - 2s 39us/step - loss: 2.2992 - acc: 0.1140 - val_loss: 2.3002 - val_acc: 0.1060\n",
            "Epoch 12/250\n",
            "48000/48000 [==============================] - 2s 39us/step - loss: 2.2992 - acc: 0.1140 - val_loss: 2.3000 - val_acc: 0.1060\n",
            "Epoch 13/250\n",
            "48000/48000 [==============================] - 2s 39us/step - loss: 2.2991 - acc: 0.1140 - val_loss: 2.3000 - val_acc: 0.1060\n",
            "Epoch 14/250\n",
            "48000/48000 [==============================] - 2s 39us/step - loss: 2.2990 - acc: 0.1140 - val_loss: 2.2999 - val_acc: 0.1060\n",
            "Epoch 15/250\n",
            "48000/48000 [==============================] - 2s 39us/step - loss: 2.2990 - acc: 0.1140 - val_loss: 2.2999 - val_acc: 0.1060\n",
            "Epoch 16/250\n",
            "48000/48000 [==============================] - 2s 39us/step - loss: 2.2989 - acc: 0.1140 - val_loss: 2.2998 - val_acc: 0.1060\n",
            "Epoch 17/250\n",
            "48000/48000 [==============================] - 2s 38us/step - loss: 2.2988 - acc: 0.1140 - val_loss: 2.2998 - val_acc: 0.1060\n",
            "Epoch 18/250\n",
            "48000/48000 [==============================] - 2s 39us/step - loss: 2.2987 - acc: 0.1140 - val_loss: 2.2996 - val_acc: 0.1060\n",
            "Epoch 19/250\n",
            "48000/48000 [==============================] - 2s 39us/step - loss: 2.2987 - acc: 0.1140 - val_loss: 2.2996 - val_acc: 0.1060\n",
            "Epoch 20/250\n",
            "48000/48000 [==============================] - 2s 39us/step - loss: 2.2986 - acc: 0.1140 - val_loss: 2.2995 - val_acc: 0.1060\n",
            "Epoch 21/250\n",
            "48000/48000 [==============================] - 2s 39us/step - loss: 2.2985 - acc: 0.1140 - val_loss: 2.2995 - val_acc: 0.1060\n",
            "Epoch 22/250\n",
            "48000/48000 [==============================] - 2s 39us/step - loss: 2.2984 - acc: 0.1140 - val_loss: 2.2993 - val_acc: 0.1060\n",
            "Epoch 23/250\n",
            "48000/48000 [==============================] - 2s 39us/step - loss: 2.2984 - acc: 0.1140 - val_loss: 2.2993 - val_acc: 0.1060\n",
            "Epoch 24/250\n",
            "48000/48000 [==============================] - 2s 39us/step - loss: 2.2984 - acc: 0.1140 - val_loss: 2.2992 - val_acc: 0.1060\n",
            "Epoch 25/250\n",
            "48000/48000 [==============================] - 2s 40us/step - loss: 2.2981 - acc: 0.1140 - val_loss: 2.2991 - val_acc: 0.1060\n",
            "Epoch 26/250\n",
            "48000/48000 [==============================] - 2s 39us/step - loss: 2.2981 - acc: 0.1140 - val_loss: 2.2990 - val_acc: 0.1060\n",
            "Epoch 27/250\n",
            "48000/48000 [==============================] - 2s 39us/step - loss: 2.2980 - acc: 0.1140 - val_loss: 2.2990 - val_acc: 0.1060\n",
            "Epoch 28/250\n",
            "48000/48000 [==============================] - 2s 39us/step - loss: 2.2979 - acc: 0.1140 - val_loss: 2.2988 - val_acc: 0.1060\n",
            "Epoch 29/250\n",
            "48000/48000 [==============================] - 2s 39us/step - loss: 2.2977 - acc: 0.1140 - val_loss: 2.2986 - val_acc: 0.1060\n",
            "Epoch 30/250\n",
            "48000/48000 [==============================] - 2s 39us/step - loss: 2.2976 - acc: 0.1140 - val_loss: 2.2987 - val_acc: 0.1060\n",
            "Epoch 31/250\n",
            "48000/48000 [==============================] - 2s 39us/step - loss: 2.2976 - acc: 0.1140 - val_loss: 2.2985 - val_acc: 0.1060\n",
            "Epoch 32/250\n",
            "48000/48000 [==============================] - 2s 39us/step - loss: 2.2975 - acc: 0.1140 - val_loss: 2.2984 - val_acc: 0.1060\n",
            "Epoch 33/250\n",
            "48000/48000 [==============================] - 2s 38us/step - loss: 2.2974 - acc: 0.1140 - val_loss: 2.2984 - val_acc: 0.1060\n",
            "Epoch 34/250\n",
            "48000/48000 [==============================] - 2s 38us/step - loss: 2.2972 - acc: 0.1140 - val_loss: 2.2982 - val_acc: 0.1060\n",
            "Epoch 35/250\n",
            "48000/48000 [==============================] - 2s 39us/step - loss: 2.2971 - acc: 0.1140 - val_loss: 2.2982 - val_acc: 0.1060\n",
            "Epoch 36/250\n",
            "48000/48000 [==============================] - 2s 39us/step - loss: 2.2970 - acc: 0.1140 - val_loss: 2.2980 - val_acc: 0.1060\n",
            "Epoch 37/250\n",
            "48000/48000 [==============================] - 2s 39us/step - loss: 2.2968 - acc: 0.1140 - val_loss: 2.2978 - val_acc: 0.1060\n",
            "Epoch 38/250\n",
            "48000/48000 [==============================] - 2s 39us/step - loss: 2.2968 - acc: 0.1140 - val_loss: 2.2977 - val_acc: 0.1060\n",
            "Epoch 39/250\n",
            "48000/48000 [==============================] - 2s 40us/step - loss: 2.2966 - acc: 0.1140 - val_loss: 2.2977 - val_acc: 0.1060\n",
            "Epoch 40/250\n",
            "48000/48000 [==============================] - 2s 40us/step - loss: 2.2966 - acc: 0.1140 - val_loss: 2.2975 - val_acc: 0.1060\n",
            "Epoch 41/250\n",
            "48000/48000 [==============================] - 2s 38us/step - loss: 2.2964 - acc: 0.1140 - val_loss: 2.2973 - val_acc: 0.1060\n",
            "Epoch 42/250\n",
            "48000/48000 [==============================] - 2s 38us/step - loss: 2.2962 - acc: 0.1140 - val_loss: 2.2972 - val_acc: 0.1060\n",
            "Epoch 43/250\n",
            "48000/48000 [==============================] - 2s 39us/step - loss: 2.2962 - acc: 0.1140 - val_loss: 2.2970 - val_acc: 0.1060\n",
            "Epoch 44/250\n",
            "48000/48000 [==============================] - 2s 38us/step - loss: 2.2960 - acc: 0.1140 - val_loss: 2.2969 - val_acc: 0.1060\n",
            "Epoch 45/250\n",
            "48000/48000 [==============================] - 2s 38us/step - loss: 2.2958 - acc: 0.1140 - val_loss: 2.2967 - val_acc: 0.1060\n",
            "Epoch 46/250\n",
            "48000/48000 [==============================] - 2s 38us/step - loss: 2.2957 - acc: 0.1140 - val_loss: 2.2965 - val_acc: 0.1060\n",
            "Epoch 47/250\n",
            "48000/48000 [==============================] - 2s 38us/step - loss: 2.2955 - acc: 0.1140 - val_loss: 2.2963 - val_acc: 0.1060\n",
            "Epoch 48/250\n",
            "48000/48000 [==============================] - 2s 38us/step - loss: 2.2954 - acc: 0.1140 - val_loss: 2.2961 - val_acc: 0.1060\n",
            "Epoch 49/250\n",
            "48000/48000 [==============================] - 2s 38us/step - loss: 2.2952 - acc: 0.1140 - val_loss: 2.2961 - val_acc: 0.1060\n",
            "Epoch 50/250\n",
            "48000/48000 [==============================] - 2s 39us/step - loss: 2.2950 - acc: 0.1140 - val_loss: 2.2959 - val_acc: 0.1060\n",
            "Epoch 51/250\n",
            "48000/48000 [==============================] - 2s 39us/step - loss: 2.2949 - acc: 0.1140 - val_loss: 2.2957 - val_acc: 0.1060\n",
            "Epoch 52/250\n",
            "48000/48000 [==============================] - 2s 38us/step - loss: 2.2947 - acc: 0.1140 - val_loss: 2.2956 - val_acc: 0.1060\n",
            "Epoch 53/250\n",
            "48000/48000 [==============================] - 2s 38us/step - loss: 2.2946 - acc: 0.1140 - val_loss: 2.2953 - val_acc: 0.1060\n",
            "Epoch 54/250\n",
            "48000/48000 [==============================] - 2s 38us/step - loss: 2.2942 - acc: 0.1140 - val_loss: 2.2951 - val_acc: 0.1060\n",
            "Epoch 55/250\n",
            "48000/48000 [==============================] - 2s 38us/step - loss: 2.2940 - acc: 0.1140 - val_loss: 2.2950 - val_acc: 0.1060\n",
            "Epoch 56/250\n",
            "48000/48000 [==============================] - 2s 38us/step - loss: 2.2939 - acc: 0.1140 - val_loss: 2.2948 - val_acc: 0.1060\n",
            "Epoch 57/250\n",
            "48000/48000 [==============================] - 2s 38us/step - loss: 2.2937 - acc: 0.1140 - val_loss: 2.2945 - val_acc: 0.1060\n",
            "Epoch 58/250\n",
            "48000/48000 [==============================] - 2s 39us/step - loss: 2.2934 - acc: 0.1140 - val_loss: 2.2943 - val_acc: 0.1060\n",
            "Epoch 59/250\n",
            "48000/48000 [==============================] - 2s 39us/step - loss: 2.2932 - acc: 0.1140 - val_loss: 2.2941 - val_acc: 0.1060\n",
            "Epoch 60/250\n",
            "48000/48000 [==============================] - 2s 40us/step - loss: 2.2930 - acc: 0.1140 - val_loss: 2.2939 - val_acc: 0.1060\n",
            "Epoch 61/250\n",
            "48000/48000 [==============================] - 2s 39us/step - loss: 2.2927 - acc: 0.1140 - val_loss: 2.2936 - val_acc: 0.1060\n",
            "Epoch 62/250\n",
            "48000/48000 [==============================] - 2s 39us/step - loss: 2.2925 - acc: 0.1140 - val_loss: 2.2932 - val_acc: 0.1060\n",
            "Epoch 63/250\n",
            "48000/48000 [==============================] - 2s 38us/step - loss: 2.2923 - acc: 0.1144 - val_loss: 2.2930 - val_acc: 0.1060\n",
            "Epoch 64/250\n",
            "48000/48000 [==============================] - 2s 38us/step - loss: 2.2920 - acc: 0.1141 - val_loss: 2.2927 - val_acc: 0.1060\n",
            "Epoch 65/250\n",
            "48000/48000 [==============================] - 2s 38us/step - loss: 2.2917 - acc: 0.1144 - val_loss: 2.2926 - val_acc: 0.1060\n",
            "Epoch 66/250\n",
            "48000/48000 [==============================] - 2s 39us/step - loss: 2.2915 - acc: 0.1146 - val_loss: 2.2923 - val_acc: 0.1060\n",
            "Epoch 67/250\n",
            "48000/48000 [==============================] - 2s 40us/step - loss: 2.2911 - acc: 0.1142 - val_loss: 2.2919 - val_acc: 0.1060\n",
            "Epoch 68/250\n",
            "48000/48000 [==============================] - 2s 39us/step - loss: 2.2908 - acc: 0.1147 - val_loss: 2.2915 - val_acc: 0.1060\n",
            "Epoch 69/250\n",
            "48000/48000 [==============================] - 2s 39us/step - loss: 2.2905 - acc: 0.1159 - val_loss: 2.2915 - val_acc: 0.1060\n",
            "Epoch 70/250\n",
            "48000/48000 [==============================] - 2s 39us/step - loss: 2.2902 - acc: 0.1154 - val_loss: 2.2910 - val_acc: 0.1060\n",
            "Epoch 71/250\n",
            "48000/48000 [==============================] - 2s 38us/step - loss: 2.2899 - acc: 0.1161 - val_loss: 2.2906 - val_acc: 0.1060\n",
            "Epoch 72/250\n",
            "48000/48000 [==============================] - 2s 39us/step - loss: 2.2895 - acc: 0.1165 - val_loss: 2.2903 - val_acc: 0.1060\n",
            "Epoch 73/250\n",
            "48000/48000 [==============================] - 2s 38us/step - loss: 2.2891 - acc: 0.1166 - val_loss: 2.2898 - val_acc: 0.1061\n",
            "Epoch 74/250\n",
            "48000/48000 [==============================] - 2s 38us/step - loss: 2.2888 - acc: 0.1187 - val_loss: 2.2897 - val_acc: 0.1060\n",
            "Epoch 75/250\n",
            "48000/48000 [==============================] - 2s 38us/step - loss: 2.2883 - acc: 0.1176 - val_loss: 2.2892 - val_acc: 0.1060\n",
            "Epoch 76/250\n",
            "48000/48000 [==============================] - 2s 38us/step - loss: 2.2879 - acc: 0.1203 - val_loss: 2.2887 - val_acc: 0.1060\n",
            "Epoch 77/250\n",
            "48000/48000 [==============================] - 2s 38us/step - loss: 2.2875 - acc: 0.1224 - val_loss: 2.2883 - val_acc: 0.1060\n",
            "Epoch 78/250\n",
            "48000/48000 [==============================] - 2s 38us/step - loss: 2.2870 - acc: 0.1220 - val_loss: 2.2879 - val_acc: 0.1060\n",
            "Epoch 79/250\n",
            "48000/48000 [==============================] - 2s 38us/step - loss: 2.2866 - acc: 0.1268 - val_loss: 2.2874 - val_acc: 0.1060\n",
            "Epoch 80/250\n",
            "48000/48000 [==============================] - 2s 39us/step - loss: 2.2862 - acc: 0.1281 - val_loss: 2.2869 - val_acc: 0.1064\n",
            "Epoch 81/250\n",
            "48000/48000 [==============================] - 2s 38us/step - loss: 2.2855 - acc: 0.1309 - val_loss: 2.2863 - val_acc: 0.1064\n",
            "Epoch 82/250\n",
            "48000/48000 [==============================] - 2s 38us/step - loss: 2.2851 - acc: 0.1320 - val_loss: 2.2857 - val_acc: 0.1120\n",
            "Epoch 83/250\n",
            "48000/48000 [==============================] - 2s 39us/step - loss: 2.2846 - acc: 0.1327 - val_loss: 2.2851 - val_acc: 0.1214\n",
            "Epoch 84/250\n",
            "48000/48000 [==============================] - 2s 38us/step - loss: 2.2839 - acc: 0.1391 - val_loss: 2.2844 - val_acc: 0.1355\n",
            "Epoch 85/250\n",
            "48000/48000 [==============================] - 2s 38us/step - loss: 2.2834 - acc: 0.1429 - val_loss: 2.2840 - val_acc: 0.1167\n",
            "Epoch 86/250\n",
            "48000/48000 [==============================] - 2s 38us/step - loss: 2.2826 - acc: 0.1427 - val_loss: 2.2834 - val_acc: 0.1148\n",
            "Epoch 87/250\n",
            "48000/48000 [==============================] - 2s 38us/step - loss: 2.2820 - acc: 0.1459 - val_loss: 2.2826 - val_acc: 0.1278\n",
            "Epoch 88/250\n",
            "48000/48000 [==============================] - 2s 38us/step - loss: 2.2814 - acc: 0.1485 - val_loss: 2.2819 - val_acc: 0.1290\n",
            "Epoch 89/250\n",
            "48000/48000 [==============================] - 2s 37us/step - loss: 2.2807 - acc: 0.1514 - val_loss: 2.2811 - val_acc: 0.1353\n",
            "Epoch 90/250\n",
            "48000/48000 [==============================] - 2s 37us/step - loss: 2.2799 - acc: 0.1526 - val_loss: 2.2803 - val_acc: 0.1526\n",
            "Epoch 91/250\n",
            "48000/48000 [==============================] - 2s 37us/step - loss: 2.2790 - acc: 0.1616 - val_loss: 2.2797 - val_acc: 0.1260\n",
            "Epoch 92/250\n",
            "48000/48000 [==============================] - 2s 37us/step - loss: 2.2783 - acc: 0.1647 - val_loss: 2.2789 - val_acc: 0.1390\n",
            "Epoch 93/250\n",
            "48000/48000 [==============================] - 2s 39us/step - loss: 2.2774 - acc: 0.1665 - val_loss: 2.2779 - val_acc: 0.1412\n",
            "Epoch 94/250\n",
            "48000/48000 [==============================] - 2s 40us/step - loss: 2.2764 - acc: 0.1705 - val_loss: 2.2768 - val_acc: 0.1683\n",
            "Epoch 95/250\n",
            "48000/48000 [==============================] - 2s 39us/step - loss: 2.2754 - acc: 0.1731 - val_loss: 2.2757 - val_acc: 0.1820\n",
            "Epoch 96/250\n",
            "48000/48000 [==============================] - 2s 38us/step - loss: 2.2743 - acc: 0.1738 - val_loss: 2.2747 - val_acc: 0.1881\n",
            "Epoch 97/250\n",
            "48000/48000 [==============================] - 2s 38us/step - loss: 2.2732 - acc: 0.1809 - val_loss: 2.2737 - val_acc: 0.1722\n",
            "Epoch 98/250\n",
            "48000/48000 [==============================] - 2s 39us/step - loss: 2.2724 - acc: 0.1805 - val_loss: 2.2727 - val_acc: 0.1560\n",
            "Epoch 99/250\n",
            "48000/48000 [==============================] - 2s 38us/step - loss: 2.2707 - acc: 0.1870 - val_loss: 2.2711 - val_acc: 0.2012\n",
            "Epoch 100/250\n",
            "48000/48000 [==============================] - 2s 38us/step - loss: 2.2697 - acc: 0.1922 - val_loss: 2.2698 - val_acc: 0.1998\n",
            "Epoch 101/250\n",
            "48000/48000 [==============================] - 2s 39us/step - loss: 2.2682 - acc: 0.1954 - val_loss: 2.2688 - val_acc: 0.1686\n",
            "Epoch 102/250\n",
            "48000/48000 [==============================] - 2s 39us/step - loss: 2.2673 - acc: 0.1946 - val_loss: 2.2672 - val_acc: 0.1806\n",
            "Epoch 103/250\n",
            "48000/48000 [==============================] - 2s 39us/step - loss: 2.2655 - acc: 0.2002 - val_loss: 2.2655 - val_acc: 0.1953\n",
            "Epoch 104/250\n",
            "48000/48000 [==============================] - 2s 38us/step - loss: 2.2639 - acc: 0.1983 - val_loss: 2.2639 - val_acc: 0.1945\n",
            "Epoch 105/250\n",
            "48000/48000 [==============================] - 2s 38us/step - loss: 2.2622 - acc: 0.2049 - val_loss: 2.2623 - val_acc: 0.1888\n",
            "Epoch 106/250\n",
            "48000/48000 [==============================] - 2s 38us/step - loss: 2.2603 - acc: 0.2061 - val_loss: 2.2600 - val_acc: 0.2245\n",
            "Epoch 107/250\n",
            "48000/48000 [==============================] - 2s 38us/step - loss: 2.2585 - acc: 0.2173 - val_loss: 2.2584 - val_acc: 0.1969\n",
            "Epoch 108/250\n",
            "48000/48000 [==============================] - 2s 39us/step - loss: 2.2563 - acc: 0.2114 - val_loss: 2.2561 - val_acc: 0.2120\n",
            "Epoch 109/250\n",
            "48000/48000 [==============================] - 2s 39us/step - loss: 2.2541 - acc: 0.2186 - val_loss: 2.2542 - val_acc: 0.1984\n",
            "Epoch 110/250\n",
            "48000/48000 [==============================] - 2s 38us/step - loss: 2.2520 - acc: 0.2124 - val_loss: 2.2515 - val_acc: 0.2188\n",
            "Epoch 111/250\n",
            "48000/48000 [==============================] - 2s 38us/step - loss: 2.2496 - acc: 0.2220 - val_loss: 2.2492 - val_acc: 0.2032\n",
            "Epoch 112/250\n",
            "48000/48000 [==============================] - 2s 38us/step - loss: 2.2468 - acc: 0.2246 - val_loss: 2.2462 - val_acc: 0.2152\n",
            "Epoch 113/250\n",
            "48000/48000 [==============================] - 2s 39us/step - loss: 2.2439 - acc: 0.2246 - val_loss: 2.2434 - val_acc: 0.2148\n",
            "Epoch 114/250\n",
            "48000/48000 [==============================] - 2s 38us/step - loss: 2.2412 - acc: 0.2223 - val_loss: 2.2402 - val_acc: 0.2255\n",
            "Epoch 115/250\n",
            "48000/48000 [==============================] - 2s 38us/step - loss: 2.2382 - acc: 0.2295 - val_loss: 2.2382 - val_acc: 0.1965\n",
            "Epoch 116/250\n",
            "48000/48000 [==============================] - 2s 39us/step - loss: 2.2346 - acc: 0.2281 - val_loss: 2.2334 - val_acc: 0.2252\n",
            "Epoch 117/250\n",
            "48000/48000 [==============================] - 2s 39us/step - loss: 2.2313 - acc: 0.2345 - val_loss: 2.2309 - val_acc: 0.2087\n",
            "Epoch 118/250\n",
            "48000/48000 [==============================] - 2s 38us/step - loss: 2.2271 - acc: 0.2350 - val_loss: 2.2255 - val_acc: 0.2400\n",
            "Epoch 119/250\n",
            "48000/48000 [==============================] - 2s 38us/step - loss: 2.2235 - acc: 0.2327 - val_loss: 2.2212 - val_acc: 0.2472\n",
            "Epoch 120/250\n",
            "48000/48000 [==============================] - 2s 38us/step - loss: 2.2191 - acc: 0.2408 - val_loss: 2.2173 - val_acc: 0.2222\n",
            "Epoch 121/250\n",
            "48000/48000 [==============================] - 2s 38us/step - loss: 2.2144 - acc: 0.2409 - val_loss: 2.2118 - val_acc: 0.2456\n",
            "Epoch 122/250\n",
            "48000/48000 [==============================] - 2s 38us/step - loss: 2.2099 - acc: 0.2425 - val_loss: 2.2068 - val_acc: 0.2419\n",
            "Epoch 123/250\n",
            "48000/48000 [==============================] - 2s 38us/step - loss: 2.2043 - acc: 0.2429 - val_loss: 2.2010 - val_acc: 0.2603\n",
            "Epoch 124/250\n",
            "48000/48000 [==============================] - 2s 38us/step - loss: 2.1982 - acc: 0.2472 - val_loss: 2.1952 - val_acc: 0.2522\n",
            "Epoch 125/250\n",
            "48000/48000 [==============================] - 2s 39us/step - loss: 2.1923 - acc: 0.2492 - val_loss: 2.1893 - val_acc: 0.2646\n",
            "Epoch 126/250\n",
            "48000/48000 [==============================] - 2s 38us/step - loss: 2.1857 - acc: 0.2537 - val_loss: 2.1834 - val_acc: 0.2606\n",
            "Epoch 127/250\n",
            "48000/48000 [==============================] - 2s 38us/step - loss: 2.1793 - acc: 0.2518 - val_loss: 2.1759 - val_acc: 0.2602\n",
            "Epoch 128/250\n",
            "48000/48000 [==============================] - 2s 38us/step - loss: 2.1726 - acc: 0.2556 - val_loss: 2.1672 - val_acc: 0.2861\n",
            "Epoch 129/250\n",
            "48000/48000 [==============================] - 2s 37us/step - loss: 2.1650 - acc: 0.2591 - val_loss: 2.1591 - val_acc: 0.2855\n",
            "Epoch 130/250\n",
            "48000/48000 [==============================] - 2s 38us/step - loss: 2.1581 - acc: 0.2616 - val_loss: 2.1526 - val_acc: 0.2600\n",
            "Epoch 131/250\n",
            "48000/48000 [==============================] - 2s 37us/step - loss: 2.1485 - acc: 0.2648 - val_loss: 2.1422 - val_acc: 0.3026\n",
            "Epoch 132/250\n",
            "48000/48000 [==============================] - 2s 38us/step - loss: 2.1394 - acc: 0.2678 - val_loss: 2.1323 - val_acc: 0.3053\n",
            "Epoch 133/250\n",
            "48000/48000 [==============================] - 2s 42us/step - loss: 2.1310 - acc: 0.2733 - val_loss: 2.1233 - val_acc: 0.3018\n",
            "Epoch 134/250\n",
            "48000/48000 [==============================] - 2s 40us/step - loss: 2.1220 - acc: 0.2728 - val_loss: 2.1126 - val_acc: 0.3174\n",
            "Epoch 135/250\n",
            "48000/48000 [==============================] - 2s 41us/step - loss: 2.1123 - acc: 0.2777 - val_loss: 2.1017 - val_acc: 0.3073\n",
            "Epoch 136/250\n",
            "48000/48000 [==============================] - 2s 41us/step - loss: 2.1027 - acc: 0.2790 - val_loss: 2.0922 - val_acc: 0.3083\n",
            "Epoch 137/250\n",
            "48000/48000 [==============================] - 2s 42us/step - loss: 2.0920 - acc: 0.2811 - val_loss: 2.0796 - val_acc: 0.3387\n",
            "Epoch 138/250\n",
            "48000/48000 [==============================] - 2s 40us/step - loss: 2.0809 - acc: 0.2878 - val_loss: 2.0683 - val_acc: 0.3508\n",
            "Epoch 139/250\n",
            "48000/48000 [==============================] - 2s 38us/step - loss: 2.0710 - acc: 0.2900 - val_loss: 2.0578 - val_acc: 0.3693\n",
            "Epoch 140/250\n",
            "48000/48000 [==============================] - 2s 38us/step - loss: 2.0608 - acc: 0.2909 - val_loss: 2.0464 - val_acc: 0.3611\n",
            "Epoch 141/250\n",
            "48000/48000 [==============================] - 2s 38us/step - loss: 2.0492 - acc: 0.2981 - val_loss: 2.0326 - val_acc: 0.3737\n",
            "Epoch 142/250\n",
            "48000/48000 [==============================] - 2s 38us/step - loss: 2.0389 - acc: 0.3013 - val_loss: 2.0243 - val_acc: 0.3560\n",
            "Epoch 143/250\n",
            "48000/48000 [==============================] - 2s 38us/step - loss: 2.0279 - acc: 0.3059 - val_loss: 2.0114 - val_acc: 0.3721\n",
            "Epoch 144/250\n",
            "48000/48000 [==============================] - 2s 38us/step - loss: 2.0180 - acc: 0.3088 - val_loss: 1.9970 - val_acc: 0.3643\n",
            "Epoch 145/250\n",
            "48000/48000 [==============================] - 2s 38us/step - loss: 2.0092 - acc: 0.3110 - val_loss: 1.9892 - val_acc: 0.3949\n",
            "Epoch 146/250\n",
            "48000/48000 [==============================] - 2s 38us/step - loss: 1.9988 - acc: 0.3175 - val_loss: 1.9735 - val_acc: 0.4064\n",
            "Epoch 147/250\n",
            "48000/48000 [==============================] - 2s 38us/step - loss: 1.9869 - acc: 0.3181 - val_loss: 1.9622 - val_acc: 0.4028\n",
            "Epoch 148/250\n",
            "48000/48000 [==============================] - 2s 38us/step - loss: 1.9771 - acc: 0.3244 - val_loss: 1.9530 - val_acc: 0.4089\n",
            "Epoch 149/250\n",
            "48000/48000 [==============================] - 2s 38us/step - loss: 1.9671 - acc: 0.3263 - val_loss: 1.9383 - val_acc: 0.4068\n",
            "Epoch 150/250\n",
            "48000/48000 [==============================] - 2s 38us/step - loss: 1.9590 - acc: 0.3297 - val_loss: 1.9279 - val_acc: 0.4301\n",
            "Epoch 151/250\n",
            "48000/48000 [==============================] - 2s 38us/step - loss: 1.9481 - acc: 0.3328 - val_loss: 1.9182 - val_acc: 0.4209\n",
            "Epoch 152/250\n",
            "48000/48000 [==============================] - 2s 38us/step - loss: 1.9411 - acc: 0.3357 - val_loss: 1.9129 - val_acc: 0.4216\n",
            "Epoch 153/250\n",
            "48000/48000 [==============================] - 2s 38us/step - loss: 1.9298 - acc: 0.3379 - val_loss: 1.8959 - val_acc: 0.4189\n",
            "Epoch 154/250\n",
            "48000/48000 [==============================] - 2s 39us/step - loss: 1.9226 - acc: 0.3436 - val_loss: 1.8874 - val_acc: 0.4361\n",
            "Epoch 155/250\n",
            "48000/48000 [==============================] - 2s 38us/step - loss: 1.9150 - acc: 0.3442 - val_loss: 1.8946 - val_acc: 0.4006\n",
            "Epoch 156/250\n",
            "48000/48000 [==============================] - 2s 38us/step - loss: 1.9072 - acc: 0.3488 - val_loss: 1.8667 - val_acc: 0.4515\n",
            "Epoch 157/250\n",
            "48000/48000 [==============================] - 2s 38us/step - loss: 1.8981 - acc: 0.3516 - val_loss: 1.8561 - val_acc: 0.4627\n",
            "Epoch 158/250\n",
            "48000/48000 [==============================] - 2s 38us/step - loss: 1.8886 - acc: 0.3555 - val_loss: 1.8454 - val_acc: 0.4562\n",
            "Epoch 159/250\n",
            "48000/48000 [==============================] - 2s 38us/step - loss: 1.8838 - acc: 0.3583 - val_loss: 1.8682 - val_acc: 0.4380\n",
            "Epoch 160/250\n",
            "48000/48000 [==============================] - 2s 38us/step - loss: 1.8753 - acc: 0.3624 - val_loss: 1.8512 - val_acc: 0.4407\n",
            "Epoch 161/250\n",
            "48000/48000 [==============================] - 2s 38us/step - loss: 1.8663 - acc: 0.3639 - val_loss: 1.8181 - val_acc: 0.4846\n",
            "Epoch 162/250\n",
            "48000/48000 [==============================] - 2s 38us/step - loss: 1.8585 - acc: 0.3701 - val_loss: 1.8082 - val_acc: 0.5056\n",
            "Epoch 163/250\n",
            "48000/48000 [==============================] - 2s 38us/step - loss: 1.8519 - acc: 0.3721 - val_loss: 1.8146 - val_acc: 0.4626\n",
            "Epoch 164/250\n",
            "48000/48000 [==============================] - 2s 38us/step - loss: 1.8445 - acc: 0.3756 - val_loss: 1.7888 - val_acc: 0.4829\n",
            "Epoch 165/250\n",
            "48000/48000 [==============================] - 2s 38us/step - loss: 1.8384 - acc: 0.3814 - val_loss: 1.7802 - val_acc: 0.5109\n",
            "Epoch 166/250\n",
            "48000/48000 [==============================] - 2s 38us/step - loss: 1.8293 - acc: 0.3815 - val_loss: 1.7918 - val_acc: 0.4956\n",
            "Epoch 167/250\n",
            "48000/48000 [==============================] - 2s 38us/step - loss: 1.8233 - acc: 0.3869 - val_loss: 1.7643 - val_acc: 0.5125\n",
            "Epoch 168/250\n",
            "48000/48000 [==============================] - 2s 38us/step - loss: 1.8171 - acc: 0.3895 - val_loss: 1.7526 - val_acc: 0.5293\n",
            "Epoch 169/250\n",
            "48000/48000 [==============================] - 2s 38us/step - loss: 1.8022 - acc: 0.3959 - val_loss: 1.7525 - val_acc: 0.5023\n",
            "Epoch 170/250\n",
            "48000/48000 [==============================] - 2s 38us/step - loss: 1.7997 - acc: 0.4004 - val_loss: 1.7523 - val_acc: 0.4995\n",
            "Epoch 171/250\n",
            "48000/48000 [==============================] - 2s 40us/step - loss: 1.7872 - acc: 0.4019 - val_loss: 1.7754 - val_acc: 0.4876\n",
            "Epoch 172/250\n",
            "48000/48000 [==============================] - 2s 41us/step - loss: 1.7827 - acc: 0.4030 - val_loss: 1.7254 - val_acc: 0.5309\n",
            "Epoch 173/250\n",
            "48000/48000 [==============================] - 2s 39us/step - loss: 1.7718 - acc: 0.4085 - val_loss: 1.7232 - val_acc: 0.4842\n",
            "Epoch 174/250\n",
            "48000/48000 [==============================] - 2s 39us/step - loss: 1.7716 - acc: 0.4096 - val_loss: 1.7123 - val_acc: 0.5221\n",
            "Epoch 175/250\n",
            "48000/48000 [==============================] - 2s 38us/step - loss: 1.7528 - acc: 0.4163 - val_loss: 1.6876 - val_acc: 0.5272\n",
            "Epoch 176/250\n",
            "48000/48000 [==============================] - 2s 38us/step - loss: 1.7387 - acc: 0.4259 - val_loss: 1.6689 - val_acc: 0.5482\n",
            "Epoch 177/250\n",
            "48000/48000 [==============================] - 2s 38us/step - loss: 1.7312 - acc: 0.4282 - val_loss: 1.6803 - val_acc: 0.5376\n",
            "Epoch 178/250\n",
            "48000/48000 [==============================] - 2s 38us/step - loss: 1.7258 - acc: 0.4292 - val_loss: 1.8005 - val_acc: 0.4280\n",
            "Epoch 179/250\n",
            "48000/48000 [==============================] - 2s 38us/step - loss: 1.7181 - acc: 0.4315 - val_loss: 1.6450 - val_acc: 0.5457\n",
            "Epoch 180/250\n",
            "48000/48000 [==============================] - 2s 39us/step - loss: 1.6970 - acc: 0.4416 - val_loss: 1.6183 - val_acc: 0.5297\n",
            "Epoch 181/250\n",
            "48000/48000 [==============================] - 2s 38us/step - loss: 1.6931 - acc: 0.4419 - val_loss: 1.6255 - val_acc: 0.5517\n",
            "Epoch 182/250\n",
            "48000/48000 [==============================] - 2s 38us/step - loss: 1.6837 - acc: 0.4458 - val_loss: 1.6013 - val_acc: 0.5577\n",
            "Epoch 183/250\n",
            "48000/48000 [==============================] - 2s 38us/step - loss: 1.6660 - acc: 0.4506 - val_loss: 1.5790 - val_acc: 0.5306\n",
            "Epoch 184/250\n",
            "48000/48000 [==============================] - 2s 38us/step - loss: 1.6518 - acc: 0.4566 - val_loss: 1.5643 - val_acc: 0.5553\n",
            "Epoch 185/250\n",
            "48000/48000 [==============================] - 2s 38us/step - loss: 1.6382 - acc: 0.4626 - val_loss: 1.6742 - val_acc: 0.4724\n",
            "Epoch 186/250\n",
            "48000/48000 [==============================] - 2s 38us/step - loss: 1.6277 - acc: 0.4626 - val_loss: 1.5537 - val_acc: 0.5465\n",
            "Epoch 187/250\n",
            "48000/48000 [==============================] - 2s 38us/step - loss: 1.6127 - acc: 0.4700 - val_loss: 1.5414 - val_acc: 0.5404\n",
            "Epoch 188/250\n",
            "48000/48000 [==============================] - 2s 38us/step - loss: 1.5992 - acc: 0.4721 - val_loss: 1.5016 - val_acc: 0.5755\n",
            "Epoch 189/250\n",
            "48000/48000 [==============================] - 2s 39us/step - loss: 1.5884 - acc: 0.4762 - val_loss: 1.4938 - val_acc: 0.5545\n",
            "Epoch 190/250\n",
            "48000/48000 [==============================] - 2s 38us/step - loss: 1.5694 - acc: 0.4820 - val_loss: 1.4749 - val_acc: 0.5708\n",
            "Epoch 191/250\n",
            "48000/48000 [==============================] - 2s 38us/step - loss: 1.5601 - acc: 0.4817 - val_loss: 1.4681 - val_acc: 0.5749\n",
            "Epoch 192/250\n",
            "48000/48000 [==============================] - 2s 38us/step - loss: 1.5449 - acc: 0.4861 - val_loss: 1.4490 - val_acc: 0.5627\n",
            "Epoch 193/250\n",
            "48000/48000 [==============================] - 2s 38us/step - loss: 1.5291 - acc: 0.4917 - val_loss: 1.4235 - val_acc: 0.5727\n",
            "Epoch 194/250\n",
            "48000/48000 [==============================] - 2s 38us/step - loss: 1.5196 - acc: 0.4940 - val_loss: 1.5114 - val_acc: 0.5529\n",
            "Epoch 195/250\n",
            "48000/48000 [==============================] - 2s 38us/step - loss: 1.5138 - acc: 0.4936 - val_loss: 1.4019 - val_acc: 0.5872\n",
            "Epoch 196/250\n",
            "48000/48000 [==============================] - 2s 38us/step - loss: 1.4838 - acc: 0.5047 - val_loss: 1.4341 - val_acc: 0.5701\n",
            "Epoch 197/250\n",
            "48000/48000 [==============================] - 2s 38us/step - loss: 1.4796 - acc: 0.5036 - val_loss: 1.3585 - val_acc: 0.6244\n",
            "Epoch 198/250\n",
            "48000/48000 [==============================] - 2s 38us/step - loss: 1.4595 - acc: 0.5102 - val_loss: 1.3687 - val_acc: 0.5985\n",
            "Epoch 199/250\n",
            "48000/48000 [==============================] - 2s 38us/step - loss: 1.4462 - acc: 0.5128 - val_loss: 1.3426 - val_acc: 0.6142\n",
            "Epoch 200/250\n",
            "48000/48000 [==============================] - 2s 38us/step - loss: 1.4301 - acc: 0.5186 - val_loss: 1.4163 - val_acc: 0.5445\n",
            "Epoch 201/250\n",
            "48000/48000 [==============================] - 2s 38us/step - loss: 1.4220 - acc: 0.5216 - val_loss: 1.3003 - val_acc: 0.6080\n",
            "Epoch 202/250\n",
            "48000/48000 [==============================] - 2s 38us/step - loss: 1.4060 - acc: 0.5238 - val_loss: 1.2889 - val_acc: 0.6157\n",
            "Epoch 203/250\n",
            "48000/48000 [==============================] - 2s 38us/step - loss: 1.3912 - acc: 0.5274 - val_loss: 1.2907 - val_acc: 0.6219\n",
            "Epoch 204/250\n",
            "48000/48000 [==============================] - 2s 38us/step - loss: 1.3866 - acc: 0.5300 - val_loss: 1.2595 - val_acc: 0.6042\n",
            "Epoch 205/250\n",
            "48000/48000 [==============================] - 2s 38us/step - loss: 1.3680 - acc: 0.5345 - val_loss: 1.2553 - val_acc: 0.6152\n",
            "Epoch 206/250\n",
            "48000/48000 [==============================] - 2s 38us/step - loss: 1.3553 - acc: 0.5394 - val_loss: 1.2274 - val_acc: 0.6394\n",
            "Epoch 207/250\n",
            "48000/48000 [==============================] - 2s 38us/step - loss: 1.3438 - acc: 0.5394 - val_loss: 1.2456 - val_acc: 0.5826\n",
            "Epoch 208/250\n",
            "48000/48000 [==============================] - 2s 38us/step - loss: 1.3287 - acc: 0.5438 - val_loss: 1.2069 - val_acc: 0.6128\n",
            "Epoch 209/250\n",
            "48000/48000 [==============================] - 2s 38us/step - loss: 1.3244 - acc: 0.5464 - val_loss: 1.1929 - val_acc: 0.6473\n",
            "Epoch 210/250\n",
            "48000/48000 [==============================] - 2s 38us/step - loss: 1.3096 - acc: 0.5501 - val_loss: 1.1804 - val_acc: 0.6152\n",
            "Epoch 211/250\n",
            "48000/48000 [==============================] - 2s 38us/step - loss: 1.3022 - acc: 0.5478 - val_loss: 1.1831 - val_acc: 0.6258\n",
            "Epoch 212/250\n",
            "48000/48000 [==============================] - 2s 38us/step - loss: 1.2904 - acc: 0.5546 - val_loss: 1.2088 - val_acc: 0.6111\n",
            "Epoch 213/250\n",
            "48000/48000 [==============================] - 2s 38us/step - loss: 1.2850 - acc: 0.5556 - val_loss: 1.1383 - val_acc: 0.6461\n",
            "Epoch 214/250\n",
            "48000/48000 [==============================] - 2s 38us/step - loss: 1.2726 - acc: 0.5601 - val_loss: 1.1438 - val_acc: 0.6576\n",
            "Epoch 215/250\n",
            "48000/48000 [==============================] - 2s 38us/step - loss: 1.2636 - acc: 0.5610 - val_loss: 1.1685 - val_acc: 0.6410\n",
            "Epoch 216/250\n",
            "48000/48000 [==============================] - 2s 38us/step - loss: 1.2516 - acc: 0.5638 - val_loss: 1.1185 - val_acc: 0.6217\n",
            "Epoch 217/250\n",
            "48000/48000 [==============================] - 2s 38us/step - loss: 1.2456 - acc: 0.5665 - val_loss: 1.1096 - val_acc: 0.6508\n",
            "Epoch 218/250\n",
            "48000/48000 [==============================] - 2s 38us/step - loss: 1.2346 - acc: 0.5715 - val_loss: 1.1038 - val_acc: 0.6628\n",
            "Epoch 219/250\n",
            "48000/48000 [==============================] - 2s 38us/step - loss: 1.2288 - acc: 0.5741 - val_loss: 1.0960 - val_acc: 0.6559\n",
            "Epoch 220/250\n",
            "48000/48000 [==============================] - 2s 38us/step - loss: 1.2266 - acc: 0.5702 - val_loss: 1.0929 - val_acc: 0.6673\n",
            "Epoch 221/250\n",
            "48000/48000 [==============================] - 2s 38us/step - loss: 1.2102 - acc: 0.5759 - val_loss: 1.0675 - val_acc: 0.6824\n",
            "Epoch 222/250\n",
            "48000/48000 [==============================] - 2s 38us/step - loss: 1.2031 - acc: 0.5815 - val_loss: 1.0803 - val_acc: 0.6587\n",
            "Epoch 223/250\n",
            "48000/48000 [==============================] - 2s 39us/step - loss: 1.1981 - acc: 0.5793 - val_loss: 1.0577 - val_acc: 0.6465\n",
            "Epoch 224/250\n",
            "48000/48000 [==============================] - 2s 39us/step - loss: 1.1888 - acc: 0.5829 - val_loss: 1.0893 - val_acc: 0.6363\n",
            "Epoch 225/250\n",
            "48000/48000 [==============================] - 2s 38us/step - loss: 1.1869 - acc: 0.5835 - val_loss: 1.0401 - val_acc: 0.6645\n",
            "Epoch 226/250\n",
            "48000/48000 [==============================] - 2s 38us/step - loss: 1.1753 - acc: 0.5882 - val_loss: 1.0239 - val_acc: 0.6852\n",
            "Epoch 227/250\n",
            "48000/48000 [==============================] - 2s 39us/step - loss: 1.1766 - acc: 0.5850 - val_loss: 1.0440 - val_acc: 0.6629\n",
            "Epoch 228/250\n",
            "48000/48000 [==============================] - 2s 38us/step - loss: 1.1623 - acc: 0.5925 - val_loss: 1.0312 - val_acc: 0.6623\n",
            "Epoch 229/250\n",
            "48000/48000 [==============================] - 2s 38us/step - loss: 1.1554 - acc: 0.5934 - val_loss: 1.0697 - val_acc: 0.6603\n",
            "Epoch 230/250\n",
            "48000/48000 [==============================] - 2s 38us/step - loss: 1.1563 - acc: 0.5932 - val_loss: 1.0142 - val_acc: 0.6623\n",
            "Epoch 231/250\n",
            "48000/48000 [==============================] - 2s 38us/step - loss: 1.1485 - acc: 0.5964 - val_loss: 1.0210 - val_acc: 0.6783\n",
            "Epoch 232/250\n",
            "48000/48000 [==============================] - 2s 38us/step - loss: 1.1401 - acc: 0.5977 - val_loss: 1.0329 - val_acc: 0.6436\n",
            "Epoch 233/250\n",
            "48000/48000 [==============================] - 2s 38us/step - loss: 1.1378 - acc: 0.5991 - val_loss: 1.0052 - val_acc: 0.6673\n",
            "Epoch 234/250\n",
            "48000/48000 [==============================] - 2s 38us/step - loss: 1.1402 - acc: 0.5967 - val_loss: 0.9702 - val_acc: 0.7011\n",
            "Epoch 235/250\n",
            "48000/48000 [==============================] - 2s 38us/step - loss: 1.1279 - acc: 0.6029 - val_loss: 1.0005 - val_acc: 0.6508\n",
            "Epoch 236/250\n",
            "48000/48000 [==============================] - 2s 38us/step - loss: 1.1251 - acc: 0.6026 - val_loss: 0.9732 - val_acc: 0.6949\n",
            "Epoch 237/250\n",
            "48000/48000 [==============================] - 2s 39us/step - loss: 1.1179 - acc: 0.6051 - val_loss: 0.9909 - val_acc: 0.6845\n",
            "Epoch 238/250\n",
            "48000/48000 [==============================] - 2s 39us/step - loss: 1.1207 - acc: 0.6048 - val_loss: 0.9728 - val_acc: 0.6839\n",
            "Epoch 239/250\n",
            "48000/48000 [==============================] - 2s 39us/step - loss: 1.1141 - acc: 0.6066 - val_loss: 0.9620 - val_acc: 0.6851\n",
            "Epoch 240/250\n",
            "48000/48000 [==============================] - 2s 39us/step - loss: 1.1085 - acc: 0.6073 - val_loss: 0.9636 - val_acc: 0.6968\n",
            "Epoch 241/250\n",
            "48000/48000 [==============================] - 2s 39us/step - loss: 1.1034 - acc: 0.6113 - val_loss: 0.9593 - val_acc: 0.6790\n",
            "Epoch 242/250\n",
            "48000/48000 [==============================] - 2s 38us/step - loss: 1.0972 - acc: 0.6102 - val_loss: 1.0020 - val_acc: 0.6482\n",
            "Epoch 243/250\n",
            "48000/48000 [==============================] - 2s 38us/step - loss: 1.1042 - acc: 0.6089 - val_loss: 0.9781 - val_acc: 0.6884\n",
            "Epoch 244/250\n",
            "48000/48000 [==============================] - 2s 38us/step - loss: 1.0932 - acc: 0.6132 - val_loss: 1.0022 - val_acc: 0.6576\n",
            "Epoch 245/250\n",
            "48000/48000 [==============================] - 2s 38us/step - loss: 1.0899 - acc: 0.6167 - val_loss: 0.9218 - val_acc: 0.7166\n",
            "Epoch 246/250\n",
            "48000/48000 [==============================] - 2s 39us/step - loss: 1.0892 - acc: 0.6145 - val_loss: 1.0476 - val_acc: 0.6372\n",
            "Epoch 247/250\n",
            "48000/48000 [==============================] - 2s 38us/step - loss: 1.0845 - acc: 0.6125 - val_loss: 0.9321 - val_acc: 0.7176\n",
            "Epoch 248/250\n",
            "48000/48000 [==============================] - 2s 39us/step - loss: 1.0747 - acc: 0.6204 - val_loss: 0.9340 - val_acc: 0.7088\n",
            "Epoch 249/250\n",
            "48000/48000 [==============================] - 2s 38us/step - loss: 1.0755 - acc: 0.6212 - val_loss: 1.0026 - val_acc: 0.6671\n",
            "Epoch 250/250\n",
            "48000/48000 [==============================] - 2s 39us/step - loss: 1.0706 - acc: 0.6215 - val_loss: 0.9361 - val_acc: 0.6842\n"
          ],
          "name": "stdout"
        }
      ]
    },
    {
      "metadata": {
        "id": "kuaRbTadUdjP",
        "colab_type": "code",
        "colab": {
          "base_uri": "https://localhost:8080/",
          "height": 34
        },
        "outputId": "760a9d75-dcca-4af5-991e-dc245dcbc14e"
      },
      "cell_type": "code",
      "source": [
        "score = model.evaluate(X_test, Y_test, verbose=VERBOSE)\n"
      ],
      "execution_count": 11,
      "outputs": [
        {
          "output_type": "stream",
          "text": [
            "10000/10000 [==============================] - 0s 35us/step\n"
          ],
          "name": "stdout"
        }
      ]
    },
    {
      "metadata": {
        "id": "MopZPjWLZOB5",
        "colab_type": "code",
        "colab": {
          "base_uri": "https://localhost:8080/",
          "height": 50
        },
        "outputId": "ca1ffce0-8ad0-48df-a72a-7c190cd4ed26"
      },
      "cell_type": "code",
      "source": [
        "print(\"Test score/loss :\", score[0])\n",
        "print(\"Test accuracy: \", score[1])"
      ],
      "execution_count": 12,
      "outputs": [
        {
          "output_type": "stream",
          "text": [
            "Test score/loss : 0.9471671822547912\n",
            "Test accuracy:  0.6755\n"
          ],
          "name": "stdout"
        }
      ]
    },
    {
      "metadata": {
        "id": "UbPDeJKHZnlN",
        "colab_type": "code",
        "colab": {
          "base_uri": "https://localhost:8080/",
          "height": 34
        },
        "outputId": "6a38b2dc-8c1f-41c5-8fbe-f605cce25a49"
      },
      "cell_type": "code",
      "source": [
        "#list all data in history\n",
        "print(history.history.keys())"
      ],
      "execution_count": 13,
      "outputs": [
        {
          "output_type": "stream",
          "text": [
            "dict_keys(['val_loss', 'val_acc', 'loss', 'acc'])\n"
          ],
          "name": "stdout"
        }
      ]
    },
    {
      "metadata": {
        "id": "DxOFf3C0Zygh",
        "colab_type": "code",
        "colab": {
          "base_uri": "https://localhost:8080/",
          "height": 376
        },
        "outputId": "50085420-14e3-485a-8a63-2c09e769ae55"
      },
      "cell_type": "code",
      "source": [
        "#plot for accuracy \n",
        "plt.plot(history.history['acc'])\n",
        "plt.plot(history.history['val_acc'])\n",
        "plt.title('model accuracy')\n",
        "plt.ylabel('accuracy')\n",
        "plt.xlabel('epoch')\n",
        "plt.legend(['train','test'], loc='upper left')\n",
        "plt.show()"
      ],
      "execution_count": 14,
      "outputs": [
        {
          "output_type": "display_data",
          "data": {
            "image/png": "[encoded data removed]",
            "text/plain": [
              "<Figure size 576x396 with 1 Axes>"
            ]
          },
          "metadata": {
            "tags": []
          }
        }
      ]
    },
    {
      "metadata": {
        "id": "mTRuju0mifJl",
        "colab_type": "code",
        "colab": {
          "base_uri": "https://localhost:8080/",
          "height": 376
        },
        "outputId": "6ae0d474-5b69-4242-cae4-635f3dd2613d"
      },
      "cell_type": "code",
      "source": [
        "#plot for loss\n",
        "plt.plot(history.history['loss'])\n",
        "plt.plot(history.history['val_loss'])\n",
        "plt.title('model loss')\n",
        "plt.ylabel('loss')\n",
        "plt.xlabel('epoch')\n",
        "plt.legend(['train','test'], loc='upper left')\n",
        "plt.show()"
      ],
      "execution_count": 15,
      "outputs": [
        {
          "output_type": "display_data",
          "data": {
            "image/png": "[encoded data removed]",
            "text/plain": [
              "<Figure size 576x396 with 1 Axes>"
            ]
          },
          "metadata": {
            "tags": []
          }
        }
      ]
    },
    {
      "metadata": {
        "id": "LDH2_7InmP5O",
        "colab_type": "code",
        "colab": {}
      },
      "cell_type": "code",
      "source": [
        ""
      ],
      "execution_count": 0,
      "outputs": []
    },
    {
      "metadata": {
        "id": "q8-oG626miIS",
        "colab_type": "text"
      },
      "cell_type": "markdown",
      "source": [
        "we only got accuracy of 64% and loss of 1.0331 when training on 250 epochs with dropout but graph of accuracy growed linearly we might be able to get better results with more epochs here\n",
        "\n",
        "also loss has been declining linearly so which gives us more reason to increase the number of epochs here in this case. "
      ]
    }
  ]
}