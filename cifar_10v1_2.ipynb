{
  "nbformat": 4,
  "nbformat_minor": 0,
  "metadata": {
    "colab": {
      "name": "cifar-10v1.2.ipynb",
      "version": "0.3.2",
      "provenance": [],
      "include_colab_link": true
    },
    "kernelspec": {
      "name": "python3",
      "display_name": "Python 3"
    }
  },
  "cells": [
    {
      "cell_type": "markdown",
      "metadata": {
        "id": "view-in-github",
        "colab_type": "text"
      },
      "source": [
        "<a href=\"https://colab.research.google.com/github/anandvimal/deeplearning-experiments/blob/master/cifar_10v1_2.ipynb\" target=\"_parent\"><img src=\"https://colab.research.google.com/assets/colab-badge.svg\" alt=\"Open In Colab\"/></a>"
      ]
    },
    {
      "metadata": {
        "id": "k5as3IS_ogim",
        "colab_type": "text"
      },
      "cell_type": "markdown",
      "source": [
        "#Experiment 1.2 on CIFAR-10 dataset\n",
        "\n",
        "we will use ImageDataGenerator in keras to generate new images by agumenting training data\n",
        "this way we will get more data to train on and our accuracy should increase. \n",
        "\n",
        "to learn more about image augmentation i found this post helpful:\n",
        "\n",
        "https://machinelearningmastery.com/image-augmentation-deep-learning-keras/\n",
        "\n"
      ]
    },
    {
      "metadata": {
        "id": "2rKiAXcooXfj",
        "colab_type": "code",
        "outputId": "754c4eda-2d5c-47c4-8df7-59f8b2d6766b",
        "colab": {
          "base_uri": "https://localhost:8080/",
          "height": 34
        }
      },
      "cell_type": "code",
      "source": [
        "https://machinelearningmastery.com/image-augmentation-deep-learning-keras/from keras.datasets import cifar10\n",
        "from keras.utils import np_utils\n",
        "from keras.models import Sequential\n",
        "from keras.layers.core import Dense, Dropout, Activation, Flatten\n",
        "from keras.layers.convolutional import Conv2D, MaxPooling2D\n",
        "from keras.optimizers import SGD, Adam, RMSprop\n",
        "import matplotlib.pyplot as plt"
      ],
      "execution_count": 0,
      "outputs": [
        {
          "output_type": "stream",
          "text": [
            "Using TensorFlow backend.\n"
          ],
          "name": "stderr"
        }
      ]
    },
    {
      "metadata": {
        "id": "Dwfq2RE9HeY6",
        "colab_type": "code",
        "colab": {}
      },
      "cell_type": "code",
      "source": [
        "#cifar-10 is a set of 60k images each of 32*32 pixels on 3 channels(rgb)\n",
        "IMG_CHANNELS = 3\n",
        "IMG_ROWS = 32\n",
        "IMG_COLS = 32"
      ],
      "execution_count": 0,
      "outputs": []
    },
    {
      "metadata": {
        "id": "EcTgnyQgMoF4",
        "colab_type": "code",
        "outputId": "8de96f17-7ba9-4552-909c-e792089755b8",
        "colab": {
          "base_uri": "https://localhost:8080/",
          "height": 87
        }
      },
      "cell_type": "code",
      "source": [
        "#constatnts\n",
        "BATCH_SIZE = 128\n",
        "NB_EPOCH = 20\n",
        "NB_CLASSES = 10\n",
        "VERBOSE = 1\n",
        "VALIDATION_SPLIT = 0.2\n",
        "OPTIM = RMSprop()\n"
      ],
      "execution_count": 0,
      "outputs": [
        {
          "output_type": "stream",
          "text": [
            "WARNING:tensorflow:From /usr/local/lib/python3.6/dist-packages/tensorflow/python/framework/op_def_library.py:263: colocate_with (from tensorflow.python.framework.ops) is deprecated and will be removed in a future version.\n",
            "Instructions for updating:\n",
            "Colocations handled automatically by placer.\n"
          ],
          "name": "stdout"
        }
      ]
    },
    {
      "metadata": {
        "id": "b3NrafNyQZMe",
        "colab_type": "code",
        "outputId": "8cefb2f0-5018-4aa4-98a6-eedde3cea9d7",
        "colab": {
          "base_uri": "https://localhost:8080/",
          "height": 67
        }
      },
      "cell_type": "code",
      "source": [
        "#load dataset\n",
        "(X_train, y_train), (X_test, y_test) =cifar10.load_data()\n",
        "print('X_train shape: ',X_train.shape)\n",
        "print(X_train.shape[0],'train samples')\n",
        "print(X_test.shape[0], 'test samples')"
      ],
      "execution_count": 0,
      "outputs": [
        {
          "output_type": "stream",
          "text": [
            "X_train shape:  (50000, 32, 32, 3)\n",
            "50000 train samples\n",
            "10000 test samples\n"
          ],
          "name": "stdout"
        }
      ]
    },
    {
      "metadata": {
        "id": "gtC-rw33Q7Id",
        "colab_type": "code",
        "colab": {}
      },
      "cell_type": "code",
      "source": [
        "# one hot encoding of labels\n",
        "Y_train = np_utils.to_categorical(y_train, NB_CLASSES)\n",
        "Y_test = np_utils.to_categorical(y_test, NB_CLASSES)"
      ],
      "execution_count": 0,
      "outputs": []
    },
    {
      "metadata": {
        "id": "xtrEuIGzH7bi",
        "colab_type": "code",
        "colab": {}
      },
      "cell_type": "code",
      "source": [
        "#Normalization of labels\n",
        "X_train = X_train.astype('float32')\n",
        "X_test = X_test.astype('float32')\n",
        "\n",
        "X_train /= 255\n",
        "X_test /= 255"
      ],
      "execution_count": 0,
      "outputs": []
    },
    {
      "metadata": {
        "id": "wsGqbfVuIS6_",
        "colab_type": "code",
        "outputId": "ec1139fd-41d0-4bd5-9588-a7ce7a22eedb",
        "colab": {
          "base_uri": "https://localhost:8080/",
          "height": 739
        }
      },
      "cell_type": "code",
      "source": [
        "# network/model\n",
        "model = Sequential()\n",
        "\n",
        "#starting with conv2d and maxpooling\n",
        "model.add(Conv2D(32, (3,3), padding='same', input_shape=(IMG_ROWS, IMG_COLS, IMG_CHANNELS)))\n",
        "model.add(Activation('relu'))\n",
        "model.add(Conv2D(32, (3, 3), padding='same'))\n",
        "model.add(Activation('relu'))\n",
        "model.add(MaxPooling2D(pool_size=(2,2)))\n",
        "model.add(Dropout(0.25))\n",
        "model.add(Conv2D(64, (3,3), padding='same'))\n",
        "model.add(Activation('relu'))\n",
        "model.add(Conv2D(64, (3,3)))\n",
        "model.add(Activation('relu'))\n",
        "model.add(MaxPooling2D(pool_size=(2,2)))\n",
        "model.add(Dropout(0.25))\n",
        "\n",
        "#flatten the model and use dense layers with dropout\n",
        "model.add(Flatten())\n",
        "model.add(Dense(512))\n",
        "model.add(Activation('relu'))\n",
        "model.add(Dropout(0.5))\n",
        "model.add(Dense(NB_CLASSES))\n",
        "model.add(Activation('softmax'))\n",
        "model.summary()\n"
      ],
      "execution_count": 0,
      "outputs": [
        {
          "output_type": "stream",
          "text": [
            "_________________________________________________________________\n",
            "Layer (type)                 Output Shape              Param #   \n",
            "=================================================================\n",
            "conv2d_4 (Conv2D)            (None, 32, 32, 32)        896       \n",
            "_________________________________________________________________\n",
            "activation_4 (Activation)    (None, 32, 32, 32)        0         \n",
            "_________________________________________________________________\n",
            "conv2d_5 (Conv2D)            (None, 32, 32, 32)        9248      \n",
            "_________________________________________________________________\n",
            "activation_5 (Activation)    (None, 32, 32, 32)        0         \n",
            "_________________________________________________________________\n",
            "max_pooling2d_2 (MaxPooling2 (None, 16, 16, 32)        0         \n",
            "_________________________________________________________________\n",
            "dropout_2 (Dropout)          (None, 16, 16, 32)        0         \n",
            "_________________________________________________________________\n",
            "conv2d_6 (Conv2D)            (None, 16, 16, 64)        18496     \n",
            "_________________________________________________________________\n",
            "activation_6 (Activation)    (None, 16, 16, 64)        0         \n",
            "_________________________________________________________________\n",
            "conv2d_7 (Conv2D)            (None, 14, 14, 64)        36928     \n",
            "_________________________________________________________________\n",
            "activation_7 (Activation)    (None, 14, 14, 64)        0         \n",
            "_________________________________________________________________\n",
            "max_pooling2d_3 (MaxPooling2 (None, 7, 7, 64)          0         \n",
            "_________________________________________________________________\n",
            "dropout_3 (Dropout)          (None, 7, 7, 64)          0         \n",
            "_________________________________________________________________\n",
            "flatten_1 (Flatten)          (None, 3136)              0         \n",
            "_________________________________________________________________\n",
            "dense_1 (Dense)              (None, 512)               1606144   \n",
            "_________________________________________________________________\n",
            "activation_8 (Activation)    (None, 512)               0         \n",
            "_________________________________________________________________\n",
            "dropout_4 (Dropout)          (None, 512)               0         \n",
            "_________________________________________________________________\n",
            "dense_2 (Dense)              (None, 10)                5130      \n",
            "_________________________________________________________________\n",
            "activation_9 (Activation)    (None, 10)                0         \n",
            "=================================================================\n",
            "Total params: 1,676,842\n",
            "Trainable params: 1,676,842\n",
            "Non-trainable params: 0\n",
            "_________________________________________________________________\n"
          ],
          "name": "stdout"
        }
      ]
    },
    {
      "metadata": {
        "id": "-xjtgbTdJ7b8",
        "colab_type": "code",
        "outputId": "2099cadb-9e32-41d6-a156-49da46fb8cef",
        "colab": {
          "base_uri": "https://localhost:8080/",
          "height": 776
        }
      },
      "cell_type": "code",
      "source": [
        "#train\n",
        "model.compile(loss='categorical_crossentropy', optimizer=OPTIM, metrics=['accuracy'])\n",
        "history = model.fit(X_train, Y_train, batch_size=BATCH_SIZE, epochs=NB_EPOCH, validation_split=VALIDATION_SPLIT, verbose=VERBOSE)\n"
      ],
      "execution_count": 0,
      "outputs": [
        {
          "output_type": "stream",
          "text": [
            "WARNING:tensorflow:From /usr/local/lib/python3.6/dist-packages/tensorflow/python/ops/math_ops.py:3066: to_int32 (from tensorflow.python.ops.math_ops) is deprecated and will be removed in a future version.\n",
            "Instructions for updating:\n",
            "Use tf.cast instead.\n",
            "Train on 40000 samples, validate on 10000 samples\n",
            "Epoch 1/20\n",
            "40000/40000 [==============================] - 237s 6ms/step - loss: 1.8124 - acc: 0.3504 - val_loss: 1.4350 - val_acc: 0.4817\n",
            "Epoch 2/20\n",
            "40000/40000 [==============================] - 234s 6ms/step - loss: 1.3386 - acc: 0.5224 - val_loss: 1.3071 - val_acc: 0.5352\n",
            "Epoch 3/20\n",
            "40000/40000 [==============================] - 234s 6ms/step - loss: 1.1282 - acc: 0.6039 - val_loss: 1.1976 - val_acc: 0.5729\n",
            "Epoch 4/20\n",
            "40000/40000 [==============================] - 234s 6ms/step - loss: 0.9880 - acc: 0.6528 - val_loss: 0.9338 - val_acc: 0.6708\n",
            "Epoch 5/20\n",
            "40000/40000 [==============================] - 235s 6ms/step - loss: 0.8867 - acc: 0.6904 - val_loss: 0.8382 - val_acc: 0.7089\n",
            "Epoch 6/20\n",
            "40000/40000 [==============================] - 235s 6ms/step - loss: 0.8147 - acc: 0.7160 - val_loss: 0.7521 - val_acc: 0.7440\n",
            "Epoch 7/20\n",
            "40000/40000 [==============================] - 235s 6ms/step - loss: 0.7540 - acc: 0.7388 - val_loss: 0.8085 - val_acc: 0.7281\n",
            "Epoch 8/20\n",
            "40000/40000 [==============================] - 235s 6ms/step - loss: 0.7033 - acc: 0.7567 - val_loss: 1.0641 - val_acc: 0.6699\n",
            "Epoch 9/20\n",
            "40000/40000 [==============================] - 234s 6ms/step - loss: 0.6621 - acc: 0.7712 - val_loss: 0.7329 - val_acc: 0.7447\n",
            "Epoch 10/20\n",
            "40000/40000 [==============================] - 236s 6ms/step - loss: 0.6276 - acc: 0.7844 - val_loss: 0.7179 - val_acc: 0.7605\n",
            "Epoch 11/20\n",
            "40000/40000 [==============================] - 238s 6ms/step - loss: 0.6045 - acc: 0.7913 - val_loss: 0.7181 - val_acc: 0.7705\n",
            "Epoch 12/20\n",
            "40000/40000 [==============================] - 237s 6ms/step - loss: 0.5814 - acc: 0.7990 - val_loss: 0.8027 - val_acc: 0.7432\n",
            "Epoch 13/20\n",
            "40000/40000 [==============================] - 237s 6ms/step - loss: 0.5651 - acc: 0.8047 - val_loss: 0.7715 - val_acc: 0.7431\n",
            "Epoch 14/20\n",
            "40000/40000 [==============================] - 236s 6ms/step - loss: 0.5517 - acc: 0.8115 - val_loss: 0.8139 - val_acc: 0.7254\n",
            "Epoch 15/20\n",
            "40000/40000 [==============================] - 236s 6ms/step - loss: 0.5456 - acc: 0.8157 - val_loss: 0.7815 - val_acc: 0.7710\n",
            "Epoch 16/20\n",
            "40000/40000 [==============================] - 236s 6ms/step - loss: 0.5374 - acc: 0.8183 - val_loss: 0.6566 - val_acc: 0.7833\n",
            "Epoch 17/20\n",
            "40000/40000 [==============================] - 236s 6ms/step - loss: 0.5398 - acc: 0.8177 - val_loss: 0.7140 - val_acc: 0.7795\n",
            "Epoch 18/20\n",
            "40000/40000 [==============================] - 236s 6ms/step - loss: 0.5314 - acc: 0.8236 - val_loss: 0.8011 - val_acc: 0.7734\n",
            "Epoch 19/20\n",
            "40000/40000 [==============================] - 238s 6ms/step - loss: 0.5255 - acc: 0.8253 - val_loss: 0.8793 - val_acc: 0.7696\n",
            "Epoch 20/20\n",
            "40000/40000 [==============================] - 236s 6ms/step - loss: 0.5331 - acc: 0.8209 - val_loss: 0.6618 - val_acc: 0.7867\n"
          ],
          "name": "stdout"
        }
      ]
    },
    {
      "metadata": {
        "id": "W8AbLq0gNM4T",
        "colab_type": "code",
        "outputId": "804f41aa-50e3-4eda-bf1b-8571a2d833e6",
        "colab": {
          "base_uri": "https://localhost:8080/",
          "height": 67
        }
      },
      "cell_type": "code",
      "source": [
        "score = model.evaluate(X_test, Y_test, batch_size=BATCH_SIZE, verbose=VERBOSE)\n",
        "print('Test score/loss: ',score[0])\n",
        "print('Test accuracy: ',score[1])\n"
      ],
      "execution_count": 0,
      "outputs": [
        {
          "output_type": "stream",
          "text": [
            "10000/10000 [==============================] - 15s 2ms/step\n",
            "Test score/loss:  0.6833030158996583\n",
            "Test accuracy:  0.7826\n"
          ],
          "name": "stdout"
        }
      ]
    },
    {
      "metadata": {
        "id": "cH81nSP6Rp0g",
        "colab_type": "code",
        "outputId": "effa7ea2-684e-4232-9461-4b471984b51a",
        "colab": {
          "base_uri": "https://localhost:8080/",
          "height": 34
        }
      },
      "cell_type": "code",
      "source": [
        "#list all data in history\n",
        "print(history.history.keys())"
      ],
      "execution_count": 0,
      "outputs": [
        {
          "output_type": "stream",
          "text": [
            "dict_keys(['val_loss', 'val_acc', 'loss', 'acc'])\n"
          ],
          "name": "stdout"
        }
      ]
    },
    {
      "metadata": {
        "id": "yxcsbr6pSBpj",
        "colab_type": "code",
        "outputId": "add9f9da-7da8-4532-f7c4-b1ca08f04171",
        "colab": {
          "base_uri": "https://localhost:8080/",
          "height": 376
        }
      },
      "cell_type": "code",
      "source": [
        "#plot for accuracy\n",
        "plt.plot(history.history['acc'])\n",
        "plt.plot(history.history['val_acc'])\n",
        "plt.title('model accuracy')\n",
        "plt.ylabel('accuracy')\n",
        "plt.xlabel('epoch')\n",
        "plt.legend(['train','test'], loc='upper left')\n",
        "plt.show()"
      ],
      "execution_count": 0,
      "outputs": [
        {
          "output_type": "display_data",
          "data": {
            "image/png": "[encoded data removed]",
            "text/plain": [
              "<Figure size 576x396 with 1 Axes>"
            ]
          },
          "metadata": {
            "tags": []
          }
        }
      ]
    },
    {
      "metadata": {
        "id": "oVK6MRBISgTj",
        "colab_type": "code",
        "outputId": "8a1d479a-4476-476b-e84f-b08d425288b5",
        "colab": {
          "base_uri": "https://localhost:8080/",
          "height": 376
        }
      },
      "cell_type": "code",
      "source": [
        "#plot for loss\n",
        "plt.plot(history.history['loss'])\n",
        "plt.plot(history.history['val_loss'])\n",
        "plt.title('model loss')\n",
        "plt.ylabel('loss')\n",
        "plt.xlabel('epoch')\n",
        "plt.legend(['train','test'], loc='upper left')\n",
        "plt.show()"
      ],
      "execution_count": 0,
      "outputs": [
        {
          "output_type": "display_data",
          "data": {
            "image/png": "[encoded data removed]",
            "text/plain": [
              "<Figure size 576x396 with 1 Axes>"
            ]
          },
          "metadata": {
            "tags": []
          }
        }
      ]
    },
    {
      "metadata": {
        "id": "CU31omrzP4Fr",
        "colab_type": "code",
        "colab": {}
      },
      "cell_type": "code",
      "source": [
        "#save model\n",
        "model_json = model.to_json()\n",
        "open('cifar10_architecture.json','w').write(model_json)\n",
        "#and the weights learned by our deep netowrk on the training set\n",
        "model.save_weights('cifar10_weights.h5', overwrite=True)"
      ],
      "execution_count": 0,
      "outputs": []
    },
    {
      "metadata": {
        "id": "78EccKQUY2Bl",
        "colab_type": "code",
        "colab": {}
      },
      "cell_type": "code",
      "source": [
        ""
      ],
      "execution_count": 0,
      "outputs": []
    },
    {
      "metadata": {
        "id": "6p40zryK-4VD",
        "colab_type": "text"
      },
      "cell_type": "markdown",
      "source": [
        ""
      ]
    }
  ]
}